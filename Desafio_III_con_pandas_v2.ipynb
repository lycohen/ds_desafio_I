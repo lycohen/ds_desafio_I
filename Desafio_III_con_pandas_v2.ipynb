{
  "nbformat": 4,
  "nbformat_minor": 0,
  "metadata": {
    "colab": {
      "name": "Desafio_III_con_pandas.v2.ipynb",
      "version": "0.3.2",
      "provenance": [],
      "collapsed_sections": [],
      "include_colab_link": true
    },
    "kernelspec": {
      "name": "python3",
      "display_name": "Python 3"
    },
    "accelerator": "GPU"
  },
  "cells": [
    {
      "cell_type": "markdown",
      "metadata": {
        "id": "view-in-github",
        "colab_type": "text"
      },
      "source": [
        "[View in Colaboratory](https://colab.research.google.com/github/lycohen/ds_desafio_I/blob/master/Desafio_III_con_pandas_v2.ipynb)"
      ]
    },
    {
      "metadata": {
        "id": "SzibsRaTIVhL",
        "colab_type": "code",
        "outputId": "bf9d7f7f-1f2f-4a9b-ead8-26dae71555ec",
        "colab": {
          "base_uri": "https://localhost:8080/",
          "height": 216
        }
      },
      "cell_type": "code",
      "source": [
        "! pip install pydrive\n",
        "! pip install sklearn\n",
        "\n",
        "# these classes allow you to request the Google drive API\n",
        "from pydrive.auth import GoogleAuth\n",
        "from pydrive.drive import GoogleDrive \n",
        "from google.colab import auth \n",
        "from oauth2client.client import GoogleCredentials\n",
        "\n",
        "# 1. Authenticate and create the PyDrive client.\n",
        "auth.authenticate_user()\n",
        "gauth = GoogleAuth()\n",
        "gauth.credentials = GoogleCredentials.get_application_default()\n",
        "drive = GoogleDrive(gauth)\n",
        "file_id_15 = '1Oden9as5wDneEm--EvypPFzQ0l1LK2xW'\n",
        "\n",
        "file_id_16 = '1gCDKeVRyFNTb8DK1_Rxov0j-FniBo5nK'\n",
        "file_id_17 = '1Kfgnl1E53pXRvw24O2c2Vj9GYIbqE5wZ'\n",
        "file_id_18= '15tAV6dotJY2nSaxp_x3CCTmpWkZmzS2G'\n",
        "file_id_19= '16qqIgdVFwgdTIsQcRorMt4X-8fKupqb7'\n",
        "file_id_20= '15cM8zF7rrVisxtKXlD94EfLuVamkXf_k'\n",
        "file_id_21= '17HOAScPpOg92-zepqA_p0sJ8iPfU_yru'\n",
        "file_id_Test =  '1NMI7QW7l63Uq42yd3ytBaNG224auwi23'\n",
        "\n",
        "\n",
        "downloadedF15  = drive.CreateFile({'id': file_id_15})\n",
        "downloadedF16  = drive.CreateFile({'id': file_id_16})\n",
        "downloadedF17  = drive.CreateFile({'id': file_id_17})\n",
        "downloadedF18  = drive.CreateFile({'id': file_id_18})\n",
        "downloadedF19  = drive.CreateFile({'id': file_id_19})\n",
        "downloadedF20  = drive.CreateFile({'id': file_id_20})\n",
        "downloadedF21  = drive.CreateFile({'id': file_id_21})\n",
        "downloadedFTest  = drive.CreateFile({'id': file_id_Test})\n",
        "\n",
        "# allows you to temporarily load your file in the notebook VM\n",
        "\n",
        "# assume the file is called file.csv and it's located at the root of your drive\n",
        "downloadedF15.GetContentFile('ctr_15.zip')\n",
        "downloadedF16.GetContentFile('ctr_16.zip')\n",
        "downloadedF17.GetContentFile('ctr_17.zip')\n",
        "downloadedF18.GetContentFile('ctr_18.zip')\n",
        "downloadedF19.GetContentFile('ctr_19.zip')\n",
        "downloadedF20.GetContentFile('ctr_20.zip')\n",
        "downloadedF21.GetContentFile('ctr_21.zip')\n",
        "downloadedFTest.GetContentFile('ctr_test_labeled.zip')\n",
        "#print (file)"
      ],
      "execution_count": 1,
      "outputs": [
        {
          "output_type": "stream",
          "text": [
            "Requirement already satisfied: pydrive in /usr/local/lib/python3.6/dist-packages (1.3.1)\n",
            "Requirement already satisfied: google-api-python-client>=1.2 in /usr/local/lib/python3.6/dist-packages (from pydrive) (1.6.7)\n",
            "Requirement already satisfied: PyYAML>=3.0 in /usr/local/lib/python3.6/dist-packages (from pydrive) (3.13)\n",
            "Requirement already satisfied: oauth2client>=4.0.0 in /usr/local/lib/python3.6/dist-packages (from pydrive) (4.1.3)\n",
            "Requirement already satisfied: uritemplate<4dev,>=3.0.0 in /usr/local/lib/python3.6/dist-packages (from google-api-python-client>=1.2->pydrive) (3.0.0)\n",
            "Requirement already satisfied: httplib2<1dev,>=0.9.2 in /usr/local/lib/python3.6/dist-packages (from google-api-python-client>=1.2->pydrive) (0.11.3)\n",
            "Requirement already satisfied: six<2dev,>=1.6.1 in /usr/local/lib/python3.6/dist-packages (from google-api-python-client>=1.2->pydrive) (1.11.0)\n",
            "Requirement already satisfied: pyasn1-modules>=0.0.5 in /usr/local/lib/python3.6/dist-packages (from oauth2client>=4.0.0->pydrive) (0.2.2)\n",
            "Requirement already satisfied: rsa>=3.1.4 in /usr/local/lib/python3.6/dist-packages (from oauth2client>=4.0.0->pydrive) (4.0)\n",
            "Requirement already satisfied: pyasn1>=0.1.7 in /usr/local/lib/python3.6/dist-packages (from oauth2client>=4.0.0->pydrive) (0.4.4)\n",
            "Requirement already satisfied: sklearn in /usr/local/lib/python3.6/dist-packages (0.0)\n",
            "Requirement already satisfied: scikit-learn in /usr/local/lib/python3.6/dist-packages (from sklearn) (0.19.2)\n"
          ],
          "name": "stdout"
        }
      ]
    },
    {
      "metadata": {
        "id": "dbtHaNy5Mkty",
        "colab_type": "code",
        "colab": {}
      },
      "cell_type": "code",
      "source": [
        "import pandas as pd\n",
        "import zipfile\n",
        "import sklearn\n",
        "from sklearn.model_selection import train_test_split\n",
        "from sklearn.feature_extraction.text import FeatureHasher\n",
        "from scipy.sparse import coo_matrix, vstack\n",
        "import numpy as np\n",
        "from sklearn import linear_model as lm\n",
        "import random\n"
      ],
      "execution_count": 0,
      "outputs": []
    },
    {
      "metadata": {
        "id": "ualzAiJYN7WB",
        "colab_type": "code",
        "colab": {}
      },
      "cell_type": "code",
      "source": [
        "def getDfFeatures(df):\n",
        "  return df.iloc[:,1:]\n",
        "\n",
        "def getDfLabels(df):\n",
        "  return df.iloc[:,0:1].values"
      ],
      "execution_count": 0,
      "outputs": []
    },
    {
      "metadata": {
        "id": "QTHLrmnMLj6V",
        "colab_type": "code",
        "colab": {}
      },
      "cell_type": "code",
      "source": [
        "def getDf(arch):\n",
        "  return pd.read_csv(zipfile.ZipFile(arch+'.zip').open(arch+'.csv'))\n",
        "\n",
        "def getDfTest():\n",
        "  return pd.read_csv(zipfile.ZipFile('ctr_test_labeled.zip').open('ctr_test.csv'))\n",
        "\n"
      ],
      "execution_count": 0,
      "outputs": []
    },
    {
      "metadata": {
        "id": "INI1xQIiy2Ht",
        "colab_type": "code",
        "colab": {}
      },
      "cell_type": "code",
      "source": [
        "def fillna(X):\n",
        "  X['bid_floor_group']= pd.cut(X.auction_bidfloor.values,4,labels=['1q','2q', '3q', '4q'])\n",
        "  X['auction_age_group'] = pd.cut(X.auction_age.fillna(-1).values,4,labels=['1q','2q', '3q', '4q'])\n",
        "  X.auction_time=X.auction_time/1000000000\n",
        "  #X.creative_height = X.creative_height.fillna(-1)        \n",
        "  #X.creative_width  = X.creative_width.fillna(-1) \n",
        "  #X.timezone_offset =X.timezone_offset.fillna(-1)  #for col in X.columns:\n",
        "  \n",
        "  for i in X.columns:\n",
        "    if (X[i].isna().sum()):\n",
        "      X[i] =X[i].fillna(-1)\n",
        "  X=X.drop(['auction_bidfloor','auction_age','action_list_1','action_list_2','auction_list_0'],axis=1)\n",
        "   \n",
        "  return X\n",
        "\n"
      ],
      "execution_count": 0,
      "outputs": []
    },
    {
      "metadata": {
        "id": "h6HoV0Y3oRBc",
        "colab_type": "code",
        "colab": {}
      },
      "cell_type": "code",
      "source": [
        "####Con el feature hasher de sklearn\n",
        "vec = FeatureHasher(n_features=5000,input_type='dict',dtype =np.float64, non_negative=False)\n",
        "#clf2 = lm.SGDClassifier(loss='log',penalty = 'l2',fit_intercept=True,n_jobs=64,warm_start=False,shuffle=False,verbose=0,n_iter=2) # shuffle=True is useless here\n",
        "clf2 = lm.SGDClassifier(loss='log',penalty = 'l2',fit_intercept=True,n_jobs=64,warm_start=True,shuffle=True,verbose=0,tol=1e-3,l1_ratio=0.15,alpha=0.1) # shuffle=True is useless here\n",
        "#clf2 = lm.SGDClassifier(loss='log',penalty = 'l2',fit_intercept=True,n_jobs=64,warm_start=False,shuffle=False,verbose=0) # shuffle=True is useless here\n"
      ],
      "execution_count": 0,
      "outputs": []
    },
    {
      "metadata": {
        "id": "mPx_uNxjPcEX",
        "colab_type": "code",
        "colab": {}
      },
      "cell_type": "code",
      "source": [
        "\n",
        "\n",
        "\n",
        "train=fillna(pd.concat([getDf('ctr_15'),getDf('ctr_16')],axis=0))\n",
        "test= fillna(getDfTest())\n",
        "\n",
        "#df = pd.concat([getDf('ctr_15'),getDf('ctr_16')],axis=0)\n",
        "\n",
        "#dfTest = getDfTest()\n",
        "#train, test = train_test_split(df, test_size=0.1)  \n",
        "\n",
        "Ytrain = train['Label'].values\n",
        "Ytest = test['Label'].values\n",
        "\n",
        "\n"
      ],
      "execution_count": 0,
      "outputs": []
    },
    {
      "metadata": {
        "id": "oFwVmfYtofrl",
        "colab_type": "code",
        "colab": {}
      },
      "cell_type": "code",
      "source": [
        "Xttest = vec.fit_transform(test.iloc[:,1:].to_dict(orient='records'))\n"
      ],
      "execution_count": 0,
      "outputs": []
    },
    {
      "metadata": {
        "id": "U4BqpbrLrJIc",
        "colab_type": "code",
        "outputId": "91cd6e86-e143-4212-9b7a-8af1924b6df3",
        "colab": {
          "base_uri": "https://localhost:8080/",
          "height": 66
        }
      },
      "cell_type": "code",
      "source": [
        "display(Xttest,len(Ytest))"
      ],
      "execution_count": 11,
      "outputs": [
        {
          "output_type": "display_data",
          "data": {
            "text/plain": [
              "<1139639x5000 sparse matrix of type '<class 'numpy.float64'>'\n",
              "\twith 54575076 stored elements in Compressed Sparse Row format>"
            ]
          },
          "metadata": {
            "tags": []
          }
        },
        {
          "output_type": "display_data",
          "data": {
            "text/plain": [
              "1139639"
            ]
          },
          "metadata": {
            "tags": []
          }
        }
      ]
    },
    {
      "metadata": {
        "id": "wMIArAa_59E_",
        "colab_type": "code",
        "colab": {}
      },
      "cell_type": "code",
      "source": [
        "from sklearn.metrics import log_loss, r2_score\n"
      ],
      "execution_count": 0,
      "outputs": []
    },
    {
      "metadata": {
        "id": "Oi5VxCNm2Mq_",
        "colab_type": "code",
        "outputId": "fa27f8e3-b53a-4811-9986-a3c7dfcff087",
        "colab": {
          "base_uri": "https://localhost:8080/",
          "height": 50
        }
      },
      "cell_type": "code",
      "source": [
        "\n",
        "df = train\n",
        "nicial=-1\n",
        "paso=2000\n",
        "scores=[]\n",
        "\n",
        "for n in range(1,df.shape[0]-1,paso):\n",
        "  nicial=nicial+paso\n",
        "  #print(n-1,nicial)\n",
        "  X=train.iloc[n-1:nicial,1:]\n",
        "  Yt=train.iloc[n-1:nicial,:].Label\n",
        "  dictX = X[X.columns].to_dict(orient='records')\n",
        "  try:\n",
        "    Xt = vec.fit_transform(dictX)\n",
        "   \n",
        "    clf2.partial_fit(Xt,Yt,classes=np.unique(Yt));\n",
        "    ypred = clf2.predict_proba(Xttest)\n",
        "    #print(clf2.score(Xttest,Ytest))\n",
        "    scores.append([clf2.score(Xttest,Ytest),r2_score(Ytest, ypred[:, 1]),log_loss(Ytest, ypred[:, 1])] )\n",
        "  except Exception as e :\n",
        "    #pass\n",
        "    print (str(e))#print(dictX)#Y=df.iloc[n-1:nicial,:].Label\n",
        "  #clf2.partial_fit(Xt, Y, classes=np.unique(Y))\n",
        " \n",
        "  \n",
        "\n",
        "  #print (clf2.score(Xt, Y))\n",
        "\n",
        "\n",
        "\n"
      ],
      "execution_count": 74,
      "outputs": [
        {
          "output_type": "stream",
          "text": [
            "/usr/local/lib/python3.6/dist-packages/sklearn/linear_model/base.py:340: RuntimeWarning: overflow encountered in exp\n",
            "  np.exp(prob, prob)\n"
          ],
          "name": "stderr"
        }
      ]
    },
    {
      "metadata": {
        "id": "hYV-A7wQq9nF",
        "colab_type": "code",
        "colab": {}
      },
      "cell_type": "code",
      "source": [
        "scores=pd.DataFrame(scores,columns=['accuracy','r2','logloss'])\n"
      ],
      "execution_count": 0,
      "outputs": []
    },
    {
      "metadata": {
        "id": "EeWrWWW_Zwjb",
        "colab_type": "code",
        "colab": {
          "base_uri": "https://localhost:8080/",
          "height": 287
        },
        "outputId": "66405aab-f717-46ca-a7e5-0233f77e01b2"
      },
      "cell_type": "code",
      "source": [
        "scores['indice']=scores.index\n",
        "scores.describe()"
      ],
      "execution_count": 80,
      "outputs": [
        {
          "output_type": "execute_result",
          "data": {
            "text/html": [
              "<div>\n",
              "<style scoped>\n",
              "    .dataframe tbody tr th:only-of-type {\n",
              "        vertical-align: middle;\n",
              "    }\n",
              "\n",
              "    .dataframe tbody tr th {\n",
              "        vertical-align: top;\n",
              "    }\n",
              "\n",
              "    .dataframe thead th {\n",
              "        text-align: right;\n",
              "    }\n",
              "</style>\n",
              "<table border=\"1\" class=\"dataframe\">\n",
              "  <thead>\n",
              "    <tr style=\"text-align: right;\">\n",
              "      <th></th>\n",
              "      <th>accuracy</th>\n",
              "      <th>r2</th>\n",
              "      <th>logloss</th>\n",
              "      <th>indice</th>\n",
              "    </tr>\n",
              "  </thead>\n",
              "  <tbody>\n",
              "    <tr>\n",
              "      <th>count</th>\n",
              "      <td>1166.000000</td>\n",
              "      <td>1166.000000</td>\n",
              "      <td>1166.000000</td>\n",
              "      <td>1166.000000</td>\n",
              "    </tr>\n",
              "    <tr>\n",
              "      <th>mean</th>\n",
              "      <td>0.956633</td>\n",
              "      <td>-1.688201</td>\n",
              "      <td>0.799327</td>\n",
              "      <td>582.500000</td>\n",
              "    </tr>\n",
              "    <tr>\n",
              "      <th>std</th>\n",
              "      <td>0.130566</td>\n",
              "      <td>7.981279</td>\n",
              "      <td>1.774251</td>\n",
              "      <td>336.739514</td>\n",
              "    </tr>\n",
              "    <tr>\n",
              "      <th>min</th>\n",
              "      <td>0.021376</td>\n",
              "      <td>-60.174498</td>\n",
              "      <td>0.287778</td>\n",
              "      <td>0.000000</td>\n",
              "    </tr>\n",
              "    <tr>\n",
              "      <th>25%</th>\n",
              "      <td>0.984104</td>\n",
              "      <td>-0.015857</td>\n",
              "      <td>0.426791</td>\n",
              "      <td>291.250000</td>\n",
              "    </tr>\n",
              "    <tr>\n",
              "      <th>50%</th>\n",
              "      <td>0.984104</td>\n",
              "      <td>-0.015767</td>\n",
              "      <td>0.448116</td>\n",
              "      <td>582.500000</td>\n",
              "    </tr>\n",
              "    <tr>\n",
              "      <th>75%</th>\n",
              "      <td>0.984104</td>\n",
              "      <td>-0.015676</td>\n",
              "      <td>0.469652</td>\n",
              "      <td>873.750000</td>\n",
              "    </tr>\n",
              "    <tr>\n",
              "      <th>max</th>\n",
              "      <td>0.984104</td>\n",
              "      <td>-0.013350</td>\n",
              "      <td>16.075825</td>\n",
              "      <td>1165.000000</td>\n",
              "    </tr>\n",
              "  </tbody>\n",
              "</table>\n",
              "</div>"
            ],
            "text/plain": [
              "          accuracy           r2      logloss       indice\n",
              "count  1166.000000  1166.000000  1166.000000  1166.000000\n",
              "mean      0.956633    -1.688201     0.799327   582.500000\n",
              "std       0.130566     7.981279     1.774251   336.739514\n",
              "min       0.021376   -60.174498     0.287778     0.000000\n",
              "25%       0.984104    -0.015857     0.426791   291.250000\n",
              "50%       0.984104    -0.015767     0.448116   582.500000\n",
              "75%       0.984104    -0.015676     0.469652   873.750000\n",
              "max       0.984104    -0.013350    16.075825  1165.000000"
            ]
          },
          "metadata": {
            "tags": []
          },
          "execution_count": 80
        }
      ]
    },
    {
      "metadata": {
        "id": "IOF3aRMdy0SI",
        "colab_type": "code",
        "colab": {
          "base_uri": "https://localhost:8080/",
          "height": 361
        },
        "outputId": "c97e9b8a-2eba-4f39-90c2-dccdee310f4f"
      },
      "cell_type": "code",
      "source": [
        "ax1 = scores.plot.scatter(y='logloss',x='indice',c='DarkBlue')"
      ],
      "execution_count": 81,
      "outputs": [
        {
          "output_type": "display_data",
          "data": {
            "image/png": "[encoded data removed]",
            "text/plain": [
              "<matplotlib.figure.Figure at 0x7f1c44ccc3c8>"
            ]
          },
          "metadata": {
            "tags": []
          }
        }
      ]
    },
    {
      "metadata": {
        "id": "MP9Hs2VfG92J",
        "colab_type": "code",
        "colab": {
          "base_uri": "https://localhost:8080/",
          "height": 361
        },
        "outputId": "246e6351-9289-449f-b949-d4ebaefe1316"
      },
      "cell_type": "code",
      "source": [
        "ax1 = scores.plot.scatter(y='r2',x='indice',c='green')"
      ],
      "execution_count": 82,
      "outputs": [
        {
          "output_type": "display_data",
          "data": {
            "image/png": "[encoded data removed]",
            "text/plain": [
              "<matplotlib.figure.Figure at 0x7f1c0e3b9d68>"
            ]
          },
          "metadata": {
            "tags": []
          }
        }
      ]
    },
    {
      "metadata": {
        "id": "WYWdlXMZy0Uv",
        "colab_type": "code",
        "colab": {
          "base_uri": "https://localhost:8080/",
          "height": 161
        },
        "outputId": "7a25df88-ef6e-4806-87f9-58d83a986625"
      },
      "cell_type": "code",
      "source": [
        "ax1 = scores.plot.scatter(y='accuracy',x='indice',c='green')"
      ],
      "execution_count": 112,
      "outputs": [
        {
          "output_type": "error",
          "ename": "AttributeError",
          "evalue": "ignored",
          "traceback": [
            "\u001b[0;31m---------------------------------------------------------------------------\u001b[0m",
            "\u001b[0;31mAttributeError\u001b[0m                            Traceback (most recent call last)",
            "\u001b[0;32m<ipython-input-112-213bab1d7715>\u001b[0m in \u001b[0;36m<module>\u001b[0;34m()\u001b[0m\n\u001b[0;32m----> 1\u001b[0;31m \u001b[0max1\u001b[0m \u001b[0;34m=\u001b[0m \u001b[0mscores\u001b[0m\u001b[0;34m.\u001b[0m\u001b[0mix\u001b[0m\u001b[0;34m[\u001b[0m\u001b[0;36m0\u001b[0m\u001b[0;34m:\u001b[0m\u001b[0;36m150\u001b[0m\u001b[0;34m]\u001b[0m\u001b[0;34m.\u001b[0m\u001b[0mplot\u001b[0m\u001b[0;34m.\u001b[0m\u001b[0mscatter\u001b[0m\u001b[0;34m(\u001b[0m\u001b[0my\u001b[0m\u001b[0;34m=\u001b[0m\u001b[0;34m'accuracy'\u001b[0m\u001b[0;34m,\u001b[0m\u001b[0mx\u001b[0m\u001b[0;34m=\u001b[0m\u001b[0;34m'indice'\u001b[0m\u001b[0;34m,\u001b[0m\u001b[0mc\u001b[0m\u001b[0;34m=\u001b[0m\u001b[0;34m'green'\u001b[0m\u001b[0;34m)\u001b[0m\u001b[0;34m\u001b[0m\u001b[0m\n\u001b[0m",
            "\u001b[0;31mAttributeError\u001b[0m: 'list' object has no attribute 'ix'"
          ]
        }
      ]
    },
    {
      "metadata": {
        "id": "epvO7RE1y0ab",
        "colab_type": "code",
        "colab": {}
      },
      "cell_type": "code",
      "source": [
        ""
      ],
      "execution_count": 0,
      "outputs": []
    },
    {
      "metadata": {
        "id": "LwdB83-Yy0dR",
        "colab_type": "code",
        "colab": {}
      },
      "cell_type": "code",
      "source": [
        ""
      ],
      "execution_count": 0,
      "outputs": []
    },
    {
      "metadata": {
        "id": "9220mwGGy0h_",
        "colab_type": "code",
        "colab": {}
      },
      "cell_type": "code",
      "source": [
        "from sklearn.naive_bayes import BernoulliNB\n",
        "clf = BernoulliNB( fit_prior=True, class_prior=None)"
      ],
      "execution_count": 0,
      "outputs": []
    },
    {
      "metadata": {
        "id": "sKPozd7my0kr",
        "colab_type": "code",
        "colab": {}
      },
      "cell_type": "code",
      "source": [
        "\n",
        "df = train\n",
        "nicial=-1\n",
        "paso=2000\n",
        "scores=[]\n",
        "\n",
        "for n in range(1,df.shape[0]-1,paso):\n",
        "  nicial=nicial+paso\n",
        "  #print(n-1,nicial)\n",
        "  X=train.iloc[n-1:nicial,1:]\n",
        "  Yt=train.iloc[n-1:nicial,:].Label\n",
        "  dictX = X[X.columns].to_dict(orient='records')\n",
        "  try:\n",
        "    Xt = vec.fit_transform(dictX)\n",
        "   \n",
        "    clf.partial_fit(Xt,Yt,classes=np.unique(Yt));\n",
        "    ypred = clf.predict_proba(Xttest)\n",
        "    #print(clf2.score(Xttest,Ytest))\n",
        "    scores.append([clf.score(Xttest,Ytest),r2_score(Ytest, ypred[:, 1]),log_loss(Ytest, ypred[:, 1])] )\n",
        "  except Exception as e :\n",
        "    #pass\n",
        "    print (str(e))#print(dictX)#Y=df.iloc[n-1:nicial,:].Label\n",
        "  #clf2.partial_fit(Xt, Y, classes=np.unique(Y))\n",
        "\n",
        "  \n",
        "  \n",
        "  \n",
        "  "
      ],
      "execution_count": 0,
      "outputs": []
    },
    {
      "metadata": {
        "id": "qcF6eRfVy0pZ",
        "colab_type": "code",
        "colab": {}
      },
      "cell_type": "code",
      "source": [
        "scoresNB=pd.DataFrame(scores,columns=['accuracy','r2','logloss'])\n",
        "scoresNB['indices']=scoresNB.index\n"
      ],
      "execution_count": 0,
      "outputs": []
    },
    {
      "metadata": {
        "id": "VyjQUHYXy0sD",
        "colab_type": "code",
        "colab": {
          "base_uri": "https://localhost:8080/",
          "height": 287
        },
        "outputId": "765e300c-a9f3-4252-bb9a-60b22a3098c5"
      },
      "cell_type": "code",
      "source": [
        "scoresNB.describe()"
      ],
      "execution_count": 106,
      "outputs": [
        {
          "output_type": "execute_result",
          "data": {
            "text/html": [
              "<div>\n",
              "<style scoped>\n",
              "    .dataframe tbody tr th:only-of-type {\n",
              "        vertical-align: middle;\n",
              "    }\n",
              "\n",
              "    .dataframe tbody tr th {\n",
              "        vertical-align: top;\n",
              "    }\n",
              "\n",
              "    .dataframe thead th {\n",
              "        text-align: right;\n",
              "    }\n",
              "</style>\n",
              "<table border=\"1\" class=\"dataframe\">\n",
              "  <thead>\n",
              "    <tr style=\"text-align: right;\">\n",
              "      <th></th>\n",
              "      <th>accuracy</th>\n",
              "      <th>r2</th>\n",
              "      <th>logloss</th>\n",
              "      <th>indices</th>\n",
              "    </tr>\n",
              "  </thead>\n",
              "  <tbody>\n",
              "    <tr>\n",
              "      <th>count</th>\n",
              "      <td>166.000000</td>\n",
              "      <td>166.000000</td>\n",
              "      <td>166.000000</td>\n",
              "      <td>166.000000</td>\n",
              "    </tr>\n",
              "    <tr>\n",
              "      <th>mean</th>\n",
              "      <td>0.805925</td>\n",
              "      <td>-9.327882</td>\n",
              "      <td>0.717017</td>\n",
              "      <td>82.500000</td>\n",
              "    </tr>\n",
              "    <tr>\n",
              "      <th>std</th>\n",
              "      <td>0.061758</td>\n",
              "      <td>3.240323</td>\n",
              "      <td>0.159730</td>\n",
              "      <td>48.064193</td>\n",
              "    </tr>\n",
              "    <tr>\n",
              "      <th>min</th>\n",
              "      <td>0.735918</td>\n",
              "      <td>-12.972934</td>\n",
              "      <td>0.227102</td>\n",
              "      <td>0.000000</td>\n",
              "    </tr>\n",
              "    <tr>\n",
              "      <th>25%</th>\n",
              "      <td>0.767984</td>\n",
              "      <td>-11.248373</td>\n",
              "      <td>0.671676</td>\n",
              "      <td>41.250000</td>\n",
              "    </tr>\n",
              "    <tr>\n",
              "      <th>50%</th>\n",
              "      <td>0.791655</td>\n",
              "      <td>-10.100671</td>\n",
              "      <td>0.728950</td>\n",
              "      <td>82.500000</td>\n",
              "    </tr>\n",
              "    <tr>\n",
              "      <th>75%</th>\n",
              "      <td>0.812943</td>\n",
              "      <td>-9.115305</td>\n",
              "      <td>0.838180</td>\n",
              "      <td>123.750000</td>\n",
              "    </tr>\n",
              "    <tr>\n",
              "      <th>max</th>\n",
              "      <td>0.984104</td>\n",
              "      <td>-0.016153</td>\n",
              "      <td>0.942872</td>\n",
              "      <td>165.000000</td>\n",
              "    </tr>\n",
              "  </tbody>\n",
              "</table>\n",
              "</div>"
            ],
            "text/plain": [
              "         accuracy          r2     logloss     indices\n",
              "count  166.000000  166.000000  166.000000  166.000000\n",
              "mean     0.805925   -9.327882    0.717017   82.500000\n",
              "std      0.061758    3.240323    0.159730   48.064193\n",
              "min      0.735918  -12.972934    0.227102    0.000000\n",
              "25%      0.767984  -11.248373    0.671676   41.250000\n",
              "50%      0.791655  -10.100671    0.728950   82.500000\n",
              "75%      0.812943   -9.115305    0.838180  123.750000\n",
              "max      0.984104   -0.016153    0.942872  165.000000"
            ]
          },
          "metadata": {
            "tags": []
          },
          "execution_count": 106
        }
      ]
    },
    {
      "metadata": {
        "id": "0u74K0muy0w1",
        "colab_type": "code",
        "colab": {
          "base_uri": "https://localhost:8080/",
          "height": 361
        },
        "outputId": "d48e8586-1f85-4b05-c092-5452c9afd8c4"
      },
      "cell_type": "code",
      "source": [
        "ax1 = scoresNB.plot.scatter(y='accuracy',x='indices',c='green')"
      ],
      "execution_count": 114,
      "outputs": [
        {
          "output_type": "display_data",
          "data": {
            "image/png": "[encoded data removed]",
            "text/plain": [
              "<matplotlib.figure.Figure at 0x7f1c2a9e5630>"
            ]
          },
          "metadata": {
            "tags": []
          }
        }
      ]
    },
    {
      "metadata": {
        "id": "kaMhCkeLy0zd",
        "colab_type": "code",
        "colab": {
          "base_uri": "https://localhost:8080/",
          "height": 361
        },
        "outputId": "2e6d13db-c771-41c8-d3de-017e61f77171"
      },
      "cell_type": "code",
      "source": [
        "ax1 = scoresNB.plot.scatter(y='r2',x='indices',c='green')"
      ],
      "execution_count": 109,
      "outputs": [
        {
          "output_type": "display_data",
          "data": {
            "image/png": "[encoded data removed]",
            "text/plain": [
              "<matplotlib.figure.Figure at 0x7f1c17af2e80>"
            ]
          },
          "metadata": {
            "tags": []
          }
        }
      ]
    },
    {
      "metadata": {
        "id": "Aoincqniy065",
        "colab_type": "code",
        "colab": {
          "base_uri": "https://localhost:8080/",
          "height": 361
        },
        "outputId": "763f979b-2636-4fe6-bdff-eb1ec1a09d7c"
      },
      "cell_type": "code",
      "source": [
        "ax1 = scoresNB.plot.scatter(y='logloss',x='indices',c='green')"
      ],
      "execution_count": 110,
      "outputs": [
        {
          "output_type": "display_data",
          "data": {
            "image/png": "[encoded data removed]",
            "text/plain": [
              "<matplotlib.figure.Figure at 0x7f1c2fc19b38>"
            ]
          },
          "metadata": {
            "tags": []
          }
        }
      ]
    },
    {
      "metadata": {
        "id": "P1uUWoWfy04q",
        "colab_type": "code",
        "colab": {}
      },
      "cell_type": "code",
      "source": [
        ""
      ],
      "execution_count": 0,
      "outputs": []
    },
    {
      "metadata": {
        "id": "824cxF96y02U",
        "colab_type": "code",
        "colab": {}
      },
      "cell_type": "code",
      "source": [
        ""
      ],
      "execution_count": 0,
      "outputs": []
    },
    {
      "metadata": {
        "id": "E0YDKDE6y0u0",
        "colab_type": "code",
        "colab": {}
      },
      "cell_type": "code",
      "source": [
        ""
      ],
      "execution_count": 0,
      "outputs": []
    },
    {
      "metadata": {
        "id": "We2naWCUy0n0",
        "colab_type": "code",
        "colab": {}
      },
      "cell_type": "code",
      "source": [
        ""
      ],
      "execution_count": 0,
      "outputs": []
    },
    {
      "metadata": {
        "id": "P62dXvd8y0f9",
        "colab_type": "code",
        "colab": {}
      },
      "cell_type": "code",
      "source": [
        ""
      ],
      "execution_count": 0,
      "outputs": []
    },
    {
      "metadata": {
        "id": "3dQD5-z7fKMU",
        "colab_type": "code",
        "colab": {}
      },
      "cell_type": "code",
      "source": [
        ""
      ],
      "execution_count": 0,
      "outputs": []
    },
    {
      "metadata": {
        "id": "BzadvJYZaI9K",
        "colab_type": "code",
        "colab": {}
      },
      "cell_type": "code",
      "source": [
        "y_train=getDfFeatures(train)\n",
        "x_train=getDfLabels(train)"
      ],
      "execution_count": 0,
      "outputs": []
    },
    {
      "metadata": {
        "id": "9a7MO0R2QbX-",
        "colab_type": "code",
        "colab": {}
      },
      "cell_type": "code",
      "source": [
        "##Listamos las columnas por tipo\n",
        "#g = df.columns.to_series().groupby(df.dtypes).groups\n",
        "\n",
        "    "
      ],
      "execution_count": 0,
      "outputs": []
    },
    {
      "metadata": {
        "id": "g2tZ1mvzMzA8",
        "colab_type": "code",
        "colab": {}
      },
      "cell_type": "code",
      "source": [
        "from sklearn.base import BaseEstimator, TransformerMixin\n",
        "from sklearn.preprocessing import MinMaxScaler,StandardScaler\n",
        "\n",
        "class MyScaler(BaseEstimator, TransformerMixin):\n",
        "  def __init__(self, cols):\n",
        "    self.cols = cols\n",
        "\n",
        "  def fit(self, X, y=None):\n",
        "    #self.scaler = MinMaxScaler()\n",
        "    self.scaler = StandardScaler()\n",
        "    self.scaler.fit(X[self.cols])\n",
        "    return self\n",
        "\n",
        "  def transform(self, X):\n",
        "    return self.scaler.transform(X[self.cols])"
      ],
      "execution_count": 0,
      "outputs": []
    },
    {
      "metadata": {
        "id": "BDWw8S43SgAW",
        "colab_type": "code",
        "colab": {}
      },
      "cell_type": "code",
      "source": [
        ""
      ],
      "execution_count": 0,
      "outputs": []
    },
    {
      "metadata": {
        "id": "niJSKUksNRr7",
        "colab_type": "code",
        "colab": {}
      },
      "cell_type": "code",
      "source": [
        "from sklearn.feature_extraction import FeatureHasher\n",
        "from sklearn.feature_extraction.text import HashingVectorizer\n",
        "\n",
        "class MyVectorizer(BaseEstimator, TransformerMixin):\n",
        "  \n",
        "  def __init__(self, cols, hashing=None):\n",
        "    \"\"\"\n",
        "    args:\n",
        "    cols: a list of column names of the categorical variables\n",
        "    hashing: \n",
        "    If None, then vectorization is a simple one-hot-encoding.\n",
        "    If an integer, then hashing is the number of features in the output.\n",
        "        \"\"\"\n",
        "    self.cols = cols\n",
        "    self.hashing = hashing\n",
        "\n",
        "  def fit(self, X, y=None):\n",
        "\n",
        "    data = X[self.cols]\n",
        "\n",
        "    # Choose a vectorizer\n",
        "    if self.hashing is None:\n",
        "        self.myvec = HashingVectorizer()\n",
        "    else:\n",
        "        #self.myvec = FeatureHasher(n_features = self.hashing)\n",
        "        self.myvec = FeatureHasher(n_features = self.hashing, non_negative=True)\n",
        "\n",
        "    self.myvec.fit(X[self.cols].to_dict(orient='records'))\n",
        "    return self\n",
        "\n",
        "  def transform(self, X):\n",
        "\n",
        "    # Vectorize Input\n",
        "    if self.hashing is None:\n",
        "        return pd.DataFrame(\n",
        "            self.myvec.transform(X[self.cols].to_dict(orient='records')),\n",
        "            columns = self.myvec.feature_names_\n",
        "        )\n",
        "    else:\n",
        "        return pd.DataFrame(\n",
        "            self.myvec.transform(X[self.cols].to_dict(orient='records')).toarray()\n",
        "        )"
      ],
      "execution_count": 0,
      "outputs": []
    },
    {
      "metadata": {
        "id": "kH7Mz_0aOg8Z",
        "colab_type": "code",
        "colab": {}
      },
      "cell_type": "code",
      "source": [
        "search_params = {\n",
        "    'preprocess__vectorize__hashing': [20, 40, 80],\n",
        "    'predict__alpha': [.01, .1, 1, 2, 10]\n",
        "}"
      ],
      "execution_count": 0,
      "outputs": []
    },
    {
      "metadata": {
        "id": "XlvdQf6bX3AE",
        "colab_type": "code",
        "colab": {}
      },
      "cell_type": "code",
      "source": [
        "numeric_predictors=['auction_age', 'auction_bidfloor']"
      ],
      "execution_count": 0,
      "outputs": []
    },
    {
      "metadata": {
        "id": "kTv4e8FaYBDQ",
        "colab_type": "code",
        "colab": {}
      },
      "cell_type": "code",
      "source": [
        "categorical_predictors=['action_categorical_0', 'action_categorical_1', 'action_categorical_2',\n",
        "        'action_categorical_3', 'action_categorical_4', 'action_categorical_5',\n",
        "        'action_categorical_6', 'action_categorical_7', 'action_list_0',\n",
        "        'action_list_1', 'action_list_2', 'auction_boolean_0',\n",
        "        'auction_boolean_1', 'auction_boolean_2', 'auction_categorical_0',\n",
        "        'auction_categorical_1', 'auction_categorical_10',\n",
        "        'auction_categorical_11', 'auction_categorical_12',\n",
        "        'auction_categorical_2', 'auction_categorical_3',\n",
        "        'auction_categorical_4', 'auction_categorical_5',\n",
        "        'auction_categorical_6', 'auction_categorical_7',\n",
        "        'auction_categorical_8', 'auction_categorical_9', 'auction_list_0',\n",
        "        'creative_categorical_0', 'creative_categorical_1',\n",
        "        'creative_categorical_10', 'creative_categorical_11',\n",
        "        'creative_categorical_12', 'creative_categorical_2',\n",
        "        'creative_categorical_3', 'creative_categorical_4',\n",
        "        'creative_categorical_5', 'creative_categorical_6',\n",
        "        'creative_categorical_7', 'creative_categorical_8',\n",
        "        'creative_categorical_9', 'device_id_type', 'gender','creative_height']"
      ],
      "execution_count": 0,
      "outputs": []
    },
    {
      "metadata": {
        "id": "8WvHwHwidMh_",
        "colab_type": "code",
        "colab": {}
      },
      "cell_type": "code",
      "source": [
        "otros = ['auction_time','creative_height','timezone_offset', 'creative_width']"
      ],
      "execution_count": 0,
      "outputs": []
    },
    {
      "metadata": {
        "id": "hunx8O1ic7d4",
        "colab_type": "code",
        "colab": {}
      },
      "cell_type": "code",
      "source": [
        "#!pip install scikit-learn==0.20.0\n",
        "!pip install utils\n",
        " "
      ],
      "execution_count": 0,
      "outputs": []
    },
    {
      "metadata": {
        "id": "bBdFbbsvPZcG",
        "colab_type": "code",
        "colab": {}
      },
      "cell_type": "code",
      "source": [
        "import operator\n",
        "from functools import reduce\n",
        "from itertools import product as iproduct\n",
        "from collections import Counter\n",
        "from sklearn.feature_extraction import DictVectorizer\n",
        "from sklearn.linear_model import LogisticRegression\n",
        "from sklearn.linear_model import SGDClassifier\n",
        "\n",
        "\n",
        "def product(iterable, start=1):\n",
        "    return reduce(operator.mul, iterable, start)\n",
        "\n",
        "\n",
        "class PolyDictVectorizer(DictVectorizer):\n",
        "\n",
        "    def __init__(self, degree=2, sparse=True, num_types=[float]):\n",
        "        self.degree = degree\n",
        "        self.num_types = num_types\n",
        "        super().__init__(sparse=sparse)\n",
        "\n",
        "    def fit(self, X, y=None):\n",
        "        ###agregado por mi para transformar el df a diccionario.\n",
        "        X = X.to_dict(orient='records')\n",
        "        return super().fit(map(self._encode, X), y)\n",
        "\n",
        "    def _transform(self, X, fitting):\n",
        "        return super()._transform(map(self._encode, X), fitting)\n",
        "\n",
        "    def _encode(self, dic):\n",
        "        dic = {k if type(v) in self.num_types else f'{k}={v}':\n",
        "               float(v) if type(v) in self.num_types else 1\n",
        "               for k, v in dic.items()}\n",
        "        dic_keys = list(dic.keys())\n",
        "        for deg in range(2, self.degree + 1):\n",
        "            for term_keys in iproduct(dic_keys, repeat=deg):\n",
        "                term_names, term_facts = [], []\n",
        "                for k, n in Counter(term_keys).items():\n",
        "                    v = dic[k]\n",
        "                    if type(v) is int and n > 1:\n",
        "                        break\n",
        "                    term_names.append(k if n == 1 else f'{k}^{n}')\n",
        "                    term_facts.append(v**n)\n",
        "                else:  # No dummy feature was included more than once\n",
        "                    dic['*'.join(sorted(term_names))] = product(term_facts)\n",
        "        return dic\n",
        "\n"
      ],
      "execution_count": 0,
      "outputs": []
    },
    {
      "metadata": {
        "id": "_LWCPIgnOhfA",
        "colab_type": "code",
        "colab": {}
      },
      "cell_type": "code",
      "source": [
        "from sklearn.pipeline import Pipeline\n",
        "from sklearn.pipeline import FeatureUnion\n",
        "from sklearn.linear_model import SGDClassifier\n",
        "from sklearn.preprocessing import Imputer\n",
        "\n",
        "pipeline = Pipeline([\n",
        "    ('preprocess', FeatureUnion([\n",
        "        #('imp', Imputer(strategy='most_frequent', axis=0)),\n",
        "        #('scale', MyScaler(cols=numeric_predictors)),\n",
        "        #('vectorize', MyVectorizer(cols=categorical_predictors, hashing=5))\n",
        "        ('poly',PolyDictVectorizer())\n",
        "    ])),\n",
        "    ('predict', SGDClassifier())\n",
        "])"
      ],
      "execution_count": 0,
      "outputs": []
    },
    {
      "metadata": {
        "id": "mMcGNSBcacym",
        "colab_type": "code",
        "colab": {}
      },
      "cell_type": "code",
      "source": [
        ""
      ],
      "execution_count": 0,
      "outputs": []
    },
    {
      "metadata": {
        "id": "fefzgaGAasIz",
        "colab_type": "code",
        "colab": {}
      },
      "cell_type": "code",
      "source": [
        "x = pipeline.fit(y_train)"
      ],
      "execution_count": 0,
      "outputs": []
    },
    {
      "metadata": {
        "id": "73ZRQu4xOml6",
        "colab_type": "code",
        "colab": {}
      },
      "cell_type": "code",
      "source": [
        "from sklearn.model_selection import GridSearchCV\n",
        "grid_search = GridSearchCV(pipeline, search_params)\n",
        "grid_search.fit(x_train,y_train)"
      ],
      "execution_count": 0,
      "outputs": []
    },
    {
      "metadata": {
        "id": "rbonoQylt-hN",
        "colab_type": "code",
        "colab": {}
      },
      "cell_type": "code",
      "source": [
        ""
      ],
      "execution_count": 0,
      "outputs": []
    },
    {
      "metadata": {
        "id": "yAsNh_0UMxly",
        "colab_type": "text"
      },
      "cell_type": "markdown",
      "source": [
        ""
      ]
    },
    {
      "metadata": {
        "id": "HyuJDnwQMrmb",
        "colab_type": "code",
        "colab": {}
      },
      "cell_type": "code",
      "source": [
        ""
      ],
      "execution_count": 0,
      "outputs": []
    },
    {
      "metadata": {
        "id": "pqlZ4A_QNJ9B",
        "colab_type": "code",
        "colab": {}
      },
      "cell_type": "code",
      "source": [
        "SGDClassifier()\n",
        "import numpy as np\n",
        "# SGD mini-batch\n",
        "# Get num training samples\n",
        "df_train=df\n",
        "N_train = len(df_train)\n",
        "num_passes = 50\n",
        "output='Label'\n",
        "batch_size = N_train\n",
        "model = sklearn.linear_model.SGDClassifier(loss= 'log', alpha = 1, tol = 0.00001, shuffle = False, random_state = 0)\n",
        "# Set 80% of data to belong to training set; reserve the rest for validation set\n",
        "train_indices = list(range(int(0.8*N_train)))\n",
        "valid_indices = list(range(int(0.8*N_train), N_train))\n",
        "\n",
        "sgd_minibatch_scores = []\n",
        "for i in range(num_passes):\n",
        "    np.random.shuffle(train_indices)\n",
        "    for j in range(int(len(train_indices)/batch_size + 1)):\n",
        "\n",
        "        if j == int(len(train_indices)/batch_size+1):\n",
        "            batch_train_indices = train_indices[j*batch_size:]\n",
        "        else:\n",
        "            batch_train_indices = train_indices[j*batch_size:(j+1)*batch_size]\n",
        "\n",
        "        model.partial_fit(df_train.iloc[batch_train_indices], df_train[output].iloc[batch_train_indices], classes = [0,1],)\n",
        "\n",
        "    sgd_minibatch_scores.append(model.score(df_train.iloc[valid_indices], df_train[output].iloc[valid_indices]))\n"
      ],
      "execution_count": 0,
      "outputs": []
    },
    {
      "metadata": {
        "id": "h_CoVwUujNJd",
        "colab_type": "code",
        "colab": {}
      },
      "cell_type": "code",
      "source": [
        "vec = PolyDictVectorizer()\n",
        "\n",
        "for i in range(0,len(df),1000):\n",
        "  limiteSup = i + 1000\n",
        "  dfChunk = df.iloc[i:limiteSup]\n",
        "  features =getDfFeatures(dfChunk)\n",
        "  labels = getDfLabels(dfChunk)\n",
        "  dictFeat=features.to_dict(orient='records')\n",
        "   vec.fit(dictFeat)\n",
        "  "
      ],
      "execution_count": 0,
      "outputs": []
    },
    {
      "metadata": {
        "id": "hpXGibxcOLOr",
        "colab_type": "code",
        "colab": {}
      },
      "cell_type": "code",
      "source": [
        ""
      ],
      "execution_count": 0,
      "outputs": []
    },
    {
      "metadata": {
        "id": "t8xN0Qv0PIeh",
        "colab_type": "code",
        "colab": {}
      },
      "cell_type": "code",
      "source": [
        ""
      ],
      "execution_count": 0,
      "outputs": []
    },
    {
      "metadata": {
        "id": "VMjf5WAaP4EY",
        "colab_type": "code",
        "colab": {}
      },
      "cell_type": "code",
      "source": [
        "###NO FUNCIONA.\n"
      ],
      "execution_count": 0,
      "outputs": []
    },
    {
      "metadata": {
        "id": "cRalBexpRtDr",
        "colab_type": "code",
        "colab": {}
      },
      "cell_type": "code",
      "source": [
        "vec"
      ],
      "execution_count": 0,
      "outputs": []
    },
    {
      "metadata": {
        "id": "MIC38NHFQR6j",
        "colab_type": "code",
        "colab": {}
      },
      "cell_type": "code",
      "source": [
        ""
      ],
      "execution_count": 0,
      "outputs": []
    },
    {
      "metadata": {
        "id": "6TnfqDsIIWjz",
        "colab_type": "code",
        "colab": {}
      },
      "cell_type": "code",
      "source": [
        "dfFull  =  pd.concat([pd.read_csv(zipfile.ZipFile('ctr_15.zip').open('ctr_15.csv')), pd.read_csv(zipfile.ZipFile('ctr_16.zip').open('ctr_16.csv')),pd.read_csv(zipfile.ZipFile('ctr_17.zip').open('ctr_17.csv')),pd.read_csv(zipfile.ZipFile('ctr_18.zip').open('ctr_18.csv')),pd.read_csv(zipfile.ZipFile('ctr_19.zip').open('ctr_19.csv')),pd.read_csv(zipfile.ZipFile('ctr_20.zip').open('ctr_20.csv')), pd.read_csv(zipfile.ZipFile('ctr_21.zip').open('ctr_21.csv'))],axis=0)\n"
      ],
      "execution_count": 0,
      "outputs": []
    },
    {
      "metadata": {
        "id": "PiRail7cN9Xn",
        "colab_type": "code",
        "colab": {}
      },
      "cell_type": "code",
      "source": [
        "##tamaño del df en GB\n",
        "import sys\n",
        "dfFull.memory_usage(index=True).sum()/1000000000 #giga\n",
        "#float(sys.getsizeof(dfFull)) \n"
      ],
      "execution_count": 0,
      "outputs": []
    },
    {
      "metadata": {
        "id": "jRLrFkz1Iozb",
        "colab_type": "code",
        "colab": {}
      },
      "cell_type": "code",
      "source": [
        "%reset dfFull"
      ],
      "execution_count": 0,
      "outputs": []
    },
    {
      "metadata": {
        "id": "MgAa5gJfI5mo",
        "colab_type": "code",
        "colab": {}
      },
      "cell_type": "code",
      "source": [
        "dict=dfFull.to_dict()\n"
      ],
      "execution_count": 0,
      "outputs": []
    },
    {
      "metadata": {
        "id": "vFr2SIgXSQbR",
        "colab_type": "code",
        "colab": {}
      },
      "cell_type": "code",
      "source": [
        "\n"
      ],
      "execution_count": 0,
      "outputs": []
    },
    {
      "metadata": {
        "id": "ZQ1Oxm9vK0N1",
        "colab_type": "code",
        "colab": {}
      },
      "cell_type": "code",
      "source": [
        "dfFull.sample(10)"
      ],
      "execution_count": 0,
      "outputs": []
    },
    {
      "metadata": {
        "id": "-B_gOO5DP8_r",
        "colab_type": "code",
        "colab": {}
      },
      "cell_type": "code",
      "source": [
        "dfFull.shape"
      ],
      "execution_count": 0,
      "outputs": []
    },
    {
      "metadata": {
        "id": "R9ddXkWvQB25",
        "colab_type": "code",
        "colab": {}
      },
      "cell_type": "code",
      "source": [
        ""
      ],
      "execution_count": 0,
      "outputs": []
    }
  ]
}