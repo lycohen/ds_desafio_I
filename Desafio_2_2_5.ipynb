{
  "nbformat": 4,
  "nbformat_minor": 0,
  "metadata": {
    "colab": {
      "name": "Desafio 2-2-5.ipynb",
      "version": "0.3.2",
      "provenance": [],
      "collapsed_sections": [],
      "include_colab_link": true
    },
    "kernelspec": {
      "display_name": "Python 3",
      "language": "python",
      "name": "python3"
    },
    "accelerator": "GPU"
  },
  "cells": [
    {
      "cell_type": "markdown",
      "metadata": {
        "id": "view-in-github",
        "colab_type": "text"
      },
      "source": [
        "[View in Colaboratory](https://colab.research.google.com/github/lycohen/ds_desafio_I/blob/master/Desafio_2_2_5.ipynb)"
      ]
    },
    {
      "metadata": {
        "id": "4CRAVdaJ9Frv",
        "colab_type": "code",
        "colab": {
          "base_uri": "https://localhost:8080/",
          "height": 269
        },
        "outputId": "35062b14-8629-4d5d-efc2-d37ae88baf15"
      },
      "cell_type": "code",
      "source": [
        "! pip install pydrive\n",
        "# these classes allow you to request the Google drive API\n",
        "from pydrive.auth import GoogleAuth\n",
        "from pydrive.drive import GoogleDrive \n",
        "from google.colab import auth \n",
        "from oauth2client.client import GoogleCredentials\n",
        "\n",
        "# 1. Authenticate and create the PyDrive client.\n",
        "auth.authenticate_user()\n",
        "gauth = GoogleAuth()\n",
        "gauth.credentials = GoogleCredentials.get_application_default()\n",
        "drive = GoogleDrive(gauth)\n",
        "file_id = '1u2lMckjqMlD-7qXfV8i8MJiQm_6GbLX9'\n",
        "downloaded = drive.CreateFile({'id': file_id})\n",
        "# allows you to temporarily load your file in the notebook VM\n",
        "\n",
        "# assume the file is called file.csv and it's located at the root of your drive\n",
        "downloaded.GetContentFile('properatti.csv')\n",
        "\n",
        "!pip install stop-words\n",
        "\n",
        "!pip install regex\n",
        "\n",
        "!pip install unidecode"
      ],
      "execution_count": 3,
      "outputs": [
        {
          "output_type": "stream",
          "text": [
            "Requirement already satisfied: pydrive in /usr/local/lib/python3.6/dist-packages (1.3.1)\n",
            "Requirement already satisfied: google-api-python-client>=1.2 in /usr/local/lib/python3.6/dist-packages (from pydrive) (1.6.7)\n",
            "Requirement already satisfied: oauth2client>=4.0.0 in /usr/local/lib/python3.6/dist-packages (from pydrive) (4.1.3)\n",
            "Requirement already satisfied: PyYAML>=3.0 in /usr/local/lib/python3.6/dist-packages (from pydrive) (3.13)\n",
            "Requirement already satisfied: six<2dev,>=1.6.1 in /usr/local/lib/python3.6/dist-packages (from google-api-python-client>=1.2->pydrive) (1.11.0)\n",
            "Requirement already satisfied: uritemplate<4dev,>=3.0.0 in /usr/local/lib/python3.6/dist-packages (from google-api-python-client>=1.2->pydrive) (3.0.0)\n",
            "Requirement already satisfied: httplib2<1dev,>=0.9.2 in /usr/local/lib/python3.6/dist-packages (from google-api-python-client>=1.2->pydrive) (0.11.3)\n",
            "Requirement already satisfied: rsa>=3.1.4 in /usr/local/lib/python3.6/dist-packages (from oauth2client>=4.0.0->pydrive) (3.4.2)\n",
            "Requirement already satisfied: pyasn1>=0.1.7 in /usr/local/lib/python3.6/dist-packages (from oauth2client>=4.0.0->pydrive) (0.4.4)\n",
            "Requirement already satisfied: pyasn1-modules>=0.0.5 in /usr/local/lib/python3.6/dist-packages (from oauth2client>=4.0.0->pydrive) (0.2.2)\n",
            "Requirement already satisfied: stop-words in /usr/local/lib/python3.6/dist-packages (2018.7.23)\n",
            "Requirement already satisfied: regex in /usr/local/lib/python3.6/dist-packages (2017.4.5)\n",
            "Requirement already satisfied: unidecode in /usr/local/lib/python3.6/dist-packages (1.0.22)\n"
          ],
          "name": "stdout"
        }
      ]
    },
    {
      "metadata": {
        "id": "Ekc3YnGM8qMf",
        "colab_type": "code",
        "colab": {}
      },
      "cell_type": "code",
      "source": [
        "\n",
        "% matplotlib inline\n",
        "import matplotlib.pyplot as plt\n",
        "import datetime\n",
        "import numpy as np\n",
        "import pandas as pd\n",
        "import seaborn as sns\n",
        "from sklearn.feature_extraction.text import CountVectorizer\n",
        "from sklearn.feature_extraction.text import TfidfVectorizer\n",
        "from sklearn.feature_extraction.text import TfidfTransformer\n",
        "\n",
        "from sklearn.preprocessing import StandardScaler\n",
        "from sklearn.preprocessing import MinMaxScaler,MaxAbsScaler\n",
        "from sklearn.preprocessing import scale\n",
        "\n",
        "\n",
        "from sklearn.naive_bayes import MultinomialNB\n",
        "from sklearn.pipeline import Pipeline\n",
        "\n",
        "\n",
        "from sklearn.feature_extraction import DictVectorizer\n",
        "\n",
        "\n",
        "from scipy.sparse import hstack\n",
        "\n",
        "\n",
        "from stop_words import get_stop_words\n",
        "import unidecode\n",
        "import re\n",
        "\n",
        "excluyoZonas=False\n",
        "tomoSampleo=False\n",
        "columnasToDummy = ['property_type']\n",
        "columnasToFill = [ 'property_type','new_usd_per_m2','place_name','rooms','surface_total_in_m2','surface_covered_in_m2','floor']\n",
        "columnasFilled = [ 'rooms_filled','surface_total_in_m2_filled']\n",
        "columnasMonetarias=['currency','price_aprox_usd','price','price_usd_per_m2','price_per_m2','price_aprox_local_currency']\n",
        "columnasToDel = ['Unnamed: 0', 'operation',  'place_name',\n",
        "       'country_name', 'state_name', 'geonames_id',\n",
        "       'lat-lon', 'lat', 'lon', 'surface_covered_in_m2',\n",
        "       'floor',  'expenses', 'properati_url', 'description', 'title',\n",
        "       'image_thumbnail']\n"
      ],
      "execution_count": 0,
      "outputs": []
    },
    {
      "metadata": {
        "id": "cW9Mo1Hi8qMm",
        "colab_type": "code",
        "colab": {}
      },
      "cell_type": "code",
      "source": [
        "df = pd.read_csv('./properatti.csv')  # Dataset de PROPERATI\n",
        "### si descomento tengo un conjunto acotado\n",
        "if (tomoSampleo):\n",
        "    df =df[:65000]\n",
        "#if(excluyoZonas):\n",
        "#    df_zonas_count = df.groupby(by='place_with_parent_names').agg({'property_type':'count'})\n",
        "#    ### obtengo las zonas que tengan pocos elementos. Si tengo mas features que elementos no sirve\n",
        "#    ### para clasificar.\n",
        "#    ### no se que hacer!!!!!!!!!!!!!!!!!!!!!!!!!!!!!\n",
        "#    df_zonas_count=df_zonas_count[df_zonas_count['property_type'] <df_zonas_count['property_type'].std()*1.5 ].index\n"
      ],
      "execution_count": 0,
      "outputs": []
    },
    {
      "metadata": {
        "id": "EMIqgI3k8qMw",
        "colab_type": "code",
        "colab": {
          "base_uri": "https://localhost:8080/",
          "height": 34
        },
        "outputId": "649cd2ac-02d3-40bb-b4b6-a2f2b4525840"
      },
      "cell_type": "code",
      "source": [
        "dfBackup = df\n",
        "#######imputo y borro lo que me queda afuera.----version 11:00am\n",
        "df = df.dropna(subset=columnasMonetarias)\n",
        "df = df.drop(columnasToDel,axis=1)\n",
        "df.shape\n",
        "\n"
      ],
      "execution_count": 6,
      "outputs": [
        {
          "output_type": "execute_result",
          "data": {
            "text/plain": [
              "(63350, 10)"
            ]
          },
          "metadata": {
            "tags": []
          },
          "execution_count": 6
        }
      ]
    },
    {
      "metadata": {
        "id": "6lKa2Opl_mbp",
        "colab_type": "code",
        "colab": {}
      },
      "cell_type": "code",
      "source": [
        "def inversaPrecio(dfTmp):\n",
        "  dfTmp['new_usd_per_m2'] = dfTmp['new_usd_per_m2'].apply(lambda x:np.exp(x))\n",
        "  return dfTmp\n",
        "\n"
      ],
      "execution_count": 0,
      "outputs": []
    },
    {
      "metadata": {
        "id": "tET6th3h8qM0",
        "colab_type": "code",
        "colab": {
          "base_uri": "https://localhost:8080/",
          "height": 312
        },
        "outputId": "57d8323e-011e-45c3-f4c1-60329b8afd5b"
      },
      "cell_type": "code",
      "source": [
        "### normalizo precio.\n",
        "### todavia no se sirve pero la teoria parece indicar que si para evitar la dispersion \n",
        "## que observamos en desafio I\n",
        "\n",
        "def normalizoPrice(seriePrecioNuevo):\n",
        "    from sklearn.preprocessing import FunctionTransformer\n",
        "    # Instancio el Optimus Prime con log1p\n",
        "    transformer = FunctionTransformer(np.log1p)\n",
        "    return transformer.transform(seriePrecioNuevo.reshape(-1,1))\n",
        "  \n",
        "def imputoPrecio(dfTmp):\n",
        "    dummies_price = pd.get_dummies(dfTmp['currency'])\n",
        "    dfTmp[\"ars\"] = dfTmp[\"price\"] * dummies_price[\"ARS\"]\n",
        "    dfTmp[\"USDaprox\"] = dfTmp[\"ars\"] / (dfTmp[\"price_aprox_usd\"] * dummies_price[\"ARS\"])\n",
        "\n",
        "    USD = dfTmp[\"USDaprox\"].median()\n",
        "    \n",
        "    y = dfTmp[\"price_per_m2\"]/USD\n",
        "    #######imputo y borro lo que me queda afuera.----version 11:00am\n",
        "    dfTmp = dfTmp.dropna(subset=columnasMonetarias)\n",
        "    dfTmp[\"new_usd_per_m2\"] = normalizoPrice(dfTmp[\"price_usd_per_m2\"])\n",
        "    return dfTmp\n",
        "  \n",
        "\n",
        "dfMonetario=df[columnasMonetarias]\n",
        "#dfMonetario =dfMonetario.dropna()\n",
        "#display(dfMonetario.isna().sum())\n",
        "Y =imputoPrecio(dfMonetario)\n",
        "Y = Y.drop(columns =['currency', 'price_aprox_usd', 'price', 'price_usd_per_m2','price_per_m2', 'ars', 'USDaprox','price_aprox_local_currency'],axis=1)\n",
        "df=df.drop(columnasMonetarias,axis=1)\n",
        "Y.shape"
      ],
      "execution_count": 8,
      "outputs": [
        {
          "output_type": "stream",
          "text": [
            "/usr/local/lib/python3.6/dist-packages/ipykernel_launcher.py:10: SettingWithCopyWarning: \n",
            "A value is trying to be set on a copy of a slice from a DataFrame.\n",
            "Try using .loc[row_indexer,col_indexer] = value instead\n",
            "\n",
            "See the caveats in the documentation: http://pandas.pydata.org/pandas-docs/stable/indexing.html#indexing-view-versus-copy\n",
            "  # Remove the CWD from sys.path while we load stuff.\n",
            "/usr/local/lib/python3.6/dist-packages/ipykernel_launcher.py:11: SettingWithCopyWarning: \n",
            "A value is trying to be set on a copy of a slice from a DataFrame.\n",
            "Try using .loc[row_indexer,col_indexer] = value instead\n",
            "\n",
            "See the caveats in the documentation: http://pandas.pydata.org/pandas-docs/stable/indexing.html#indexing-view-versus-copy\n",
            "  # This is added back by InteractiveShellApp.init_path()\n",
            "/usr/local/lib/python3.6/dist-packages/ipykernel_launcher.py:6: FutureWarning: reshape is deprecated and will raise in a subsequent release. Please use .values.reshape(...) instead\n",
            "  \n"
          ],
          "name": "stderr"
        },
        {
          "output_type": "execute_result",
          "data": {
            "text/plain": [
              "(63350, 1)"
            ]
          },
          "metadata": {
            "tags": []
          },
          "execution_count": 8
        }
      ]
    },
    {
      "metadata": {
        "id": "vVSaWtIP6Q5A",
        "colab_type": "code",
        "colab": {
          "base_uri": "https://localhost:8080/",
          "height": 68
        },
        "outputId": "c5b6b3fb-85ea-4707-d895-8bedb9fb5c24"
      },
      "cell_type": "code",
      "source": [
        "df.columns\n"
      ],
      "execution_count": 9,
      "outputs": [
        {
          "output_type": "execute_result",
          "data": {
            "text/plain": [
              "Index(['property_type', 'place_with_parent_names', 'surface_total_in_m2',\n",
              "       'rooms'],\n",
              "      dtype='object')"
            ]
          },
          "metadata": {
            "tags": []
          },
          "execution_count": 9
        }
      ]
    },
    {
      "metadata": {
        "id": "RqB4IQ3n8qM6",
        "colab_type": "code",
        "colab": {}
      },
      "cell_type": "code",
      "source": [
        ""
      ],
      "execution_count": 0,
      "outputs": []
    },
    {
      "metadata": {
        "id": "jt5Xox-t8qM_",
        "colab_type": "code",
        "colab": {}
      },
      "cell_type": "code",
      "source": [
        "### dada una lista de dummy definida arriba la convierto a dummy .\n",
        "### el flag de sparse no funciona.\n",
        "def setMatricesDummy(columnas,dfTmp,esSparse):\n",
        "    frames = []\n",
        "    for i in columnas:\n",
        "        frames.append( pd.get_dummies( dfTmp[i ],sparse=esSparse))\n",
        "    pdCompleto=pd.concat(frames,axis=1,join='outer')\n",
        "    \n",
        "    return pdCompleto\n",
        "\n"
      ],
      "execution_count": 0,
      "outputs": []
    },
    {
      "metadata": {
        "id": "sY--jQ5v8qNE",
        "colab_type": "code",
        "colab": {}
      },
      "cell_type": "code",
      "source": [
        "### defino la lista de palabras que no contamos con el count vectorizer\n",
        "def getStopWords():\n",
        "    stop_words=get_stop_words('spanish')\n",
        "    stop_words_xl = [',',':','!','/','$','+','?','|','!!','!!!','$','+','-','//',' ','ambientes','ph','departamento','casa','.','argentina','u$d','u$s','venta','vende','vendo','amb','ambiente','ambientes','u$s','u$d']\n",
        "    return stop_words + stop_words_xl + df['place_name'].apply(lambda x:(str(x).lower())).tolist() +df['country_name'].apply(lambda x:(str(x).lower())).tolist() +df['state_name'].apply(lambda x:(str(x).lower())).tolist() \n",
        "### diccionario de palabras que descubrio count vectorizer. finalmente no uso el diccionario \n",
        "### sirve para ver que hay\n",
        "\n",
        "### borro numeros en el analisis de palabras. no quiero valores numericos que le pongo al modelo \n",
        "### por otro lado.\n",
        "def dropNumero(x):\n",
        "    p = re.compile(r'\\d')\n",
        "    if (bool(p.search(x))):\n",
        "        return ''\n",
        "    else:\n",
        "        return x\n",
        "### saco acentos\n",
        "def sacoAcentos(s):\n",
        "    return unidecode.unidecode(s)\n",
        "### convierto oraciones a listas de palabras\n",
        "### de vuelta saco los numeros y los reemplazo por una palabra clave \n",
        "def getTexto(col):\n",
        "    return col.replace('\\d+', '|NUM|', regex=True).apply(lambda x:sacoAcentos(x)).apply(lambda x:(x.lower().replace('.','').split()))\n",
        "    \n",
        "def getPlaces(dfTmp):\n",
        "    return dfTmp['place_with_parent_names'].apply(lambda x:x.split('|'))\n",
        "\n",
        "def getPropertyTpes(dfTmp):\n",
        "    return dfTmp['property_type']\n",
        "\n",
        "def extraigoColsConValorNumericoDeFeatures(dfTmp):\n",
        "    ## si hay un valor numerico en el titulo que muestra al model algun feature numerico de otra columna es un problema.\n",
        "    ##mejor sacar\n",
        "    col2drop =[]\n",
        "    for i in dfTmp.columns:\n",
        "        if ('num' in i):\n",
        "            col2drop.append(i)\n",
        "    dfTmp.drop(col2drop,axis=1,inplace=True)\n",
        "    return dfTmp    "
      ],
      "execution_count": 0,
      "outputs": []
    },
    {
      "metadata": {
        "id": "wvHnAd3dJ9Sz",
        "colab_type": "code",
        "colab": {}
      },
      "cell_type": "code",
      "source": [
        "df['rooms'].fillna(0,inplace=True)\n",
        "\n"
      ],
      "execution_count": 0,
      "outputs": []
    },
    {
      "metadata": {
        "id": "1cUJeilWUJ5t",
        "colab_type": "code",
        "colab": {}
      },
      "cell_type": "code",
      "source": [
        "fullDF  = pd.concat([Y,df],axis=1)\n",
        "\n"
      ],
      "execution_count": 0,
      "outputs": []
    },
    {
      "metadata": {
        "id": "iiZW6MvhXEQz",
        "colab_type": "code",
        "colab": {}
      },
      "cell_type": "code",
      "source": [
        ""
      ],
      "execution_count": 0,
      "outputs": []
    },
    {
      "metadata": {
        "id": "kjZ2vNYVXmqQ",
        "colab_type": "code",
        "colab": {}
      },
      "cell_type": "code",
      "source": [
        "def getFeaturesFromPlacesSparse(dfTmp):\n",
        "    #stop_words=getStopWords()\n",
        "    cvec=TfidfVectorizer(ngram_range=(1,3),strip_accents=None, token_pattern='[\\d_]', tokenizer=lambda doc: doc,analyzer='word' ,lowercase=False)\n",
        "    #tfidf= TfidfTransformer(use_idf=True,smooth_idf=True)\n",
        "    pipeline=Pipeline([('vect',cvec),\n",
        "                      #('tfidf',tfidf),\n",
        "                      #('clf',MultinomialNB(alpha=1))\n",
        "                      ])\n",
        "    \n",
        "    \n",
        "    sdf = pd.SparseDataFrame(pipeline.fit_transform(getPlaces(dfTmp)),\n",
        "                         columns=cvec.get_feature_names(), \n",
        "                         default_fill_value=0)\n",
        "    return sdf\n",
        "    \n",
        "featuresFromPlacesSparse=   getFeaturesFromPlacesSparse(fullDF)\n",
        "\n"
      ],
      "execution_count": 0,
      "outputs": []
    },
    {
      "metadata": {
        "id": "xpAZ2ybaYAQD",
        "colab_type": "code",
        "colab": {}
      },
      "cell_type": "code",
      "source": [
        "fullDF  = pd.concat([fullDF,featuresFromPlacesSparse],axis=1)\n",
        "\n"
      ],
      "execution_count": 0,
      "outputs": []
    },
    {
      "metadata": {
        "id": "E2gWHEyLdWfP",
        "colab_type": "code",
        "colab": {}
      },
      "cell_type": "code",
      "source": [
        "fullDF.drop(['place_with_parent_names'],axis=1,inplace=True)"
      ],
      "execution_count": 0,
      "outputs": []
    },
    {
      "metadata": {
        "id": "5Wxl9N2SeJ32",
        "colab_type": "code",
        "colab": {}
      },
      "cell_type": "code",
      "source": [
        "fullDF.dropna(inplace=True)"
      ],
      "execution_count": 0,
      "outputs": []
    },
    {
      "metadata": {
        "id": "syIcjN75fPJN",
        "colab_type": "code",
        "colab": {}
      },
      "cell_type": "code",
      "source": [
        ""
      ],
      "execution_count": 0,
      "outputs": []
    },
    {
      "metadata": {
        "id": "klTMa-gabHth",
        "colab_type": "code",
        "colab": {
          "base_uri": "https://localhost:8080/",
          "height": 125
        },
        "outputId": "5577b57a-7cd7-47dd-822b-99ae82212942"
      },
      "cell_type": "code",
      "source": [
        "from sklearn.preprocessing import MinMaxScaler\n",
        "from sklearn.preprocessing import scale\n",
        "minmaxscaler_model = MinMaxScaler()\n",
        "fullDF['rooms_scaled'] = minmaxscaler_model.fit_transform(fullDF['rooms'].reshape(-1,1))\n",
        "fullDF['surface_total_in_m2_scaled'] = minmaxscaler_model.fit_transform(fullDF['surface_total_in_m2'].reshape(-1,1))\n",
        "\n"
      ],
      "execution_count": 18,
      "outputs": [
        {
          "output_type": "stream",
          "text": [
            "/usr/local/lib/python3.6/dist-packages/ipykernel_launcher.py:4: FutureWarning: reshape is deprecated and will raise in a subsequent release. Please use .values.reshape(...) instead\n",
            "  after removing the cwd from sys.path.\n",
            "/usr/local/lib/python3.6/dist-packages/ipykernel_launcher.py:5: FutureWarning: reshape is deprecated and will raise in a subsequent release. Please use .values.reshape(...) instead\n",
            "  \"\"\"\n"
          ],
          "name": "stderr"
        }
      ]
    },
    {
      "metadata": {
        "id": "javGjxHAgTWm",
        "colab_type": "code",
        "colab": {}
      },
      "cell_type": "code",
      "source": [
        "fullDF.drop(['surface_total_in_m2', 'rooms' ],axis=1,inplace=True)"
      ],
      "execution_count": 0,
      "outputs": []
    },
    {
      "metadata": {
        "id": "q__6uc4NhGEP",
        "colab_type": "code",
        "colab": {}
      },
      "cell_type": "code",
      "source": [
        "def getFeaturesFromPropertyTypes(dfTmp):\n",
        "    #stop_words=getStopWords()\n",
        "    cvec=TfidfVectorizer(strip_accents=None, analyzer='word' ,lowercase=False)\n",
        "    #tfidf= TfidfTransformer(use_idf=True,smooth_idf=True)\n",
        "    pipeline=Pipeline([('vect',cvec),\n",
        "                      #('tfidf',tfidf),\n",
        "                      #('clf',MultinomialNB(alpha=1))\n",
        "                      ])\n",
        "    \n",
        "    \n",
        "    sdf = pd.SparseDataFrame(pipeline.fit_transform(getPropertyTpes(dfTmp)),\n",
        "                         columns=cvec.get_feature_names(), \n",
        "                         default_fill_value=0)\n",
        "    return sdf\n",
        "    \n",
        "featuresFromPropertyTypes=   getFeaturesFromPropertyTypes(fullDF)\n",
        "\n",
        "fullDF = pd.concat([fullDF,featuresFromPropertyTypes],axis=1)\n",
        "fullDF.drop(['property_type'],axis=1,inplace=True)"
      ],
      "execution_count": 0,
      "outputs": []
    },
    {
      "metadata": {
        "id": "lX6TO4fChjC0",
        "colab_type": "code",
        "colab": {}
      },
      "cell_type": "code",
      "source": [
        "fullDF.dropna(inplace=True)"
      ],
      "execution_count": 0,
      "outputs": []
    },
    {
      "metadata": {
        "id": "jHW-ekv4Gke2",
        "colab_type": "code",
        "colab": {}
      },
      "cell_type": "code",
      "source": [
        "\n",
        "### tengo una sparse con las ubicaciones    \n",
        "#def getTransfPipeline(dfTmp):\n",
        "#    #dfCopy = dfTmp.drop(['surface_total_in_m2', 'rooms'],axis=1)\n",
        "#    cvec=CountVectorizer(ngram_range=(1,3),strip_accents=None, token_pattern='[\\d_]', tokenizer=lambda doc: doc,analyzer='word' ,lowercase=False)\n",
        "#    pipeline=Pipeline([      ('vect',cvec),\n",
        "#                      ('tfidf',TfidfTransformer(use_idf=True,smooth_idf=True)),\n",
        "#                       ( 'stdSc',StandardScaler(with_mean=False)),\n",
        "#                       ( 'minmax',MaxAbsScaler())\n",
        "#                      ])\n",
        "#    pipeline.fit_transform(dfTmp)\n",
        "#    return pipeline\n",
        "#XPipeline = getTransfPipeline(fullDF) \n",
        "#dfTransformado= pd.DataFrame(XPipeline, index=fullDF.index, columns=fullDF.columns)  \n",
        "\n"
      ],
      "execution_count": 0,
      "outputs": []
    },
    {
      "metadata": {
        "id": "sAyN_vB0iYNW",
        "colab_type": "code",
        "colab": {}
      },
      "cell_type": "code",
      "source": [
        ""
      ],
      "execution_count": 0,
      "outputs": []
    },
    {
      "metadata": {
        "id": "flhPkirCOuik",
        "colab_type": "code",
        "colab": {}
      },
      "cell_type": "code",
      "source": [
        "#######OBTENGO 100 de manera random\n",
        "indices = np.random.choice(fullDF['new_usd_per_m2'].index,100,replace=True)\n",
        "#indices=np.random.choice(fullDF['new_usd_per_m2'].index.shape(0),100,replace=False)\n",
        "choicesCompraVenta = fullDF.loc[indices]\n",
        "\n",
        "\n"
      ],
      "execution_count": 0,
      "outputs": []
    },
    {
      "metadata": {
        "id": "mS4y1yDs7_Eo",
        "colab_type": "code",
        "colab": {}
      },
      "cell_type": "code",
      "source": [
        "choiceAnalisis = fullDF[~fullDF.index.isin(indices)]"
      ],
      "execution_count": 0,
      "outputs": []
    },
    {
      "metadata": {
        "id": "7tHYzTzS6Zb_",
        "colab_type": "code",
        "colab": {}
      },
      "cell_type": "code",
      "source": [
        "fullDF= choiceAnalisis\n",
        "y = fullDF.loc[ fullDF['new_usd_per_m2'].index]['new_usd_per_m2']"
      ],
      "execution_count": 0,
      "outputs": []
    },
    {
      "metadata": {
        "id": "N4PYF3LeN-Hh",
        "colab_type": "code",
        "colab": {
          "base_uri": "https://localhost:8080/",
          "height": 85
        },
        "outputId": "0de684c0-191f-4aa5-d9d0-28b1c47e7094"
      },
      "cell_type": "code",
      "source": [
        "from sklearn import linear_model\n",
        "from sklearn.model_selection import train_test_split\n",
        "from matplotlib import pyplot as plt\n",
        "\n",
        "\n",
        "\n",
        "\n",
        "\n",
        "# create training and testing vars\n",
        "X_train, X_test, y_train, y_test = train_test_split(fullDF, y, test_size=0.2)\n",
        "\n",
        "#getTransfPipeline(X_train) \n",
        "display (X_train.shape, y_train.shape)\n",
        "display (X_test.shape, y_test.shape)\n",
        "\n",
        "#X_transf_test =XPipeline.transform(X_test).data\n",
        "#X_transf_train=XPipeline.transform(X_train).data\n",
        "\n",
        "#display(X_transf_train.shape,X_transf_test.shape)\n"
      ],
      "execution_count": 92,
      "outputs": [
        {
          "output_type": "display_data",
          "data": {
            "text/plain": [
              "(14357, 4211)"
            ]
          },
          "metadata": {
            "tags": []
          }
        },
        {
          "output_type": "display_data",
          "data": {
            "text/plain": [
              "(14357,)"
            ]
          },
          "metadata": {
            "tags": []
          }
        },
        {
          "output_type": "display_data",
          "data": {
            "text/plain": [
              "(3590, 4211)"
            ]
          },
          "metadata": {
            "tags": []
          }
        },
        {
          "output_type": "display_data",
          "data": {
            "text/plain": [
              "(3590,)"
            ]
          },
          "metadata": {
            "tags": []
          }
        }
      ]
    },
    {
      "metadata": {
        "id": "suVdF2gA8qNS",
        "colab_type": "text"
      },
      "cell_type": "markdown",
      "source": [
        "## obtengo mis x -> matriz\n",
        "## y -> precio"
      ]
    },
    {
      "metadata": {
        "id": "qtYWvGVS8qNT",
        "colab_type": "code",
        "colab": {}
      },
      "cell_type": "code",
      "source": [
        "#X_transf_test.shape"
      ],
      "execution_count": 0,
      "outputs": []
    },
    {
      "metadata": {
        "id": "JMIueEjF8qNI",
        "colab_type": "code",
        "colab": {}
      },
      "cell_type": "code",
      "source": [
        "\n",
        "# fit a model\n",
        "lm = linear_model.LinearRegression(fit_intercept=True,normalize=True)\n",
        "#lm = linear_model.Lasso(alpha=0.0008)\n",
        "#lm = linear_model.Ridge(alpha=0.8)\n",
        "#lm=linear_model.ElasticNet(alpha=0.01)\n",
        "\n",
        "\n",
        "\n",
        "model = lm.fit(X_train, y_train)\n",
        "predictions = lm.predict(X_test)\n"
      ],
      "execution_count": 0,
      "outputs": []
    },
    {
      "metadata": {
        "id": "8nlBhwft8qNK",
        "colab_type": "code",
        "colab": {
          "base_uri": "https://localhost:8080/",
          "height": 299
        },
        "outputId": "acb438fe-bbde-4608-becf-be4cd4e9a42e"
      },
      "cell_type": "code",
      "source": [
        "plt.scatter(y_test, predictions)\n",
        "plt.xlabel('True Values')\n",
        "plt.ylabel('Predictions') \n",
        "\n",
        "\n"
      ],
      "execution_count": 95,
      "outputs": [
        {
          "output_type": "execute_result",
          "data": {
            "text/plain": [
              "Text(0,0.5,'Predictions')"
            ]
          },
          "metadata": {
            "tags": []
          },
          "execution_count": 95
        },
        {
          "output_type": "display_data",
          "data": {
            "image/png": "[encoded data removed]",
            "text/plain": [
              "<matplotlib.figure.Figure at 0x7fbf40d4eda0>"
            ]
          },
          "metadata": {
            "tags": []
          }
        }
      ]
    },
    {
      "metadata": {
        "id": "jkeWp-fD8qNM",
        "colab_type": "code",
        "colab": {}
      },
      "cell_type": "code",
      "source": [
        ""
      ],
      "execution_count": 0,
      "outputs": []
    },
    {
      "metadata": {
        "id": "azhmVGlg8qNO",
        "colab_type": "code",
        "colab": {}
      },
      "cell_type": "code",
      "source": [
        ""
      ],
      "execution_count": 0,
      "outputs": []
    },
    {
      "metadata": {
        "id": "EjAmOpA-8qNV",
        "colab_type": "code",
        "colab": {}
      },
      "cell_type": "code",
      "source": [
        "\n"
      ],
      "execution_count": 0,
      "outputs": []
    },
    {
      "metadata": {
        "id": "E0op8LDp8qNX",
        "colab_type": "code",
        "colab": {}
      },
      "cell_type": "code",
      "source": [
        ""
      ],
      "execution_count": 0,
      "outputs": []
    },
    {
      "metadata": {
        "id": "hInpKICW8qNZ",
        "colab_type": "text"
      },
      "cell_type": "markdown",
      "source": [
        "## 2da PARTE"
      ]
    },
    {
      "metadata": {
        "id": "VKBxWZ-G8qNb",
        "colab_type": "code",
        "colab": {}
      },
      "cell_type": "code",
      "source": [
        ""
      ],
      "execution_count": 0,
      "outputs": []
    },
    {
      "metadata": {
        "id": "4PqY7VFbQM2W",
        "colab_type": "text"
      },
      "cell_type": "markdown",
      "source": [
        ""
      ]
    },
    {
      "metadata": {
        "id": "84jzQFlc8qNd",
        "colab_type": "code",
        "colab": {}
      },
      "cell_type": "code",
      "source": [
        ""
      ],
      "execution_count": 0,
      "outputs": []
    },
    {
      "metadata": {
        "id": "tkYUWmat8qNe",
        "colab_type": "code",
        "colab": {}
      },
      "cell_type": "code",
      "source": [
        ""
      ],
      "execution_count": 0,
      "outputs": []
    },
    {
      "metadata": {
        "id": "sTPCSLGe8qNh",
        "colab_type": "code",
        "colab": {}
      },
      "cell_type": "code",
      "source": [
        ""
      ],
      "execution_count": 0,
      "outputs": []
    },
    {
      "metadata": {
        "id": "1wz6Jaed8qNk",
        "colab_type": "code",
        "colab": {}
      },
      "cell_type": "code",
      "source": [
        "#dfSample = dfCompleto.sample(10)"
      ],
      "execution_count": 0,
      "outputs": []
    },
    {
      "metadata": {
        "id": "FWNiHeKK8qNm",
        "colab_type": "code",
        "colab": {}
      },
      "cell_type": "code",
      "source": [
        "# create training and testing vars\n"
      ],
      "execution_count": 0,
      "outputs": []
    },
    {
      "metadata": {
        "id": "H7cftvwa8qNt",
        "colab_type": "code",
        "colab": {}
      },
      "cell_type": "code",
      "source": [
        "\n",
        "#from sklearn.linear_model import LassoCV, LassoLarsCV, LassoLarsIC\n",
        "#model_bic = LassoLarsIC(criterion='bic')\n",
        "#model_bic.fit(matriz.toarray(), precios)\n",
        "#alpha_bic_ = model_bic.alpha_\n",
        "\n",
        "#model_aic = LassoLarsIC(criterion='aic')\n",
        "#model_aic.fit(matriz.toarray(),precios)\n",
        "#alpha_aic_ = model_aic.alpha_\n",
        "\n",
        "#display(alpha_bic_,alpha_aic_)"
      ],
      "execution_count": 0,
      "outputs": []
    },
    {
      "metadata": {
        "id": "WLokfxe88qNv",
        "colab_type": "text"
      },
      "cell_type": "markdown",
      "source": [
        "# Tengo x e y\n",
        "# Vamos jugando con los modelos"
      ]
    },
    {
      "metadata": {
        "id": "-UEwnoyL8qNw",
        "colab_type": "code",
        "colab": {}
      },
      "cell_type": "code",
      "source": [
        ""
      ],
      "execution_count": 0,
      "outputs": []
    },
    {
      "metadata": {
        "id": "K6CAx2Z68qNy",
        "colab_type": "code",
        "colab": {
          "base_uri": "https://localhost:8080/",
          "height": 34
        },
        "outputId": "7da0b698-16ac-435e-ddea-91a69a2febb1"
      },
      "cell_type": "code",
      "source": [
        "predictions[0:5]"
      ],
      "execution_count": 98,
      "outputs": [
        {
          "output_type": "execute_result",
          "data": {
            "text/plain": [
              "array([7.65333677, 6.59896306, 6.55979681, 7.9407656 , 6.47850964])"
            ]
          },
          "metadata": {
            "tags": []
          },
          "execution_count": 98
        }
      ]
    },
    {
      "metadata": {
        "id": "CWr-0dCq8qN2",
        "colab_type": "code",
        "colab": {}
      },
      "cell_type": "code",
      "source": [
        "## The line / model\n"
      ],
      "execution_count": 0,
      "outputs": []
    },
    {
      "metadata": {
        "id": "vcvJ-53J8qN6",
        "colab_type": "code",
        "colab": {
          "base_uri": "https://localhost:8080/",
          "height": 34
        },
        "outputId": "6280b155-118e-4300-9ff8-9debe500d7f0"
      },
      "cell_type": "code",
      "source": [
        "print ('Score:', model.score(X_test, y_test))"
      ],
      "execution_count": 99,
      "outputs": [
        {
          "output_type": "stream",
          "text": [
            "Score: 0.9993974616189171\n"
          ],
          "name": "stdout"
        }
      ]
    },
    {
      "metadata": {
        "id": "Kmmu__JU8qN9",
        "colab_type": "code",
        "colab": {}
      },
      "cell_type": "code",
      "source": [
        ""
      ],
      "execution_count": 0,
      "outputs": []
    },
    {
      "metadata": {
        "id": "l8XzB-ZR8qN_",
        "colab_type": "code",
        "colab": {
          "base_uri": "https://localhost:8080/",
          "height": 34
        },
        "outputId": "ac45cb5f-0f7a-4a5e-8c04-6e1bbedcf754"
      },
      "cell_type": "code",
      "source": [
        "from sklearn.model_selection import KFold # import KFold\n",
        "kf = KFold(n_splits=6) # Define the split - into 2 folds \n",
        "kf.get_n_splits(df) # returns the number of splitting iterations in the cross-validator"
      ],
      "execution_count": 100,
      "outputs": [
        {
          "output_type": "execute_result",
          "data": {
            "text/plain": [
              "6"
            ]
          },
          "metadata": {
            "tags": []
          },
          "execution_count": 100
        }
      ]
    },
    {
      "metadata": {
        "id": "Fh7Y-MQZ8qOB",
        "colab_type": "code",
        "colab": {}
      },
      "cell_type": "code",
      "source": [
        "#for train_index, test_index in kf.split(df):\n",
        "#    print('Train', train_index, 'Test', test_index)\n",
        "#    X_train, X_test = df[train_index], df[test_index]\n",
        "#    y_train, y_test = y[train_index], y[test_index]\n"
      ],
      "execution_count": 0,
      "outputs": []
    },
    {
      "metadata": {
        "id": "3fLrj4cu8qOD",
        "colab_type": "code",
        "colab": {
          "base_uri": "https://localhost:8080/",
          "height": 91
        },
        "outputId": "15f39d4c-cfc3-43cd-d89e-ee0a96f91625"
      },
      "cell_type": "code",
      "source": [
        "# Necessary imports: \n",
        "from sklearn.cross_validation import cross_val_score, cross_val_predict\n",
        "from sklearn import metrics"
      ],
      "execution_count": 101,
      "outputs": [
        {
          "output_type": "stream",
          "text": [
            "/usr/local/lib/python3.6/dist-packages/sklearn/cross_validation.py:41: DeprecationWarning: This module was deprecated in version 0.18 in favor of the model_selection module into which all the refactored classes and functions are moved. Also note that the interface of the new CV iterators are different from that of this module. This module will be removed in 0.20.\n",
            "  \"This module will be removed in 0.20.\", DeprecationWarning)\n"
          ],
          "name": "stderr"
        }
      ]
    },
    {
      "metadata": {
        "id": "0nqE6xgW8qOG",
        "colab_type": "code",
        "colab": {
          "base_uri": "https://localhost:8080/",
          "height": 34
        },
        "outputId": "5c22d713-eb63-4b2f-fa58-3b4c8567e4b8"
      },
      "cell_type": "code",
      "source": [
        "\n",
        "# Perform 6-fold cross validation\n",
        "scores = cross_val_score(model, fullDF, y, cv=6)\n",
        "print ('Cross-validated scores:', scores)"
      ],
      "execution_count": 102,
      "outputs": [
        {
          "output_type": "stream",
          "text": [
            "Cross-validated scores: [0.99986459 0.99809806 0.99990093 0.99721631 0.99993291 0.99978181]\n"
          ],
          "name": "stdout"
        }
      ]
    },
    {
      "metadata": {
        "id": "k5hqyMWZ8qOJ",
        "colab_type": "code",
        "colab": {}
      },
      "cell_type": "code",
      "source": [
        "# Make cross validated predictions\n",
        "predictions = cross_val_predict(model, fullDF, y, cv=6)\n",
        "plt.scatter(y, predictions)"
      ],
      "execution_count": 0,
      "outputs": []
    },
    {
      "metadata": {
        "id": "PYMieikk8qOL",
        "colab_type": "code",
        "colab": {
          "base_uri": "https://localhost:8080/",
          "height": 34
        },
        "outputId": "dbc6ac25-dc07-4f67-fd43-6d69e5bc8b5f"
      },
      "cell_type": "code",
      "source": [
        "accuracy = metrics.r2_score(y, predictions)\n",
        "print (accuracy)"
      ],
      "execution_count": 360,
      "outputs": [
        {
          "output_type": "stream",
          "text": [
            "0.999491380372486\n"
          ],
          "name": "stdout"
        }
      ]
    },
    {
      "metadata": {
        "id": "DMcMFPBigGXY",
        "colab_type": "text"
      },
      "cell_type": "markdown",
      "source": [
        "# 3. Comparación Modelos"
      ]
    },
    {
      "metadata": {
        "id": "es9hHd1YUctM",
        "colab_type": "code",
        "colab": {}
      },
      "cell_type": "code",
      "source": [
        "# Importamos librerías\n",
        "\n",
        "from sklearn import datasets, linear_model\n",
        "from sklearn.model_selection import cross_val_score, train_test_split, KFold\n",
        "from sklearn.metrics import r2_score\n",
        "from sklearn.model_selection import KFold # import KFold\n",
        "from sklearn.cross_validation import cross_val_score, cross_val_predict\n",
        "from sklearn import metrics\n",
        "from sklearn.model_selection import train_test_split, KFold, cross_val_score\n",
        "from sklearn.linear_model import LinearRegression, Lasso, LassoCV, Ridge, RidgeCV\n",
        "from sklearn.model_selection import train_test_split, KFold, cross_val_score"
      ],
      "execution_count": 0,
      "outputs": []
    },
    {
      "metadata": {
        "id": "_G-tt-gbUctN",
        "colab_type": "code",
        "colab": {}
      },
      "cell_type": "code",
      "source": [
        "# Generamos un grid de $\\alpha$ para probar e instanciamos un particionador del Training Set \n",
        "# en K partes para realizar la validación cruzada\n",
        "\n",
        "al_ridge = np.linspace(0.001, 20, 10)\n",
        "al_lasso = np.linspace(0.1, 10, 10)\n",
        "kf = KFold(n_splits=6, shuffle=True, random_state=12)\n",
        "\n",
        "# Instanciamos los modelos\n",
        "\n",
        "lm = LinearRegression(fit_intercept=True,normalize=True)\n",
        "lmRidgeCV = RidgeCV(alphas=al_ridge, cv=kf, normalize=False)\n",
        "lmLassoCV = LassoCV(alphas=al_lasso, cv=kf, normalize=False)"
      ],
      "execution_count": 0,
      "outputs": []
    },
    {
      "metadata": {
        "id": "QHZYD2EbjVhQ",
        "colab_type": "text"
      },
      "cell_type": "markdown",
      "source": [
        "## 3.1 Regresión lineal"
      ]
    },
    {
      "metadata": {
        "id": "ljDE2895UctO",
        "colab_type": "code",
        "colab": {
          "base_uri": "https://localhost:8080/",
          "height": 34
        },
        "outputId": "c37b3543-0246-43c5-f667-d75dbfbc18d6"
      },
      "cell_type": "code",
      "source": [
        "# Entrenamos el modelo LM\n",
        "\n",
        "model = lm.fit(X_train, y_train)\n",
        "predictions = lm.predict(X_test)\n",
        "print ('Score:', model.score(X_test, y_test))"
      ],
      "execution_count": 364,
      "outputs": [
        {
          "output_type": "stream",
          "text": [
            "Score: 0.9999922279544402\n"
          ],
          "name": "stdout"
        }
      ]
    },
    {
      "metadata": {
        "id": "iPaNrnZgUctQ",
        "colab_type": "code",
        "colab": {
          "base_uri": "https://localhost:8080/",
          "height": 92
        },
        "outputId": "d2b57227-19c6-44cc-8de4-1c7e3254e3f9"
      },
      "cell_type": "code",
      "source": [
        "# Hacemos cross validation\n",
        "\n",
        "scores = cross_val_score(lm, X_train, y_train, cv=kf, scoring='r2') \n",
        "scores, scores.mean()"
      ],
      "execution_count": 0,
      "outputs": [
        {
          "output_type": "execute_result",
          "data": {
            "text/plain": [
              "(array([0.2144315 , 0.21555728, 0.21875726, 0.21812945, 0.21408121,\n",
              "        0.21896367]), 0.21665339405160414)"
            ]
          },
          "metadata": {
            "tags": []
          },
          "execution_count": 83
        }
      ]
    },
    {
      "metadata": {
        "id": "eo4XASb9gxit",
        "colab_type": "text"
      },
      "cell_type": "markdown",
      "source": [
        "## 3.2 Modelo Ridge"
      ]
    },
    {
      "metadata": {
        "id": "yrOxVmt1UctR",
        "colab_type": "code",
        "colab": {
          "base_uri": "https://localhost:8080/",
          "height": 102
        },
        "outputId": "ce345d7e-ff01-4f60-e0ea-4b3b603262e5"
      },
      "cell_type": "code",
      "source": [
        "# Entrenamos el modelo Ridge\n",
        "\n",
        "ridgemodel = lmRidgeCV.fit(X_train, y_train)\n",
        "ridgemodel.score"
      ],
      "execution_count": 365,
      "outputs": [
        {
          "output_type": "execute_result",
          "data": {
            "text/plain": [
              "<bound method RegressorMixin.score of RidgeCV(alphas=array([1.00000e-03, 2.22311e+00, 4.44522e+00, 6.66733e+00, 8.88944e+00,\n",
              "       1.11116e+01, 1.33337e+01, 1.55558e+01, 1.77779e+01, 2.00000e+01]),\n",
              "    cv=KFold(n_splits=6, random_state=12, shuffle=True),\n",
              "    fit_intercept=True, gcv_mode=None, normalize=False, scoring=None,\n",
              "    store_cv_values=False)>"
            ]
          },
          "metadata": {
            "tags": []
          },
          "execution_count": 365
        }
      ]
    },
    {
      "metadata": {
        "id": "lyrvb8m0UctS",
        "colab_type": "code",
        "colab": {}
      },
      "cell_type": "code",
      "source": [
        "#Hacemos cross validation\n",
        "\n",
        "scores = cross_val_score(ridgemodel, X_train, y_train, cv=kf, scoring='r2')\n",
        "dict(alpha=ridgemodel.alpha_, scores=scores, mean_score=scores.mean())"
      ],
      "execution_count": 0,
      "outputs": []
    },
    {
      "metadata": {
        "id": "zPY5pqNKqBmb",
        "colab_type": "code",
        "colab": {
          "base_uri": "https://localhost:8080/",
          "height": 92
        },
        "outputId": "6c325fb4-8c0c-4774-d600-fd1b46aa4734"
      },
      "cell_type": "code",
      "source": [
        "print (\"r^2:\", ridgemodel.score(X_test, y_test))\n",
        "print (\"alpha:\", ridgemodel.alpha_)"
      ],
      "execution_count": 0,
      "outputs": [
        {
          "output_type": "stream",
          "text": [
            "r^2: 0.2749794842700505\n",
            "alpha: 15.555777777777775\n"
          ],
          "name": "stdout"
        }
      ]
    },
    {
      "metadata": {
        "id": "1DLu1Tl3g14t",
        "colab_type": "text"
      },
      "cell_type": "markdown",
      "source": [
        "## 3.3 Modelo Lasso"
      ]
    },
    {
      "metadata": {
        "id": "v4S3jDFNg45a",
        "colab_type": "code",
        "colab": {}
      },
      "cell_type": "code",
      "source": [
        "# Entrenamos el modelo Lasso\n",
        "\n",
        "lassomodel = lmLassoCV.fit(X_train, y_train)"
      ],
      "execution_count": 0,
      "outputs": []
    },
    {
      "metadata": {
        "id": "ON_IehMujQI9",
        "colab_type": "code",
        "colab": {
          "base_uri": "https://localhost:8080/",
          "height": 143
        },
        "outputId": "903139c4-bb7d-42af-ebc3-b523105c25d5"
      },
      "cell_type": "code",
      "source": [
        "#Hacemos cross validation\n",
        "\n",
        "scores = cross_val_score(lassomomodel, X_train, y_train, cv=kf, scoring='r2')\n",
        "dict(alpha=lassomodel.alpha_, scores=scores, mean_score=scores.mean(), zero_coefs=(model.coef_ == 0).sum())"
      ],
      "execution_count": 0,
      "outputs": [
        {
          "output_type": "execute_result",
          "data": {
            "text/plain": [
              "{'alpha': 0.1,\n",
              " 'mean_score': 0.039844735076225324,\n",
              " 'scores': array([0.0447771 , 0.03688315, 0.0449976 , 0.03764962, 0.03286014,\n",
              "        0.04190081]),\n",
              " 'zero_coefs': 222}"
            ]
          },
          "metadata": {
            "tags": []
          },
          "execution_count": 43
        }
      ]
    },
    {
      "metadata": {
        "id": "zuKWt-FJwn4a",
        "colab_type": "code",
        "colab": {
          "base_uri": "https://localhost:8080/",
          "height": 92
        },
        "outputId": "e462b220-fba8-48fd-beb1-5a9dbc597da5"
      },
      "cell_type": "code",
      "source": [
        "print (\"r^2:\", lassomodel.score(X_test, y_test))\n",
        "print (\"alpha:\", lassomodel.alpha_)"
      ],
      "execution_count": 0,
      "outputs": [
        {
          "output_type": "stream",
          "text": [
            "r^2: 0.04273292504536353\n",
            "alpha: 0.1\n"
          ],
          "name": "stdout"
        }
      ]
    },
    {
      "metadata": {
        "id": "56iy6-cujkdj",
        "colab_type": "text"
      },
      "cell_type": "markdown",
      "source": [
        "## 3.4 ElasticNet"
      ]
    },
    {
      "metadata": {
        "id": "EaOlwMG_jnqd",
        "colab_type": "code",
        "colab": {
          "base_uri": "https://localhost:8080/",
          "height": 76
        },
        "outputId": "79d40f25-d309-462b-b3fc-a97f599506fb"
      },
      "cell_type": "code",
      "source": [
        "elasticnet_model = linear_model.ElasticNet()\n",
        "\n",
        "# Ajustamos nuevamente, esta vez con regularizacion\n",
        "\n",
        "elasticnet_model = elasticnet_model.fit(X_train, y_train)\n",
        "predictions = elasticnet_model.predict(X_test)\n",
        "\n",
        "print (\"r^2:\", elasticnet_model.score(X_test, y_test))"
      ],
      "execution_count": 0,
      "outputs": [
        {
          "output_type": "stream",
          "text": [
            "r^2: -0.0004189215404966085\n"
          ],
          "name": "stdout"
        }
      ]
    },
    {
      "metadata": {
        "id": "W_V63NjNqZzz",
        "colab_type": "text"
      },
      "cell_type": "markdown",
      "source": [
        ""
      ]
    },
    {
      "metadata": {
        "id": "yMLqLkFCqePw",
        "colab_type": "text"
      },
      "cell_type": "markdown",
      "source": [
        "## 3.5 Graficación Alphas"
      ]
    },
    {
      "metadata": {
        "id": "0nT1WCNL8qOY",
        "colab_type": "code",
        "colab": {}
      },
      "cell_type": "code",
      "source": [
        "# Usando Gridsearch para encontrar los parámetros"
      ],
      "execution_count": 0,
      "outputs": []
    },
    {
      "metadata": {
        "id": "yU9CLD6D8qOb",
        "colab_type": "code",
        "colab": {}
      },
      "cell_type": "code",
      "source": [
        ""
      ],
      "execution_count": 0,
      "outputs": []
    },
    {
      "metadata": {
        "id": "1p81QBDc8qOd",
        "colab_type": "code",
        "colab": {}
      },
      "cell_type": "code",
      "source": [
        ""
      ],
      "execution_count": 0,
      "outputs": []
    },
    {
      "metadata": {
        "id": "GfFqRzhM8qOe",
        "colab_type": "code",
        "colab": {}
      },
      "cell_type": "code",
      "source": [
        ""
      ],
      "execution_count": 0,
      "outputs": []
    },
    {
      "metadata": {
        "id": "MnnLycOiN4iY",
        "colab_type": "code",
        "colab": {}
      },
      "cell_type": "code",
      "source": [
        ""
      ],
      "execution_count": 0,
      "outputs": []
    }
  ]
}