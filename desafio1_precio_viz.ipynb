{
 "cells": [
  {
   "cell_type": "code",
   "execution_count": 2,
   "metadata": {
    "colab": {
     "autoexec": {
      "startup": false,
      "wait_interval": 0
     }
    },
    "colab_type": "code",
    "id": "13018c95-3582-460f-ba8e-4910f7089e11",
    "slideshow": {
     "slide_type": "subslide"
    }
   },
   "outputs": [],
   "source": [
    "% matplotlib inline\n",
    "import matplotlib.pyplot as plt\n",
    "import datetime\n",
    "import numpy as np\n",
    "import pandas as pd\n",
    "import seaborn as sns\n",
    "from sklearn.feature_extraction.text import CountVectorizer\n",
    "#from unidecode import unidecode #QUITO TILDES"
   ]
  },
  {
   "cell_type": "code",
   "execution_count": 3,
   "metadata": {
    "colab": {
     "autoexec": {
      "startup": false,
      "wait_interval": 0
     }
    },
    "colab_type": "code",
    "id": "80c8956f-2e08-49b5-90c6-f97c6a9676ad",
    "slideshow": {
     "slide_type": "slide"
    }
   },
   "outputs": [],
   "source": [
    "# Cargar la data de properati\n",
    "df = pd.read_csv('properatti.csv')  # DATOS DE PROPIEDADES EN VENTA PROPERATI\n"
   ]
  },
  {
   "cell_type": "code",
   "execution_count": 4,
   "metadata": {},
   "outputs": [],
   "source": [
    "#Obtenemos un dataframe con los valores dummies del tipo de moneda\n",
    "dummies_price = pd.get_dummies(df['currency'])"
   ]
  },
  {
   "cell_type": "code",
   "execution_count": 5,
   "metadata": {},
   "outputs": [
    {
     "data": {
      "text/plain": [
       "0    108001\n",
       "1     13219\n",
       "Name: ARS, dtype: int64"
      ]
     },
     "execution_count": 5,
     "metadata": {},
     "output_type": "execute_result"
    }
   ],
   "source": [
    "#Filtramos en una nueva columna los valores que están en ARS\n",
    "df[\"ars\"] = df[\"price\"] * dummies_price[\"ARS\"]\n",
    "dummies_price[\"ARS\"].value_counts()"
   ]
  },
  {
   "cell_type": "code",
   "execution_count": 6,
   "metadata": {},
   "outputs": [
    {
     "data": {
      "text/plain": [
       "False    100810\n",
       "True      20410\n",
       "Name: ars, dtype: int64"
      ]
     },
     "execution_count": 6,
     "metadata": {},
     "output_type": "execute_result"
    }
   ],
   "source": [
    "ars = df[\"ars\"]\n",
    "ars.isnull().value_counts()"
   ]
  },
  {
   "cell_type": "code",
   "execution_count": 7,
   "metadata": {},
   "outputs": [],
   "source": [
    "#Calculamos el valor aproximado del USD según los precios que están en pesos \"ars\"\n",
    "#y que tienen el precio aproximado en USD en la columna \"price_aprox_usd\" y lo guardamos\n",
    "#en una nueva columna \"USDaprox\"\n",
    "df[\"USDaprox\"] = df[\"ars\"] / (df[\"price_aprox_usd\"] * dummies_price[\"ARS\"])"
   ]
  },
  {
   "cell_type": "code",
   "execution_count": 8,
   "metadata": {},
   "outputs": [
    {
     "data": {
      "text/plain": [
       "count    13219.000000\n",
       "mean        17.814183\n",
       "std          0.102316\n",
       "min         17.143000\n",
       "25%         17.830500\n",
       "50%         17.830501\n",
       "75%         17.830502\n",
       "max         17.830531\n",
       "Name: USDaprox, dtype: float64"
      ]
     },
     "execution_count": 8,
     "metadata": {},
     "output_type": "execute_result"
    }
   ],
   "source": [
    "#Miramos los estadísticos de la distribución del precio aproximado del USD\n",
    "df[\"USDaprox\"].describe()"
   ]
  },
  {
   "cell_type": "code",
   "execution_count": 9,
   "metadata": {},
   "outputs": [
    {
     "data": {
      "text/plain": [
       "17.830501005171033"
      ]
     },
     "execution_count": 9,
     "metadata": {},
     "output_type": "execute_result"
    }
   ],
   "source": [
    "#Encontramos el valor que se utiliza en la mediana de los casos para el dólar\n",
    "# y así trabajar con este valor para las aproximaciones que hagan falta\n",
    "df[\"USDaprox\"].median()"
   ]
  },
  {
   "cell_type": "code",
   "execution_count": 10,
   "metadata": {},
   "outputs": [],
   "source": [
    "#Chequeamos de otra forma el valor del USD usando el precio por M2 en ars y en USD\n",
    "#Dividiendo el precio en ars por el precio en USD\n",
    "df[\"USDaprox1\"] = df[\"price_per_m2\"] / df[\"price_usd_per_m2\"]"
   ]
  },
  {
   "cell_type": "code",
   "execution_count": 11,
   "metadata": {},
   "outputs": [
    {
     "data": {
      "text/plain": [
       "count    63350.000000\n",
       "mean         5.869295\n",
       "std        158.413517\n",
       "min          0.001061\n",
       "25%          1.000000\n",
       "50%          1.125000\n",
       "75%          1.626609\n",
       "max      23848.295570\n",
       "Name: USDaprox1, dtype: float64"
      ]
     },
     "execution_count": 11,
     "metadata": {},
     "output_type": "execute_result"
    }
   ],
   "source": [
    "#Comprobamos que esta forma de aproximar el valor de USD no nos sirve. Los valores\n",
    "#son muy dispersos así que trabajaremos con la mediana del cálculo anterior\n",
    "df[\"USDaprox1\"].describe()"
   ]
  },
  {
   "cell_type": "code",
   "execution_count": 12,
   "metadata": {},
   "outputs": [],
   "source": [
    "#Asignamos un valor a USD\n",
    "USD = df[\"USDaprox\"].median()"
   ]
  },
  {
   "cell_type": "code",
   "execution_count": 13,
   "metadata": {},
   "outputs": [],
   "source": [
    "#Armamos una nueva columna donde vamos a imputar los precios por M2 en USD de forma que\n",
    "#podamos usarlo como valorizador. Lo llenamos en principio con los valores de price_usd_per_m2\n",
    "y = df.loc[(df[\"price_per_m2\"] < 200000) & (df[\"price_per_m2\"] > 100)][\"price_per_m2\"]/USD\n",
    "df[\"newusd_per_m2\"] = df[\"price_usd_per_m2\"].fillna(y)"
   ]
  },
  {
   "cell_type": "code",
   "execution_count": 121,
   "metadata": {},
   "outputs": [
    {
     "data": {
      "text/plain": [
       "count    87490.000000\n",
       "mean       354.619819\n",
       "std        701.665609\n",
       "min          5.703424\n",
       "25%         86.929694\n",
       "50%        124.073477\n",
       "75%        187.754388\n",
       "max      10936.316368\n",
       "Name: price_per_m2, dtype: float64"
      ]
     },
     "execution_count": 121,
     "metadata": {},
     "output_type": "execute_result"
    }
   ],
   "source": [
    "y.describe()"
   ]
  },
  {
   "cell_type": "code",
   "execution_count": 15,
   "metadata": {},
   "outputs": [
    {
     "data": {
      "text/plain": [
       "count     92819.000000\n",
       "mean       1685.418148\n",
       "std        2531.729858\n",
       "min           0.600000\n",
       "25%         330.578512\n",
       "50%        1461.574545\n",
       "75%        2233.634386\n",
       "max      206333.333333\n",
       "Name: newusd_per_m2, dtype: float64"
      ]
     },
     "execution_count": 15,
     "metadata": {},
     "output_type": "execute_result"
    }
   ],
   "source": [
    "df[\"newusd_per_m2\"].describe()"
   ]
  },
  {
   "cell_type": "code",
   "execution_count": 16,
   "metadata": {},
   "outputs": [
    {
     "data": {
      "text/plain": [
       "92356       91.110661\n",
       "83708     1542.301000\n",
       "30447     2000.000000\n",
       "58487     2378.378378\n",
       "17684      690.690691\n",
       "23322     1133.606170\n",
       "259       2106.299213\n",
       "6160      1702.439024\n",
       "45558     1041.553940\n",
       "118707     435.483871\n",
       "24402     1876.288660\n",
       "7109       600.000000\n",
       "73997     2333.333333\n",
       "115056            NaN\n",
       "10578     1461.538462\n",
       "65986             NaN\n",
       "103335     557.939914\n",
       "62558      296.674506\n",
       "35053             NaN\n",
       "72151             NaN\n",
       "101972            NaN\n",
       "87722     1975.555556\n",
       "66260      866.666667\n",
       "62560      151.490383\n",
       "85220     1045.454545\n",
       "28485     2533.333333\n",
       "36832             NaN\n",
       "78198     2895.061728\n",
       "2402              NaN\n",
       "4374       394.444444\n",
       "Name: newusd_per_m2, dtype: float64"
      ]
     },
     "execution_count": 16,
     "metadata": {},
     "output_type": "execute_result"
    }
   ],
   "source": [
    "df[\"newusd_per_m2\"].sample(30)"
   ]
  },
  {
   "cell_type": "code",
   "execution_count": 17,
   "metadata": {},
   "outputs": [],
   "source": [
    "#Continuamos imputando los NaN con los valores que podemos obtener\n",
    "#de dividir el precio total en usd \"price\" por la superficie en M2"
   ]
  },
  {
   "cell_type": "code",
   "execution_count": 18,
   "metadata": {},
   "outputs": [],
   "source": [
    "df[\"newprice_m2_ars\"] = df[\"price\"] / df[\"surface_total_in_m2\"]\n",
    "df[\"newprice_m2_usd\"] = df[\"price\"] / df[\"surface_total_in_m2\"]\n",
    "df[\"newprice_m2\"] = df[\"newprice_m2_usd\"]*dummies_price[\"USD\"] + df[\"newprice_m2_ars\"]*dummies_price[\"ARS\"]/USD"
   ]
  },
  {
   "cell_type": "code",
   "execution_count": 19,
   "metadata": {},
   "outputs": [],
   "source": [
    "#df[\"newprice_m2\"].fillna(0, inplace=True)"
   ]
  },
  {
   "cell_type": "code",
   "execution_count": 20,
   "metadata": {},
   "outputs": [],
   "source": [
    "newprice = df[\"newprice_m2\"]"
   ]
  },
  {
   "cell_type": "code",
   "execution_count": 21,
   "metadata": {},
   "outputs": [],
   "source": [
    "df[\"newusd_per_m2\"] = df[\"newusd_per_m2\"].fillna(newprice)"
   ]
  },
  {
   "cell_type": "code",
   "execution_count": 22,
   "metadata": {},
   "outputs": [
    {
     "data": {
      "text/plain": [
       "28401"
      ]
     },
     "execution_count": 22,
     "metadata": {},
     "output_type": "execute_result"
    }
   ],
   "source": [
    "df[\"newusd_per_m2\"].isna().sum()"
   ]
  },
  {
   "cell_type": "code",
   "execution_count": 23,
   "metadata": {},
   "outputs": [
    {
     "data": {
      "text/plain": [
       "count     92819.000000\n",
       "mean       1685.418148\n",
       "std        2531.729858\n",
       "min           0.600000\n",
       "25%         330.578512\n",
       "50%        1461.574545\n",
       "75%        2233.634386\n",
       "max      206333.333333\n",
       "Name: newusd_per_m2, dtype: float64"
      ]
     },
     "execution_count": 23,
     "metadata": {},
     "output_type": "execute_result"
    }
   ],
   "source": [
    "df[\"newusd_per_m2\"].describe()"
   ]
  },
  {
   "cell_type": "code",
   "execution_count": 24,
   "metadata": {},
   "outputs": [],
   "source": [
    "dfPrecio = df.loc[:,['place_name','property_type']].copy()\n",
    "dfPrecio['place_name_id'] = df['place_name'].astype('category').cat.codes\n",
    "dfPrecio['property_type_id'] = df['property_type'].astype('category').cat.codes\n",
    "dfPrecio['currency_id'] = df['currency'].astype('category').cat.codes"
   ]
  },
  {
   "cell_type": "code",
   "execution_count": 25,
   "metadata": {},
   "outputs": [],
   "source": [
    "dfPrecio['precio_calculado']=df['newusd_per_m2']\n",
    "dfPrecio = pd.concat([dfPrecio, dummies_price], axis=1);\n",
    "dfPrecio2=dfPrecio"
   ]
  },
  {
   "cell_type": "code",
   "execution_count": 26,
   "metadata": {},
   "outputs": [
    {
     "name": "stderr",
     "output_type": "stream",
     "text": [
      "/opt/conda/lib/python3.6/site-packages/numpy/lib/nanfunctions.py:1018: RuntimeWarning: Mean of empty slice\n",
      "  return np.nanmean(a, axis, out=out, keepdims=keepdims)\n"
     ]
    },
    {
     "name": "stdout",
     "output_type": "stream",
     "text": [
      "Sin Imputar: 632\n",
      "Imputados: 120588\n",
      "Mediana Imputados: 1384.5905048076922\n"
     ]
    }
   ],
   "source": [
    "dfPrecio[\"precio_calculado\"] = dfPrecio.groupby(['place_name_id','property_type_id'])['precio_calculado'].transform(lambda x: x.fillna(x.median()))\n",
    "print('Sin Imputar:',dfPrecio[\"precio_calculado\"].isna().sum() )\n",
    "dfPrecio[\"precio_calculado\"].describe()\n",
    "print('Imputados:',dfPrecio[(~dfPrecio['precio_calculado'].isna()) ]['precio_calculado'].count())\n",
    "print('Mediana Imputados:',dfPrecio[(~dfPrecio['precio_calculado'].isna()) ]['precio_calculado'].median())"
   ]
  },
  {
   "cell_type": "code",
   "execution_count": 27,
   "metadata": {},
   "outputs": [
    {
     "name": "stderr",
     "output_type": "stream",
     "text": [
      "/opt/conda/lib/python3.6/site-packages/matplotlib/axes/_axes.py:6462: UserWarning: The 'normed' kwarg is deprecated, and has been replaced by the 'density' kwarg.\n",
      "  warnings.warn(\"The 'normed' kwarg is deprecated, and has been \"\n"
     ]
    },
    {
     "data": {
      "text/plain": [
       "<matplotlib.axes._subplots.AxesSubplot at 0x7ff1d80a44a8>"
      ]
     },
     "execution_count": 27,
     "metadata": {},
     "output_type": "execute_result"
    },
    {
     "data": {
      "image/png": "[encoded data removed]",
      "text/plain": [
       "<Figure size 432x288 with 1 Axes>"
      ]
     },
     "metadata": {},
     "output_type": "display_data"
    }
   ],
   "source": [
    "sns.distplot(dfPrecio[(dfPrecio['precio_calculado']<10000) & (dfPrecio['precio_calculado']>10)]['precio_calculado'], bins=10)"
   ]
  },
  {
   "cell_type": "code",
   "execution_count": null,
   "metadata": {},
   "outputs": [],
   "source": []
  },
  {
   "cell_type": "code",
   "execution_count": 28,
   "metadata": {},
   "outputs": [
    {
     "name": "stderr",
     "output_type": "stream",
     "text": [
      "/opt/conda/lib/python3.6/site-packages/matplotlib/axes/_axes.py:6462: UserWarning: The 'normed' kwarg is deprecated, and has been replaced by the 'density' kwarg.\n",
      "  warnings.warn(\"The 'normed' kwarg is deprecated, and has been \"\n"
     ]
    },
    {
     "data": {
      "text/plain": [
       "<matplotlib.axes._subplots.AxesSubplot at 0x7ff1d81b5208>"
      ]
     },
     "execution_count": 28,
     "metadata": {},
     "output_type": "execute_result"
    },
    {
     "data": {
      "image/png": "[encoded data removed]",
      "text/plain": [
       "<Figure size 432x288 with 1 Axes>"
      ]
     },
     "metadata": {},
     "output_type": "display_data"
    }
   ],
   "source": [
    "sns.distplot(dfPrecio['precio_calculado'].dropna(), bins=20)"
   ]
  },
  {
   "cell_type": "code",
   "execution_count": 29,
   "metadata": {},
   "outputs": [],
   "source": [
    "dfPrecio[\"surface_total_in_m2\"] = df[\"surface_total_in_m2\"]"
   ]
  },
  {
   "cell_type": "code",
   "execution_count": 30,
   "metadata": {},
   "outputs": [
    {
     "data": {
      "text/plain": [
       "0    1127.272727\n",
       "1    1320.512821\n",
       "2    1309.090909\n",
       "3    1277.777778\n",
       "4    1828.571429\n",
       "Name: precio_calculado, dtype: float64"
      ]
     },
     "execution_count": 30,
     "metadata": {},
     "output_type": "execute_result"
    }
   ],
   "source": [
    "dfPrecio[\"precio_calculado\"].dropna().head()"
   ]
  },
  {
   "cell_type": "markdown",
   "metadata": {},
   "source": [
    "## Top 10 de zonas por precio/m2 en USD"
   ]
  },
  {
   "cell_type": "code",
   "execution_count": 32,
   "metadata": {},
   "outputs": [
    {
     "data": {
      "text/plain": [
       "place_name\n",
       "Alejandro Roca             24038.461538\n",
       "San Francisco del Monte    15833.333333\n",
       "Boedo                       9928.968417\n",
       "St. Patrick Country         8048.309179\n",
       "San Cristobal               7537.027362\n",
       "Monte Cristo                6400.000000\n",
       "Villa Nueva                 6276.150628\n",
       "Puerto Madero               5335.427190\n",
       "Cafayate                    5047.530632\n",
       "Guillermo Hudson            4722.222222\n",
       "Name: precio_calculado, dtype: float64"
      ]
     },
     "execution_count": 32,
     "metadata": {},
     "output_type": "execute_result"
    }
   ],
   "source": [
    "#Top 10 por valor m2 de propiedad\n",
    "dfPrecio.groupby('place_name')['precio_calculado'].mean().sort_values(ascending = False).head(10)"
   ]
  },
  {
   "cell_type": "markdown",
   "metadata": {},
   "source": [
    "## Top 10 de zonas por precio/m2 en USD filtrando valores > USD15.000"
   ]
  },
  {
   "cell_type": "code",
   "execution_count": 94,
   "metadata": {},
   "outputs": [],
   "source": [
    "price_new = dfPrecio[(dfPrecio['precio_calculado']<10000) & (dfPrecio['precio_calculado']>1)]"
   ]
  },
  {
   "cell_type": "code",
   "execution_count": 97,
   "metadata": {},
   "outputs": [
    {
     "name": "stdout",
     "output_type": "stream",
     "text": [
      "place_name\n",
      "Monte Cristo           6400.000000\n",
      "Villa Nueva            6276.150628\n",
      "Puerto Madero          5620.192308\n",
      "Cafayate               5047.530632\n",
      "Guillermo Hudson       4722.222222\n",
      "Arroyo Ceibal          4486.693895\n",
      "Capilla del Rosario    4375.000000\n",
      "Palermo Chico          4140.476190\n",
      "Colastiné              3925.857158\n",
      "Manzone                3657.074468\n",
      "Name: precio_calculado, dtype: float64\n"
     ]
    }
   ],
   "source": [
    "print(price_new.groupby('place_name')['precio_calculado'].median().sort_values(ascending = False).head(10))"
   ]
  },
  {
   "cell_type": "code",
   "execution_count": null,
   "metadata": {},
   "outputs": [],
   "source": [
    "sns.boxplot"
   ]
  },
  {
   "cell_type": "markdown",
   "metadata": {},
   "source": [
    "## Top 10 zonas por tamaños de superficie"
   ]
  },
  {
   "cell_type": "code",
   "execution_count": 81,
   "metadata": {},
   "outputs": [
    {
     "data": {
      "text/plain": [
       "place_name\n",
       "Zárate                        26597.5\n",
       "Los Molinos                   22593.0\n",
       "El Trapiche                   18000.0\n",
       "Campo Quijano                 17892.5\n",
       "Monte Vera                    11111.0\n",
       "Uribelarrea                   10200.0\n",
       "Corcovado                     10000.0\n",
       "La Esperanza Club de Campo     9053.0\n",
       "Tornquist                      6000.0\n",
       "Villa Icho Cruz                4850.0\n",
       "Name: surface_total_in_m2, dtype: float64"
      ]
     },
     "execution_count": 81,
     "metadata": {},
     "output_type": "execute_result"
    }
   ],
   "source": [
    "dfPrecio.groupby('place_name')['surface_total_in_m2'].median().sort_values(ascending = False).head(10)"
   ]
  },
  {
   "cell_type": "markdown",
   "metadata": {},
   "source": [
    "## Boxplot de Precio por Tipo de Propiedad"
   ]
  },
  {
   "cell_type": "code",
   "execution_count": 95,
   "metadata": {},
   "outputs": [
    {
     "data": {
      "text/plain": [
       "<matplotlib.axes._subplots.AxesSubplot at 0x7ff1ccb3e2b0>"
      ]
     },
     "execution_count": 95,
     "metadata": {},
     "output_type": "execute_result"
    },
    {
     "data": {
      "image/png": "[encoded data removed]",
      "text/plain": [
       "<Figure size 432x288 with 1 Axes>"
      ]
     },
     "metadata": {},
     "output_type": "display_data"
    }
   ],
   "source": [
    "sns.boxplot(x = price_new[\"property_type\"], y= price_new[\"precio_calculado\"].dropna())"
   ]
  },
  {
   "cell_type": "markdown",
   "metadata": {},
   "source": [
    "## Pivot Table con Precios Promedio por Zona y tipo de Propiedad"
   ]
  },
  {
   "cell_type": "code",
   "execution_count": 42,
   "metadata": {},
   "outputs": [
    {
     "data": {
      "text/html": [
       "<div>\n",
       "<style scoped>\n",
       "    .dataframe tbody tr th:only-of-type {\n",
       "        vertical-align: middle;\n",
       "    }\n",
       "\n",
       "    .dataframe tbody tr th {\n",
       "        vertical-align: top;\n",
       "    }\n",
       "\n",
       "    .dataframe thead th {\n",
       "        text-align: right;\n",
       "    }\n",
       "</style>\n",
       "<table border=\"1\" class=\"dataframe\">\n",
       "  <thead>\n",
       "    <tr style=\"text-align: right;\">\n",
       "      <th>property_type</th>\n",
       "      <th>PH</th>\n",
       "      <th>apartment</th>\n",
       "      <th>house</th>\n",
       "      <th>store</th>\n",
       "    </tr>\n",
       "    <tr>\n",
       "      <th>place_name</th>\n",
       "      <th></th>\n",
       "      <th></th>\n",
       "      <th></th>\n",
       "      <th></th>\n",
       "    </tr>\n",
       "  </thead>\n",
       "  <tbody>\n",
       "    <tr>\n",
       "      <th>Country Maschwitz Club</th>\n",
       "      <td>NaN</td>\n",
       "      <td>NaN</td>\n",
       "      <td>928.513808</td>\n",
       "      <td>NaN</td>\n",
       "    </tr>\n",
       "    <tr>\n",
       "      <th>los alamos</th>\n",
       "      <td>NaN</td>\n",
       "      <td>1600.000000</td>\n",
       "      <td>NaN</td>\n",
       "      <td>NaN</td>\n",
       "    </tr>\n",
       "    <tr>\n",
       "      <th>9 de Abril</th>\n",
       "      <td>NaN</td>\n",
       "      <td>NaN</td>\n",
       "      <td>94.017094</td>\n",
       "      <td>111.940469</td>\n",
       "    </tr>\n",
       "    <tr>\n",
       "      <th>Abasto</th>\n",
       "      <td>1565.450682</td>\n",
       "      <td>1818.223873</td>\n",
       "      <td>189.253662</td>\n",
       "      <td>2040.227983</td>\n",
       "    </tr>\n",
       "    <tr>\n",
       "      <th>Abril Club de Campo</th>\n",
       "      <td>NaN</td>\n",
       "      <td>NaN</td>\n",
       "      <td>950.638046</td>\n",
       "      <td>NaN</td>\n",
       "    </tr>\n",
       "    <tr>\n",
       "      <th>Acacias Blancas</th>\n",
       "      <td>NaN</td>\n",
       "      <td>NaN</td>\n",
       "      <td>756.198791</td>\n",
       "      <td>NaN</td>\n",
       "    </tr>\n",
       "    <tr>\n",
       "      <th>Acassuso</th>\n",
       "      <td>1522.925575</td>\n",
       "      <td>2097.133324</td>\n",
       "      <td>1253.227347</td>\n",
       "      <td>1547.261376</td>\n",
       "    </tr>\n",
       "    <tr>\n",
       "      <th>Achiras</th>\n",
       "      <td>NaN</td>\n",
       "      <td>NaN</td>\n",
       "      <td>80.119534</td>\n",
       "      <td>NaN</td>\n",
       "    </tr>\n",
       "    <tr>\n",
       "      <th>Adrogué</th>\n",
       "      <td>951.000691</td>\n",
       "      <td>1802.737923</td>\n",
       "      <td>961.848280</td>\n",
       "      <td>1338.814889</td>\n",
       "    </tr>\n",
       "    <tr>\n",
       "      <th>Aeropuerto Internacional Ezeiza</th>\n",
       "      <td>NaN</td>\n",
       "      <td>NaN</td>\n",
       "      <td>943.396226</td>\n",
       "      <td>NaN</td>\n",
       "    </tr>\n",
       "    <tr>\n",
       "      <th>Agronomía</th>\n",
       "      <td>845.841615</td>\n",
       "      <td>1741.551680</td>\n",
       "      <td>462.889817</td>\n",
       "      <td>1200.000000</td>\n",
       "    </tr>\n",
       "    <tr>\n",
       "      <th>Agua Blanca</th>\n",
       "      <td>NaN</td>\n",
       "      <td>NaN</td>\n",
       "      <td>35.332714</td>\n",
       "      <td>NaN</td>\n",
       "    </tr>\n",
       "    <tr>\n",
       "      <th>Agua de Oro</th>\n",
       "      <td>NaN</td>\n",
       "      <td>NaN</td>\n",
       "      <td>255.052179</td>\n",
       "      <td>NaN</td>\n",
       "    </tr>\n",
       "    <tr>\n",
       "      <th>Aguas Verdes</th>\n",
       "      <td>545.454545</td>\n",
       "      <td>812.500000</td>\n",
       "      <td>206.456328</td>\n",
       "      <td>NaN</td>\n",
       "    </tr>\n",
       "    <tr>\n",
       "      <th>Albanueva Barrio Cerrado</th>\n",
       "      <td>NaN</td>\n",
       "      <td>2766.683633</td>\n",
       "      <td>2359.288149</td>\n",
       "      <td>NaN</td>\n",
       "    </tr>\n",
       "    <tr>\n",
       "      <th>Aldea Brasilera</th>\n",
       "      <td>NaN</td>\n",
       "      <td>NaN</td>\n",
       "      <td>260.000000</td>\n",
       "      <td>NaN</td>\n",
       "    </tr>\n",
       "    <tr>\n",
       "      <th>Aldo Bonzi</th>\n",
       "      <td>NaN</td>\n",
       "      <td>NaN</td>\n",
       "      <td>682.500000</td>\n",
       "      <td>NaN</td>\n",
       "    </tr>\n",
       "    <tr>\n",
       "      <th>Alejandro Korn</th>\n",
       "      <td>NaN</td>\n",
       "      <td>1111.111111</td>\n",
       "      <td>329.887697</td>\n",
       "      <td>NaN</td>\n",
       "    </tr>\n",
       "    <tr>\n",
       "      <th>Alem</th>\n",
       "      <td>NaN</td>\n",
       "      <td>1308.143939</td>\n",
       "      <td>NaN</td>\n",
       "      <td>NaN</td>\n",
       "    </tr>\n",
       "    <tr>\n",
       "      <th>Almafuerte</th>\n",
       "      <td>NaN</td>\n",
       "      <td>NaN</td>\n",
       "      <td>450.306869</td>\n",
       "      <td>NaN</td>\n",
       "    </tr>\n",
       "    <tr>\n",
       "      <th>Almagro</th>\n",
       "      <td>1544.990162</td>\n",
       "      <td>1972.332506</td>\n",
       "      <td>1305.718523</td>\n",
       "      <td>1649.373109</td>\n",
       "    </tr>\n",
       "    <tr>\n",
       "      <th>Almirante Brown</th>\n",
       "      <td>923.076923</td>\n",
       "      <td>876.581216</td>\n",
       "      <td>469.223878</td>\n",
       "      <td>1172.248804</td>\n",
       "    </tr>\n",
       "    <tr>\n",
       "      <th>Alta Gracia</th>\n",
       "      <td>NaN</td>\n",
       "      <td>NaN</td>\n",
       "      <td>135.228658</td>\n",
       "      <td>NaN</td>\n",
       "    </tr>\n",
       "    <tr>\n",
       "      <th>Altamira</th>\n",
       "      <td>NaN</td>\n",
       "      <td>NaN</td>\n",
       "      <td>1649.397900</td>\n",
       "      <td>NaN</td>\n",
       "    </tr>\n",
       "    <tr>\n",
       "      <th>Alto Los Cardales</th>\n",
       "      <td>NaN</td>\n",
       "      <td>NaN</td>\n",
       "      <td>610.000000</td>\n",
       "      <td>NaN</td>\n",
       "    </tr>\n",
       "    <tr>\n",
       "      <th>Altos de Hudson I</th>\n",
       "      <td>NaN</td>\n",
       "      <td>NaN</td>\n",
       "      <td>98.738862</td>\n",
       "      <td>NaN</td>\n",
       "    </tr>\n",
       "    <tr>\n",
       "      <th>Altos de Hudson II</th>\n",
       "      <td>NaN</td>\n",
       "      <td>2905.472201</td>\n",
       "      <td>1518.874341</td>\n",
       "      <td>NaN</td>\n",
       "    </tr>\n",
       "    <tr>\n",
       "      <th>Altos de Manzanares 1 y 2</th>\n",
       "      <td>NaN</td>\n",
       "      <td>NaN</td>\n",
       "      <td>1050.279964</td>\n",
       "      <td>NaN</td>\n",
       "    </tr>\n",
       "    <tr>\n",
       "      <th>Altos de Matheu</th>\n",
       "      <td>NaN</td>\n",
       "      <td>NaN</td>\n",
       "      <td>910.000000</td>\n",
       "      <td>NaN</td>\n",
       "    </tr>\n",
       "    <tr>\n",
       "      <th>Altos del Golf</th>\n",
       "      <td>NaN</td>\n",
       "      <td>NaN</td>\n",
       "      <td>643.249160</td>\n",
       "      <td>NaN</td>\n",
       "    </tr>\n",
       "    <tr>\n",
       "      <th>...</th>\n",
       "      <td>...</td>\n",
       "      <td>...</td>\n",
       "      <td>...</td>\n",
       "      <td>...</td>\n",
       "    </tr>\n",
       "    <tr>\n",
       "      <th>Villa Riachuelo</th>\n",
       "      <td>846.099252</td>\n",
       "      <td>79.451871</td>\n",
       "      <td>1051.282051</td>\n",
       "      <td>NaN</td>\n",
       "    </tr>\n",
       "    <tr>\n",
       "      <th>Villa Rosa</th>\n",
       "      <td>325.266923</td>\n",
       "      <td>1844.417970</td>\n",
       "      <td>480.798671</td>\n",
       "      <td>780.842740</td>\n",
       "    </tr>\n",
       "    <tr>\n",
       "      <th>Villa Rumipal</th>\n",
       "      <td>NaN</td>\n",
       "      <td>538.403280</td>\n",
       "      <td>154.206734</td>\n",
       "      <td>NaN</td>\n",
       "    </tr>\n",
       "    <tr>\n",
       "      <th>Villa Santa Cruz del Lago</th>\n",
       "      <td>NaN</td>\n",
       "      <td>712.871287</td>\n",
       "      <td>423.591497</td>\n",
       "      <td>NaN</td>\n",
       "    </tr>\n",
       "    <tr>\n",
       "      <th>Villa Santa Rita</th>\n",
       "      <td>1117.704593</td>\n",
       "      <td>978.399933</td>\n",
       "      <td>1480.127531</td>\n",
       "      <td>448.669389</td>\n",
       "    </tr>\n",
       "    <tr>\n",
       "      <th>Villa Sarmiento</th>\n",
       "      <td>908.852543</td>\n",
       "      <td>720.030253</td>\n",
       "      <td>1050.078111</td>\n",
       "      <td>2243.902439</td>\n",
       "    </tr>\n",
       "    <tr>\n",
       "      <th>Villa Soldati</th>\n",
       "      <td>396.472360</td>\n",
       "      <td>553.838263</td>\n",
       "      <td>172.041318</td>\n",
       "      <td>394.743231</td>\n",
       "    </tr>\n",
       "    <tr>\n",
       "      <th>Villa Tesei</th>\n",
       "      <td>NaN</td>\n",
       "      <td>856.410256</td>\n",
       "      <td>443.199131</td>\n",
       "      <td>45.228769</td>\n",
       "    </tr>\n",
       "    <tr>\n",
       "      <th>Villa Udaondo</th>\n",
       "      <td>338.541667</td>\n",
       "      <td>1666.666667</td>\n",
       "      <td>572.262391</td>\n",
       "      <td>NaN</td>\n",
       "    </tr>\n",
       "    <tr>\n",
       "      <th>Villa Urquiza</th>\n",
       "      <td>1486.998114</td>\n",
       "      <td>2236.397062</td>\n",
       "      <td>1304.020402</td>\n",
       "      <td>1776.477705</td>\n",
       "    </tr>\n",
       "    <tr>\n",
       "      <th>Villa Vatteone</th>\n",
       "      <td>1171.875000</td>\n",
       "      <td>NaN</td>\n",
       "      <td>751.595345</td>\n",
       "      <td>NaN</td>\n",
       "    </tr>\n",
       "    <tr>\n",
       "      <th>Villa Ventana</th>\n",
       "      <td>NaN</td>\n",
       "      <td>NaN</td>\n",
       "      <td>119.047619</td>\n",
       "      <td>NaN</td>\n",
       "    </tr>\n",
       "    <tr>\n",
       "      <th>Villa de Las Rosas</th>\n",
       "      <td>NaN</td>\n",
       "      <td>NaN</td>\n",
       "      <td>47.554282</td>\n",
       "      <td>NaN</td>\n",
       "    </tr>\n",
       "    <tr>\n",
       "      <th>Villa de Mayo</th>\n",
       "      <td>NaN</td>\n",
       "      <td>1767.098305</td>\n",
       "      <td>297.936511</td>\n",
       "      <td>701.045921</td>\n",
       "    </tr>\n",
       "    <tr>\n",
       "      <th>Villa de Soto</th>\n",
       "      <td>NaN</td>\n",
       "      <td>NaN</td>\n",
       "      <td>721.758641</td>\n",
       "      <td>NaN</td>\n",
       "    </tr>\n",
       "    <tr>\n",
       "      <th>Villa del Dique</th>\n",
       "      <td>NaN</td>\n",
       "      <td>NaN</td>\n",
       "      <td>305.353211</td>\n",
       "      <td>NaN</td>\n",
       "    </tr>\n",
       "    <tr>\n",
       "      <th>Villa del Parque</th>\n",
       "      <td>1326.658566</td>\n",
       "      <td>1988.644149</td>\n",
       "      <td>1030.540935</td>\n",
       "      <td>1874.909676</td>\n",
       "    </tr>\n",
       "    <tr>\n",
       "      <th>Villa del Totoral</th>\n",
       "      <td>NaN</td>\n",
       "      <td>NaN</td>\n",
       "      <td>177.205093</td>\n",
       "      <td>NaN</td>\n",
       "    </tr>\n",
       "    <tr>\n",
       "      <th>Village Golf &amp; Tennis Country Club</th>\n",
       "      <td>NaN</td>\n",
       "      <td>NaN</td>\n",
       "      <td>691.845971</td>\n",
       "      <td>NaN</td>\n",
       "    </tr>\n",
       "    <tr>\n",
       "      <th>Villars</th>\n",
       "      <td>NaN</td>\n",
       "      <td>NaN</td>\n",
       "      <td>97.222222</td>\n",
       "      <td>NaN</td>\n",
       "    </tr>\n",
       "    <tr>\n",
       "      <th>Virasoro Village</th>\n",
       "      <td>NaN</td>\n",
       "      <td>NaN</td>\n",
       "      <td>2576.923077</td>\n",
       "      <td>NaN</td>\n",
       "    </tr>\n",
       "    <tr>\n",
       "      <th>Virrey del Pino</th>\n",
       "      <td>NaN</td>\n",
       "      <td>121.527778</td>\n",
       "      <td>159.396452</td>\n",
       "      <td>NaN</td>\n",
       "    </tr>\n",
       "    <tr>\n",
       "      <th>Virreyes</th>\n",
       "      <td>272.337160</td>\n",
       "      <td>465.713378</td>\n",
       "      <td>209.568492</td>\n",
       "      <td>288.423070</td>\n",
       "    </tr>\n",
       "    <tr>\n",
       "      <th>Wenceslao Escalante</th>\n",
       "      <td>NaN</td>\n",
       "      <td>NaN</td>\n",
       "      <td>364.543833</td>\n",
       "      <td>NaN</td>\n",
       "    </tr>\n",
       "    <tr>\n",
       "      <th>Wilde</th>\n",
       "      <td>1199.118079</td>\n",
       "      <td>1333.887590</td>\n",
       "      <td>640.429939</td>\n",
       "      <td>519.368497</td>\n",
       "    </tr>\n",
       "    <tr>\n",
       "      <th>William Morris</th>\n",
       "      <td>NaN</td>\n",
       "      <td>NaN</td>\n",
       "      <td>1235.294118</td>\n",
       "      <td>NaN</td>\n",
       "    </tr>\n",
       "    <tr>\n",
       "      <th>Yerba Buena</th>\n",
       "      <td>NaN</td>\n",
       "      <td>1167.080146</td>\n",
       "      <td>954.992255</td>\n",
       "      <td>602.666135</td>\n",
       "    </tr>\n",
       "    <tr>\n",
       "      <th>Zelaya</th>\n",
       "      <td>NaN</td>\n",
       "      <td>NaN</td>\n",
       "      <td>238.446082</td>\n",
       "      <td>NaN</td>\n",
       "    </tr>\n",
       "    <tr>\n",
       "      <th>Zárate</th>\n",
       "      <td>NaN</td>\n",
       "      <td>NaN</td>\n",
       "      <td>98.543755</td>\n",
       "      <td>NaN</td>\n",
       "    </tr>\n",
       "    <tr>\n",
       "      <th>coordenadas 34.255511</th>\n",
       "      <td>NaN</td>\n",
       "      <td>NaN</td>\n",
       "      <td>1943.462898</td>\n",
       "      <td>NaN</td>\n",
       "    </tr>\n",
       "  </tbody>\n",
       "</table>\n",
       "<p>942 rows × 4 columns</p>\n",
       "</div>"
      ],
      "text/plain": [
       "property_type                                PH    apartment        house  \\\n",
       "place_name                                                                  \n",
       " Country Maschwitz Club                     NaN          NaN   928.513808   \n",
       " los alamos                                 NaN  1600.000000          NaN   \n",
       "9 de Abril                                  NaN          NaN    94.017094   \n",
       "Abasto                              1565.450682  1818.223873   189.253662   \n",
       "Abril Club de Campo                         NaN          NaN   950.638046   \n",
       "Acacias Blancas                             NaN          NaN   756.198791   \n",
       "Acassuso                            1522.925575  2097.133324  1253.227347   \n",
       "Achiras                                     NaN          NaN    80.119534   \n",
       "Adrogué                              951.000691  1802.737923   961.848280   \n",
       "Aeropuerto Internacional Ezeiza             NaN          NaN   943.396226   \n",
       "Agronomía                            845.841615  1741.551680   462.889817   \n",
       "Agua Blanca                                 NaN          NaN    35.332714   \n",
       "Agua de Oro                                 NaN          NaN   255.052179   \n",
       "Aguas Verdes                         545.454545   812.500000   206.456328   \n",
       "Albanueva Barrio Cerrado                    NaN  2766.683633  2359.288149   \n",
       "Aldea Brasilera                             NaN          NaN   260.000000   \n",
       "Aldo Bonzi                                  NaN          NaN   682.500000   \n",
       "Alejandro Korn                              NaN  1111.111111   329.887697   \n",
       "Alem                                        NaN  1308.143939          NaN   \n",
       "Almafuerte                                  NaN          NaN   450.306869   \n",
       "Almagro                             1544.990162  1972.332506  1305.718523   \n",
       "Almirante Brown                      923.076923   876.581216   469.223878   \n",
       "Alta Gracia                                 NaN          NaN   135.228658   \n",
       "Altamira                                    NaN          NaN  1649.397900   \n",
       "Alto Los Cardales                           NaN          NaN   610.000000   \n",
       "Altos de Hudson I                           NaN          NaN    98.738862   \n",
       "Altos de Hudson II                          NaN  2905.472201  1518.874341   \n",
       "Altos de Manzanares 1 y 2                   NaN          NaN  1050.279964   \n",
       "Altos de Matheu                             NaN          NaN   910.000000   \n",
       "Altos del Golf                              NaN          NaN   643.249160   \n",
       "...                                         ...          ...          ...   \n",
       "Villa Riachuelo                      846.099252    79.451871  1051.282051   \n",
       "Villa Rosa                           325.266923  1844.417970   480.798671   \n",
       "Villa Rumipal                               NaN   538.403280   154.206734   \n",
       "Villa Santa Cruz del Lago                   NaN   712.871287   423.591497   \n",
       "Villa Santa Rita                    1117.704593   978.399933  1480.127531   \n",
       "Villa Sarmiento                      908.852543   720.030253  1050.078111   \n",
       "Villa Soldati                        396.472360   553.838263   172.041318   \n",
       "Villa Tesei                                 NaN   856.410256   443.199131   \n",
       "Villa Udaondo                        338.541667  1666.666667   572.262391   \n",
       "Villa Urquiza                       1486.998114  2236.397062  1304.020402   \n",
       "Villa Vatteone                      1171.875000          NaN   751.595345   \n",
       "Villa Ventana                               NaN          NaN   119.047619   \n",
       "Villa de Las Rosas                          NaN          NaN    47.554282   \n",
       "Villa de Mayo                               NaN  1767.098305   297.936511   \n",
       "Villa de Soto                               NaN          NaN   721.758641   \n",
       "Villa del Dique                             NaN          NaN   305.353211   \n",
       "Villa del Parque                    1326.658566  1988.644149  1030.540935   \n",
       "Villa del Totoral                           NaN          NaN   177.205093   \n",
       "Village Golf & Tennis Country Club          NaN          NaN   691.845971   \n",
       "Villars                                     NaN          NaN    97.222222   \n",
       "Virasoro Village                            NaN          NaN  2576.923077   \n",
       "Virrey del Pino                             NaN   121.527778   159.396452   \n",
       "Virreyes                             272.337160   465.713378   209.568492   \n",
       "Wenceslao Escalante                         NaN          NaN   364.543833   \n",
       "Wilde                               1199.118079  1333.887590   640.429939   \n",
       "William Morris                              NaN          NaN  1235.294118   \n",
       "Yerba Buena                                 NaN  1167.080146   954.992255   \n",
       "Zelaya                                      NaN          NaN   238.446082   \n",
       "Zárate                                      NaN          NaN    98.543755   \n",
       "coordenadas 34.255511                       NaN          NaN  1943.462898   \n",
       "\n",
       "property_type                             store  \n",
       "place_name                                       \n",
       " Country Maschwitz Club                     NaN  \n",
       " los alamos                                 NaN  \n",
       "9 de Abril                           111.940469  \n",
       "Abasto                              2040.227983  \n",
       "Abril Club de Campo                         NaN  \n",
       "Acacias Blancas                             NaN  \n",
       "Acassuso                            1547.261376  \n",
       "Achiras                                     NaN  \n",
       "Adrogué                             1338.814889  \n",
       "Aeropuerto Internacional Ezeiza             NaN  \n",
       "Agronomía                           1200.000000  \n",
       "Agua Blanca                                 NaN  \n",
       "Agua de Oro                                 NaN  \n",
       "Aguas Verdes                                NaN  \n",
       "Albanueva Barrio Cerrado                    NaN  \n",
       "Aldea Brasilera                             NaN  \n",
       "Aldo Bonzi                                  NaN  \n",
       "Alejandro Korn                              NaN  \n",
       "Alem                                        NaN  \n",
       "Almafuerte                                  NaN  \n",
       "Almagro                             1649.373109  \n",
       "Almirante Brown                     1172.248804  \n",
       "Alta Gracia                                 NaN  \n",
       "Altamira                                    NaN  \n",
       "Alto Los Cardales                           NaN  \n",
       "Altos de Hudson I                           NaN  \n",
       "Altos de Hudson II                          NaN  \n",
       "Altos de Manzanares 1 y 2                   NaN  \n",
       "Altos de Matheu                             NaN  \n",
       "Altos del Golf                              NaN  \n",
       "...                                         ...  \n",
       "Villa Riachuelo                             NaN  \n",
       "Villa Rosa                           780.842740  \n",
       "Villa Rumipal                               NaN  \n",
       "Villa Santa Cruz del Lago                   NaN  \n",
       "Villa Santa Rita                     448.669389  \n",
       "Villa Sarmiento                     2243.902439  \n",
       "Villa Soldati                        394.743231  \n",
       "Villa Tesei                           45.228769  \n",
       "Villa Udaondo                               NaN  \n",
       "Villa Urquiza                       1776.477705  \n",
       "Villa Vatteone                              NaN  \n",
       "Villa Ventana                               NaN  \n",
       "Villa de Las Rosas                          NaN  \n",
       "Villa de Mayo                        701.045921  \n",
       "Villa de Soto                               NaN  \n",
       "Villa del Dique                             NaN  \n",
       "Villa del Parque                    1874.909676  \n",
       "Villa del Totoral                           NaN  \n",
       "Village Golf & Tennis Country Club          NaN  \n",
       "Villars                                     NaN  \n",
       "Virasoro Village                            NaN  \n",
       "Virrey del Pino                             NaN  \n",
       "Virreyes                             288.423070  \n",
       "Wenceslao Escalante                         NaN  \n",
       "Wilde                                519.368497  \n",
       "William Morris                              NaN  \n",
       "Yerba Buena                          602.666135  \n",
       "Zelaya                                      NaN  \n",
       "Zárate                                      NaN  \n",
       "coordenadas 34.255511                       NaN  \n",
       "\n",
       "[942 rows x 4 columns]"
      ]
     },
     "execution_count": 42,
     "metadata": {},
     "output_type": "execute_result"
    }
   ],
   "source": [
    "price_new.pivot_table(\"precio_calculado\", index='place_name', columns='property_type', aggfunc=np.mean)"
   ]
  },
  {
   "cell_type": "markdown",
   "metadata": {},
   "source": [
    "## Zonas con mayor dispersión de precio USD/m2"
   ]
  },
  {
   "cell_type": "code",
   "execution_count": 98,
   "metadata": {},
   "outputs": [
    {
     "data": {
      "text/plain": [
       "place_name\n",
       "Oberá                        2.463102\n",
       "Los Lagartos Country Club    2.292768\n",
       "Rafael Calzada               2.073748\n",
       "Azul                         2.055348\n",
       "Paso del Rey                 1.995192\n",
       "Longchamps                   1.977373\n",
       "Coronel Brandsen             1.974203\n",
       "Trujui                       1.910999\n",
       "Monte Chingolo               1.859225\n",
       "Boca Ratón                   1.839771\n",
       "Name: precio_calculado, dtype: float64"
      ]
     },
     "execution_count": 98,
     "metadata": {},
     "output_type": "execute_result"
    }
   ],
   "source": [
    "price_new.groupby('place_name')['precio_calculado'].apply(lambda x: x.std() / x.mean()).sort_values(ascending = False).head(10)"
   ]
  }
 ],
 "metadata": {
  "colab": {
   "default_view": {},
   "name": "Desafio 1.ipynb",
   "provenance": [],
   "toc_visible": true,
   "version": "0.3.2",
   "views": {}
  },
  "kernelspec": {
   "display_name": "Python 3",
   "language": "python",
   "name": "python3"
  },
  "language_info": {
   "codemirror_mode": {
    "name": "ipython",
    "version": 3
   },
   "file_extension": ".py",
   "mimetype": "text/x-python",
   "name": "python",
   "nbconvert_exporter": "python",
   "pygments_lexer": "ipython3",
   "version": "3.6.3"
  }
 },
 "nbformat": 4,
 "nbformat_minor": 1
}
