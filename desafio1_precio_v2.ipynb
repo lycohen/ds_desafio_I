{
  "nbformat": 4,
  "nbformat_minor": 0,
  "metadata": {
    "colab": {
      "name": "desafio1_precio_v2 (1).ipynb",
      "version": "0.3.2",
      "provenance": [],
      "toc_visible": true,
      "include_colab_link": true
    },
    "kernelspec": {
      "display_name": "Python 3",
      "language": "python",
      "name": "python3"
    }
  },
  "cells": [
    {
      "cell_type": "markdown",
      "metadata": {
        "id": "view-in-github",
        "colab_type": "text"
      },
      "source": [
        "[View in Colaboratory](https://colab.research.google.com/github/lycohen/ds_desafio_I/blob/master/desafio1_precio_v2.ipynb)"
      ]
    },
    {
      "metadata": {
        "id": "13018c95-3582-460f-ba8e-4910f7089e11",
        "colab_type": "code",
        "colab": {}
      },
      "cell_type": "code",
      "source": [
        "% matplotlib inline\n",
        "import matplotlib.pyplot as plt\n",
        "import datetime\n",
        "import numpy as np\n",
        "import pandas as pd\n",
        "import seaborn as sns\n",
        "from sklearn.feature_extraction.text import CountVectorizer\n",
        "#from unidecode import unidecode #QUITO TILDES"
      ],
      "execution_count": 0,
      "outputs": []
    },
    {
      "metadata": {
        "id": "80c8956f-2e08-49b5-90c6-f97c6a9676ad",
        "colab_type": "code",
        "colab": {}
      },
      "cell_type": "code",
      "source": [
        "# Cargar la data de properati\n",
        "df = pd.read_csv('properatti.csv')  # DATOS DE PROPIEDADES EN VENTA PROPERATI\n"
      ],
      "execution_count": 0,
      "outputs": []
    },
    {
      "metadata": {
        "id": "O7r1yhTEaE2r",
        "colab_type": "code",
        "colab": {},
        "outputId": "bf85b6d9-0307-4a25-bc49-e6a938793d77"
      },
      "cell_type": "code",
      "source": [
        "##estructura\n",
        "df.info()"
      ],
      "execution_count": 0,
      "outputs": [
        {
          "output_type": "stream",
          "text": [
            "<class 'pandas.core.frame.DataFrame'>\n",
            "RangeIndex: 121220 entries, 0 to 121219\n",
            "Data columns (total 26 columns):\n",
            "Unnamed: 0                    121220 non-null int64\n",
            "operation                     121220 non-null object\n",
            "property_type                 121220 non-null object\n",
            "place_name                    121197 non-null object\n",
            "place_with_parent_names       121220 non-null object\n",
            "country_name                  121220 non-null object\n",
            "state_name                    121220 non-null object\n",
            "geonames_id                   102503 non-null float64\n",
            "lat-lon                       69670 non-null object\n",
            "lat                           69670 non-null float64\n",
            "lon                           69670 non-null float64\n",
            "price                         100810 non-null float64\n",
            "currency                      100809 non-null object\n",
            "price_aprox_local_currency    100810 non-null float64\n",
            "price_aprox_usd               100810 non-null float64\n",
            "surface_total_in_m2           81892 non-null float64\n",
            "surface_covered_in_m2         101313 non-null float64\n",
            "price_usd_per_m2              68617 non-null float64\n",
            "price_per_m2                  87658 non-null float64\n",
            "floor                         7899 non-null float64\n",
            "rooms                         47390 non-null float64\n",
            "expenses                      14262 non-null float64\n",
            "properati_url                 121220 non-null object\n",
            "description                   121218 non-null object\n",
            "title                         121220 non-null object\n",
            "image_thumbnail               118108 non-null object\n",
            "dtypes: float64(13), int64(1), object(12)\n",
            "memory usage: 24.0+ MB\n"
          ],
          "name": "stdout"
        }
      ]
    },
    {
      "metadata": {
        "id": "FTgziLpIXFDB",
        "colab_type": "code",
        "colab": {},
        "outputId": "d55c4d89-38f6-45db-b944-396649d8903e"
      },
      "cell_type": "code",
      "source": [
        "df.describe()"
      ],
      "execution_count": 0,
      "outputs": [
        {
          "output_type": "execute_result",
          "data": {
            "text/html": [
              "<div>\n",
              "<style scoped>\n",
              "    .dataframe tbody tr th:only-of-type {\n",
              "        vertical-align: middle;\n",
              "    }\n",
              "\n",
              "    .dataframe tbody tr th {\n",
              "        vertical-align: top;\n",
              "    }\n",
              "\n",
              "    .dataframe thead th {\n",
              "        text-align: right;\n",
              "    }\n",
              "</style>\n",
              "<table border=\"1\" class=\"dataframe\">\n",
              "  <thead>\n",
              "    <tr style=\"text-align: right;\">\n",
              "      <th></th>\n",
              "      <th>Unnamed: 0</th>\n",
              "      <th>geonames_id</th>\n",
              "      <th>lat</th>\n",
              "      <th>lon</th>\n",
              "      <th>price</th>\n",
              "      <th>price_aprox_local_currency</th>\n",
              "      <th>price_aprox_usd</th>\n",
              "      <th>surface_total_in_m2</th>\n",
              "      <th>surface_covered_in_m2</th>\n",
              "      <th>price_usd_per_m2</th>\n",
              "      <th>price_per_m2</th>\n",
              "      <th>floor</th>\n",
              "      <th>rooms</th>\n",
              "      <th>expenses</th>\n",
              "    </tr>\n",
              "  </thead>\n",
              "  <tbody>\n",
              "    <tr>\n",
              "      <th>count</th>\n",
              "      <td>121220.000000</td>\n",
              "      <td>1.025030e+05</td>\n",
              "      <td>69670.000000</td>\n",
              "      <td>69670.000000</td>\n",
              "      <td>1.008100e+05</td>\n",
              "      <td>1.008100e+05</td>\n",
              "      <td>1.008100e+05</td>\n",
              "      <td>81892.000000</td>\n",
              "      <td>101313.000000</td>\n",
              "      <td>68617.000000</td>\n",
              "      <td>8.765800e+04</td>\n",
              "      <td>7899.000000</td>\n",
              "      <td>47390.000000</td>\n",
              "      <td>1.426200e+04</td>\n",
              "    </tr>\n",
              "    <tr>\n",
              "      <th>mean</th>\n",
              "      <td>60609.500000</td>\n",
              "      <td>3.574442e+06</td>\n",
              "      <td>-34.626210</td>\n",
              "      <td>-59.266290</td>\n",
              "      <td>4.685259e+05</td>\n",
              "      <td>4.229397e+06</td>\n",
              "      <td>2.397006e+05</td>\n",
              "      <td>233.795328</td>\n",
              "      <td>133.050181</td>\n",
              "      <td>2160.086916</td>\n",
              "      <td>6.912216e+03</td>\n",
              "      <td>17.452336</td>\n",
              "      <td>3.080840</td>\n",
              "      <td>5.009234e+03</td>\n",
              "    </tr>\n",
              "    <tr>\n",
              "      <th>std</th>\n",
              "      <td>34993.344153</td>\n",
              "      <td>3.541306e+05</td>\n",
              "      <td>1.980936</td>\n",
              "      <td>2.299922</td>\n",
              "      <td>2.260101e+06</td>\n",
              "      <td>6.904714e+06</td>\n",
              "      <td>3.913239e+05</td>\n",
              "      <td>1782.222147</td>\n",
              "      <td>724.351479</td>\n",
              "      <td>2759.288621</td>\n",
              "      <td>2.837864e+04</td>\n",
              "      <td>120.243621</td>\n",
              "      <td>1.860773</td>\n",
              "      <td>1.204403e+05</td>\n",
              "    </tr>\n",
              "    <tr>\n",
              "      <th>min</th>\n",
              "      <td>0.000000</td>\n",
              "      <td>3.427208e+06</td>\n",
              "      <td>-54.823985</td>\n",
              "      <td>-75.678931</td>\n",
              "      <td>0.000000e+00</td>\n",
              "      <td>0.000000e+00</td>\n",
              "      <td>0.000000e+00</td>\n",
              "      <td>0.000000</td>\n",
              "      <td>0.000000</td>\n",
              "      <td>0.600000</td>\n",
              "      <td>1.510204e+00</td>\n",
              "      <td>1.000000</td>\n",
              "      <td>1.000000</td>\n",
              "      <td>1.000000e+00</td>\n",
              "    </tr>\n",
              "    <tr>\n",
              "      <th>25%</th>\n",
              "      <td>30304.750000</td>\n",
              "      <td>3.430234e+06</td>\n",
              "      <td>-34.669065</td>\n",
              "      <td>-58.727040</td>\n",
              "      <td>1.100000e+05</td>\n",
              "      <td>1.583309e+06</td>\n",
              "      <td>8.973388e+04</td>\n",
              "      <td>50.000000</td>\n",
              "      <td>45.000000</td>\n",
              "      <td>1218.181818</td>\n",
              "      <td>1.550000e+03</td>\n",
              "      <td>1.000000</td>\n",
              "      <td>2.000000</td>\n",
              "      <td>1.000000e+03</td>\n",
              "    </tr>\n",
              "    <tr>\n",
              "      <th>50%</th>\n",
              "      <td>60609.500000</td>\n",
              "      <td>3.433910e+06</td>\n",
              "      <td>-34.597985</td>\n",
              "      <td>-58.480128</td>\n",
              "      <td>1.850000e+05</td>\n",
              "      <td>2.558452e+06</td>\n",
              "      <td>1.450000e+05</td>\n",
              "      <td>84.000000</td>\n",
              "      <td>75.000000</td>\n",
              "      <td>1800.000000</td>\n",
              "      <td>2.213115e+03</td>\n",
              "      <td>3.000000</td>\n",
              "      <td>3.000000</td>\n",
              "      <td>2.000000e+03</td>\n",
              "    </tr>\n",
              "    <tr>\n",
              "      <th>75%</th>\n",
              "      <td>90914.250000</td>\n",
              "      <td>3.836668e+06</td>\n",
              "      <td>-34.441299</td>\n",
              "      <td>-58.395908</td>\n",
              "      <td>4.200000e+05</td>\n",
              "      <td>4.675792e+06</td>\n",
              "      <td>2.650000e+05</td>\n",
              "      <td>200.000000</td>\n",
              "      <td>150.000000</td>\n",
              "      <td>2486.411765</td>\n",
              "      <td>3.355549e+03</td>\n",
              "      <td>6.000000</td>\n",
              "      <td>4.000000</td>\n",
              "      <td>4.000000e+03</td>\n",
              "    </tr>\n",
              "    <tr>\n",
              "      <th>max</th>\n",
              "      <td>121219.000000</td>\n",
              "      <td>6.948895e+06</td>\n",
              "      <td>4.545843</td>\n",
              "      <td>-53.733330</td>\n",
              "      <td>6.500000e+08</td>\n",
              "      <td>8.212711e+08</td>\n",
              "      <td>4.654544e+07</td>\n",
              "      <td>200000.000000</td>\n",
              "      <td>187000.000000</td>\n",
              "      <td>206333.333333</td>\n",
              "      <td>4.000000e+06</td>\n",
              "      <td>3150.000000</td>\n",
              "      <td>32.000000</td>\n",
              "      <td>1.000150e+07</td>\n",
              "    </tr>\n",
              "  </tbody>\n",
              "</table>\n",
              "</div>"
            ],
            "text/plain": [
              "          Unnamed: 0   geonames_id           lat           lon         price  \\\n",
              "count  121220.000000  1.025030e+05  69670.000000  69670.000000  1.008100e+05   \n",
              "mean    60609.500000  3.574442e+06    -34.626210    -59.266290  4.685259e+05   \n",
              "std     34993.344153  3.541306e+05      1.980936      2.299922  2.260101e+06   \n",
              "min         0.000000  3.427208e+06    -54.823985    -75.678931  0.000000e+00   \n",
              "25%     30304.750000  3.430234e+06    -34.669065    -58.727040  1.100000e+05   \n",
              "50%     60609.500000  3.433910e+06    -34.597985    -58.480128  1.850000e+05   \n",
              "75%     90914.250000  3.836668e+06    -34.441299    -58.395908  4.200000e+05   \n",
              "max    121219.000000  6.948895e+06      4.545843    -53.733330  6.500000e+08   \n",
              "\n",
              "       price_aprox_local_currency  price_aprox_usd  surface_total_in_m2  \\\n",
              "count                1.008100e+05     1.008100e+05         81892.000000   \n",
              "mean                 4.229397e+06     2.397006e+05           233.795328   \n",
              "std                  6.904714e+06     3.913239e+05          1782.222147   \n",
              "min                  0.000000e+00     0.000000e+00             0.000000   \n",
              "25%                  1.583309e+06     8.973388e+04            50.000000   \n",
              "50%                  2.558452e+06     1.450000e+05            84.000000   \n",
              "75%                  4.675792e+06     2.650000e+05           200.000000   \n",
              "max                  8.212711e+08     4.654544e+07        200000.000000   \n",
              "\n",
              "       surface_covered_in_m2  price_usd_per_m2  price_per_m2        floor  \\\n",
              "count          101313.000000      68617.000000  8.765800e+04  7899.000000   \n",
              "mean              133.050181       2160.086916  6.912216e+03    17.452336   \n",
              "std               724.351479       2759.288621  2.837864e+04   120.243621   \n",
              "min                 0.000000          0.600000  1.510204e+00     1.000000   \n",
              "25%                45.000000       1218.181818  1.550000e+03     1.000000   \n",
              "50%                75.000000       1800.000000  2.213115e+03     3.000000   \n",
              "75%               150.000000       2486.411765  3.355549e+03     6.000000   \n",
              "max            187000.000000     206333.333333  4.000000e+06  3150.000000   \n",
              "\n",
              "              rooms      expenses  \n",
              "count  47390.000000  1.426200e+04  \n",
              "mean       3.080840  5.009234e+03  \n",
              "std        1.860773  1.204403e+05  \n",
              "min        1.000000  1.000000e+00  \n",
              "25%        2.000000  1.000000e+03  \n",
              "50%        3.000000  2.000000e+03  \n",
              "75%        4.000000  4.000000e+03  \n",
              "max       32.000000  1.000150e+07  "
            ]
          },
          "metadata": {
            "tags": []
          },
          "execution_count": 10
        }
      ]
    },
    {
      "metadata": {
        "id": "uv_T-h39XFDG",
        "colab_type": "code",
        "colab": {}
      },
      "cell_type": "code",
      "source": [
        "#Obtenemos un dataframe con los valores dummies del tipo de moneda\n",
        "dummies_price = pd.get_dummies(df['currency'])"
      ],
      "execution_count": 0,
      "outputs": []
    },
    {
      "metadata": {
        "id": "CWWK0Pw7XFDI",
        "colab_type": "code",
        "colab": {},
        "outputId": "d8ea7a89-1759-4b34-b349-745a6482daa6"
      },
      "cell_type": "code",
      "source": [
        "#Filtramos en una nueva columna los valores que están en ARS\n",
        "df[\"ars\"] = df[\"price\"] * dummies_price[\"ARS\"]\n",
        "dummies_price[\"ARS\"].value_counts()"
      ],
      "execution_count": 0,
      "outputs": [
        {
          "output_type": "execute_result",
          "data": {
            "text/plain": [
              "0    108001\n",
              "1     13219\n",
              "Name: ARS, dtype: int64"
            ]
          },
          "metadata": {
            "tags": []
          },
          "execution_count": 12
        }
      ]
    },
    {
      "metadata": {
        "id": "gfRSOlzAXFDL",
        "colab_type": "code",
        "colab": {},
        "outputId": "f302c6cc-9a94-46f5-818c-04dc2cb0ebbd"
      },
      "cell_type": "code",
      "source": [
        "ars = df[\"ars\"]\n",
        "ars.isnull().value_counts()"
      ],
      "execution_count": 0,
      "outputs": [
        {
          "output_type": "execute_result",
          "data": {
            "text/plain": [
              "False    100810\n",
              "True      20410\n",
              "Name: ars, dtype: int64"
            ]
          },
          "metadata": {
            "tags": []
          },
          "execution_count": 13
        }
      ]
    },
    {
      "metadata": {
        "id": "vTe42I0RXFDO",
        "colab_type": "code",
        "colab": {}
      },
      "cell_type": "code",
      "source": [
        "#Calculamos el valor aproximado del USD según los precios que están en pesos \"ars\"\n",
        "#y que tienen el precio aproximado en USD en la columna \"price_aprox_usd\" y lo guardamos\n",
        "#en una nueva columna \"USDaprox\"\n",
        "df[\"USDaprox\"] = df[\"ars\"] / (df[\"price_aprox_usd\"] * dummies_price[\"ARS\"])"
      ],
      "execution_count": 0,
      "outputs": []
    },
    {
      "metadata": {
        "id": "XqPbHdgNXFDQ",
        "colab_type": "code",
        "colab": {},
        "outputId": "b153195b-7a4d-4313-c733-e2c600c46b34"
      },
      "cell_type": "code",
      "source": [
        "#Miramos los estadísticos de la distribución del precio aproximado del USD\n",
        "df[\"USDaprox\"].describe()"
      ],
      "execution_count": 0,
      "outputs": [
        {
          "output_type": "execute_result",
          "data": {
            "text/plain": [
              "count    13219.000000\n",
              "mean        17.814183\n",
              "std          0.102316\n",
              "min         17.143000\n",
              "25%         17.830500\n",
              "50%         17.830501\n",
              "75%         17.830502\n",
              "max         17.830531\n",
              "Name: USDaprox, dtype: float64"
            ]
          },
          "metadata": {
            "tags": []
          },
          "execution_count": 15
        }
      ]
    },
    {
      "metadata": {
        "id": "F1BMyy8EXFDT",
        "colab_type": "code",
        "colab": {},
        "outputId": "da48005a-7610-44b6-e133-b7627e3c8b60"
      },
      "cell_type": "code",
      "source": [
        "#Encontramos el valor que se utiliza en la mediana de los casos para el dólar\n",
        "# y así trabajar con este valor para las aproximaciones que hagan falta\n",
        "df[\"USDaprox\"].median()"
      ],
      "execution_count": 0,
      "outputs": [
        {
          "output_type": "execute_result",
          "data": {
            "text/plain": [
              "17.830501005171033"
            ]
          },
          "metadata": {
            "tags": []
          },
          "execution_count": 16
        }
      ]
    },
    {
      "metadata": {
        "id": "qIdYN9HbXFDV",
        "colab_type": "code",
        "colab": {}
      },
      "cell_type": "code",
      "source": [
        "#Chequeamos de otra forma el valor del USD usando el precio por M2 en ars y en USD\n",
        "#Dividiendo el precio en ars por el precio en USD\n",
        "df[\"USDaprox1\"] = df[\"price_per_m2\"] / df[\"price_usd_per_m2\"]"
      ],
      "execution_count": 0,
      "outputs": []
    },
    {
      "metadata": {
        "id": "rnQ_W_jaXFDX",
        "colab_type": "code",
        "colab": {},
        "outputId": "336307ba-3a06-4148-b165-57d800ffda73"
      },
      "cell_type": "code",
      "source": [
        "#Comprobamos que esta forma de aproximar el valor de USD no nos sirve. Los valores\n",
        "#son muy dispersos así que trabajaremos con la mediana del cálculo anterior\n",
        "df[\"USDaprox1\"].describe()"
      ],
      "execution_count": 0,
      "outputs": [
        {
          "output_type": "execute_result",
          "data": {
            "text/plain": [
              "count    63350.000000\n",
              "mean         5.869295\n",
              "std        158.413517\n",
              "min          0.001061\n",
              "25%          1.000000\n",
              "50%          1.125000\n",
              "75%          1.626609\n",
              "max      23848.295570\n",
              "Name: USDaprox1, dtype: float64"
            ]
          },
          "metadata": {
            "tags": []
          },
          "execution_count": 18
        }
      ]
    },
    {
      "metadata": {
        "id": "TxqTOBSoXFDa",
        "colab_type": "code",
        "colab": {}
      },
      "cell_type": "code",
      "source": [
        "#Asignamos un valor a USD\n",
        "USD = df[\"USDaprox\"].median()"
      ],
      "execution_count": 0,
      "outputs": []
    },
    {
      "metadata": {
        "id": "P0jR5EiDXFDc",
        "colab_type": "code",
        "colab": {}
      },
      "cell_type": "code",
      "source": [
        "#Armamos una nueva columna donde vamos a imputar los precios por M2 en USD de forma que\n",
        "#podamos usarlo como valorizador. Lo llenamos en principio con los valores de price_usd_per_m2\n",
        "y = df.loc[(df[\"price_per_m2\"] < 200000) & (df[\"price_per_m2\"] > 100)][\"price_per_m2\"]\n",
        "df[\"newusd_per_m2\"] = df[\"price_usd_per_m2\"].fillna(y)"
      ],
      "execution_count": 0,
      "outputs": []
    },
    {
      "metadata": {
        "id": "ThVYRTD3XFDe",
        "colab_type": "code",
        "colab": {},
        "outputId": "2ff563fb-3c22-4fc1-e8d0-41d8b610a9bd"
      },
      "cell_type": "code",
      "source": [
        "y.describe()"
      ],
      "execution_count": 0,
      "outputs": [
        {
          "output_type": "execute_result",
          "data": {
            "text/plain": [
              "count     87490.000000\n",
              "mean       6323.049038\n",
              "std       12511.049353\n",
              "min         101.694915\n",
              "25%        1550.000000\n",
              "50%        2212.292251\n",
              "75%        3347.754811\n",
              "max      195000.000000\n",
              "Name: price_per_m2, dtype: float64"
            ]
          },
          "metadata": {
            "tags": []
          },
          "execution_count": 182
        }
      ]
    },
    {
      "metadata": {
        "id": "WXae_2hTXFDg",
        "colab_type": "code",
        "colab": {},
        "outputId": "df3505bb-cb7f-4dad-c04d-566d8c6fdbb1"
      },
      "cell_type": "code",
      "source": [
        "df[\"newusd_per_m2\"].describe()"
      ],
      "execution_count": 0,
      "outputs": [
        {
          "output_type": "execute_result",
          "data": {
            "text/plain": [
              "count     92819.000000\n",
              "mean       3175.944095\n",
              "std        7337.155863\n",
              "min           0.600000\n",
              "25%        1271.690005\n",
              "50%        1854.166667\n",
              "75%        2571.428571\n",
              "max      206333.333333\n",
              "Name: newusd_per_m2, dtype: float64"
            ]
          },
          "metadata": {
            "tags": []
          },
          "execution_count": 183
        }
      ]
    },
    {
      "metadata": {
        "id": "Tg5mJcMXXFDj",
        "colab_type": "code",
        "colab": {},
        "outputId": "6d8cabba-7514-4af4-ef05-81724fd796d8"
      },
      "cell_type": "code",
      "source": [
        "df[\"newusd_per_m2\"].sample(30)"
      ],
      "execution_count": 0,
      "outputs": [
        {
          "output_type": "execute_result",
          "data": {
            "text/plain": [
              "43608      3166.666667\n",
              "3471               NaN\n",
              "76512              NaN\n",
              "40000              NaN\n",
              "51459      3765.060241\n",
              "10348      1928.104575\n",
              "40409      1625.000000\n",
              "40127      1022.358646\n",
              "5785      12515.890756\n",
              "78881      3044.871795\n",
              "95914       642.857143\n",
              "6448       2052.631579\n",
              "36907      4017.857143\n",
              "76122     15000.000000\n",
              "44080     51150.000000\n",
              "60175       848.214286\n",
              "118580     1875.000000\n",
              "855        1760.326250\n",
              "35939      1875.000000\n",
              "97771      1439.024390\n",
              "80580      1911.764706\n",
              "66356      1555.555556\n",
              "100103     2250.000000\n",
              "67355      1900.000000\n",
              "33970      1698.000000\n",
              "94710      3181.818182\n",
              "115303             NaN\n",
              "15958      1355.932203\n",
              "118503     1304.347826\n",
              "4685               NaN\n",
              "Name: newusd_per_m2, dtype: float64"
            ]
          },
          "metadata": {
            "tags": []
          },
          "execution_count": 184
        }
      ]
    },
    {
      "metadata": {
        "id": "Zj-TQNUsXFDl",
        "colab_type": "code",
        "colab": {}
      },
      "cell_type": "code",
      "source": [
        "#Continuamos imputando los NaN con los valores que podemos obtener\n",
        "#de dividir el precio total en usd \"price\" por la superficie en M2"
      ],
      "execution_count": 0,
      "outputs": []
    },
    {
      "metadata": {
        "id": "lPF4pRg4XFDn",
        "colab_type": "code",
        "colab": {}
      },
      "cell_type": "code",
      "source": [
        "df[\"newprice_m2_ars\"] = df[\"price\"] / df.loc[(df[\"surface_total_in_m2\"] < 10000)][\"surface_total_in_m2\"]\n",
        "df[\"newprice_m2_usd\"] = df[\"price\"] / df.loc[(df[\"surface_total_in_m2\"] < 10000)][\"surface_total_in_m2\"]\n",
        "df[\"newprice_m2\"] = df[\"newprice_m2_usd\"]*dummies_price[\"USD\"] + df[\"newprice_m2_ars\"]*dummies_price[\"ARS\"]"
      ],
      "execution_count": 0,
      "outputs": []
    },
    {
      "metadata": {
        "id": "_1ZslsSXXFDp",
        "colab_type": "code",
        "colab": {}
      },
      "cell_type": "code",
      "source": [
        "#df[\"newprice_m2\"].fillna(0, inplace=True)"
      ],
      "execution_count": 0,
      "outputs": []
    },
    {
      "metadata": {
        "id": "X3pUBBJtXFDr",
        "colab_type": "code",
        "colab": {}
      },
      "cell_type": "code",
      "source": [
        "newprice = df[\"newprice_m2\"]"
      ],
      "execution_count": 0,
      "outputs": []
    },
    {
      "metadata": {
        "id": "BPuQJVRkXFDt",
        "colab_type": "code",
        "colab": {}
      },
      "cell_type": "code",
      "source": [
        "df[\"newusd_per_m2\"] = df[\"newusd_per_m2\"].fillna(newprice)"
      ],
      "execution_count": 0,
      "outputs": []
    },
    {
      "metadata": {
        "id": "OBj-5newXFDv",
        "colab_type": "code",
        "colab": {}
      },
      "cell_type": "code",
      "source": [
        ""
      ],
      "execution_count": 0,
      "outputs": []
    },
    {
      "metadata": {
        "id": "B_wlzhg-XFDx",
        "colab_type": "code",
        "colab": {},
        "outputId": "0d6f4bcc-2eb9-4ecf-f961-baad64ae28a6"
      },
      "cell_type": "code",
      "source": [
        "df[\"newusd_per_m2\"].isna().sum()"
      ],
      "execution_count": 0,
      "outputs": [
        {
          "output_type": "execute_result",
          "data": {
            "text/plain": [
              "28401"
            ]
          },
          "metadata": {
            "tags": []
          },
          "execution_count": 188
        }
      ]
    },
    {
      "metadata": {
        "id": "kJ6MEHpjXFDz",
        "colab_type": "code",
        "colab": {},
        "outputId": "366d2193-5e82-44ea-e8f1-a1a87e42e9b7"
      },
      "cell_type": "code",
      "source": [
        "df[\"newusd_per_m2\"].describe()"
      ],
      "execution_count": 0,
      "outputs": [
        {
          "output_type": "execute_result",
          "data": {
            "text/plain": [
              "count     92819.000000\n",
              "mean       3175.944095\n",
              "std        7337.155863\n",
              "min           0.600000\n",
              "25%        1271.690005\n",
              "50%        1854.166667\n",
              "75%        2571.428571\n",
              "max      206333.333333\n",
              "Name: newusd_per_m2, dtype: float64"
            ]
          },
          "metadata": {
            "tags": []
          },
          "execution_count": 189
        }
      ]
    },
    {
      "metadata": {
        "id": "bUawG5PwXFD4",
        "colab_type": "code",
        "colab": {}
      },
      "cell_type": "code",
      "source": [
        "dfPrecio = df.loc[:,['place_name','property_type']].copy()\n",
        "dfPrecio['place_name_id'] = df['place_name'].astype('category').cat.codes\n",
        "dfPrecio['property_type_id'] = df['property_type'].astype('category').cat.codes\n",
        "dfPrecio['currency_id'] = df['currency'].astype('category').cat.codes"
      ],
      "execution_count": 0,
      "outputs": []
    },
    {
      "metadata": {
        "id": "bjqZLdaoXFD7",
        "colab_type": "code",
        "colab": {}
      },
      "cell_type": "code",
      "source": [
        "dfPrecio['precio_calculado']=df['newusd_per_m2']\n",
        "dfPrecio = pd.concat([dfPrecio, dummies_price], axis=1);\n",
        "dfPrecio2=dfPrecio"
      ],
      "execution_count": 0,
      "outputs": []
    },
    {
      "metadata": {
        "id": "qACK3lz4XFD9",
        "colab_type": "code",
        "colab": {},
        "outputId": "77b47bb5-34e3-4d76-912b-52d4eeec096c"
      },
      "cell_type": "code",
      "source": [
        "dfPrecio[\"precio_calculado\"] = dfPrecio.groupby(['place_name_id','property_type_id'])['precio_calculado'].transform(lambda x: x.fillna(x.median()))\n",
        "print('Sin Imputar:',dfPrecio[\"precio_calculado\"].isna().sum() )\n",
        "dfPrecio[\"precio_calculado\"].describe()\n",
        "print('Imputados:',dfPrecio[(~dfPrecio['precio_calculado'].isna()) ]['precio_calculado'].count())\n",
        "print('Mediana Imputados:',dfPrecio[(~dfPrecio['precio_calculado'].isna()) ]['precio_calculado'].median())"
      ],
      "execution_count": 0,
      "outputs": [
        {
          "output_type": "stream",
          "text": [
            "/opt/conda/lib/python3.6/site-packages/numpy/lib/nanfunctions.py:1018: RuntimeWarning: Mean of empty slice\n",
            "  return np.nanmean(a, axis, out=out, keepdims=keepdims)\n"
          ],
          "name": "stderr"
        },
        {
          "output_type": "stream",
          "text": [
            "Sin Imputar: 632\n",
            "Imputados: 120588\n",
            "Mediana Imputados: 1752.6146875\n"
          ],
          "name": "stdout"
        }
      ]
    },
    {
      "metadata": {
        "id": "nitLToqsXFEA",
        "colab_type": "code",
        "colab": {},
        "outputId": "b049e284-2713-4686-f7e0-c99d7e7d0290"
      },
      "cell_type": "code",
      "source": [
        "sns.distplot(dfPrecio[(dfPrecio['precio_calculado']<30000) & (dfPrecio['precio_calculado']>1)]['precio_calculado'], bins=10)"
      ],
      "execution_count": 0,
      "outputs": [
        {
          "output_type": "stream",
          "text": [
            "/opt/conda/lib/python3.6/site-packages/matplotlib/axes/_axes.py:6462: UserWarning: The 'normed' kwarg is deprecated, and has been replaced by the 'density' kwarg.\n",
            "  warnings.warn(\"The 'normed' kwarg is deprecated, and has been \"\n"
          ],
          "name": "stderr"
        },
        {
          "output_type": "execute_result",
          "data": {
            "text/plain": [
              "<matplotlib.axes._subplots.AxesSubplot at 0x7fd0ac1cbd30>"
            ]
          },
          "metadata": {
            "tags": []
          },
          "execution_count": 204
        },
        {
          "output_type": "display_data",
          "data": {
            "image/png": "[encoded data removed]",
            "text/plain": [
              "<Figure size 432x288 with 1 Axes>"
            ]
          },
          "metadata": {
            "tags": []
          }
        }
      ]
    },
    {
      "metadata": {
        "id": "Ol4FbqoGXFEC",
        "colab_type": "code",
        "colab": {}
      },
      "cell_type": "code",
      "source": [
        "price_new = dfPrecio[(dfPrecio['precio_calculado']<30000) & (dfPrecio['precio_calculado']>1)]['precio_calculado']"
      ],
      "execution_count": 0,
      "outputs": []
    },
    {
      "metadata": {
        "id": "F89pdhiSXFEE",
        "colab_type": "code",
        "colab": {},
        "outputId": "f1a992d1-f1b0-4440-b528-e617681dcd91"
      },
      "cell_type": "code",
      "source": [
        "price_new.describe()"
      ],
      "execution_count": 0,
      "outputs": [
        {
          "output_type": "execute_result",
          "data": {
            "text/plain": [
              "count    119290.000000\n",
              "mean       2356.721436\n",
              "std        3125.063464\n",
              "min           1.184571\n",
              "25%        1236.842105\n",
              "50%        1752.614687\n",
              "75%        2405.063291\n",
              "max       29994.545455\n",
              "Name: precio_calculado, dtype: float64"
            ]
          },
          "metadata": {
            "tags": []
          },
          "execution_count": 199
        }
      ]
    },
    {
      "metadata": {
        "id": "qrYyqFKfXFEH",
        "colab_type": "code",
        "colab": {},
        "outputId": "52f6eb53-ebf2-41be-8f01-5f322dbdbf9f"
      },
      "cell_type": "code",
      "source": [
        "sns.distplot(df[(df[\"price_per_m2\"]<10000) & (df[\"price_per_m2\"]>1)][\"price_per_m2\"], bins=10)"
      ],
      "execution_count": 0,
      "outputs": [
        {
          "output_type": "stream",
          "text": [
            "/opt/conda/lib/python3.6/site-packages/matplotlib/axes/_axes.py:6462: UserWarning: The 'normed' kwarg is deprecated, and has been replaced by the 'density' kwarg.\n",
            "  warnings.warn(\"The 'normed' kwarg is deprecated, and has been \"\n"
          ],
          "name": "stderr"
        },
        {
          "output_type": "execute_result",
          "data": {
            "text/plain": [
              "<matplotlib.axes._subplots.AxesSubplot at 0x7fd0ac157208>"
            ]
          },
          "metadata": {
            "tags": []
          },
          "execution_count": 200
        },
        {
          "output_type": "display_data",
          "data": {
            "image/png": "[encoded data removed]",
            "text/plain": [
              "<Figure size 432x288 with 1 Axes>"
            ]
          },
          "metadata": {
            "tags": []
          }
        }
      ]
    },
    {
      "metadata": {
        "id": "OfpIfY60XFEK",
        "colab_type": "code",
        "colab": {},
        "outputId": "f483ad40-83bc-4523-a99d-d7647e4e73bf"
      },
      "cell_type": "code",
      "source": [
        "sns.distplot(df[(df[\"price_usd_per_m2\"]<10000) & (df[\"price_usd_per_m2\"]>1)][\"price_usd_per_m2\"], bins=10)"
      ],
      "execution_count": 0,
      "outputs": [
        {
          "output_type": "stream",
          "text": [
            "/opt/conda/lib/python3.6/site-packages/matplotlib/axes/_axes.py:6462: UserWarning: The 'normed' kwarg is deprecated, and has been replaced by the 'density' kwarg.\n",
            "  warnings.warn(\"The 'normed' kwarg is deprecated, and has been \"\n"
          ],
          "name": "stderr"
        },
        {
          "output_type": "execute_result",
          "data": {
            "text/plain": [
              "<matplotlib.axes._subplots.AxesSubplot at 0x7fd0ac0cb240>"
            ]
          },
          "metadata": {
            "tags": []
          },
          "execution_count": 201
        },
        {
          "output_type": "display_data",
          "data": {
            "image/png": "[encoded data removed]",
            "text/plain": [
              "<Figure size 432x288 with 1 Axes>"
            ]
          },
          "metadata": {
            "tags": []
          }
        }
      ]
    },
    {
      "metadata": {
        "id": "niqOqpsaXFEN",
        "colab_type": "code",
        "colab": {},
        "outputId": "bd34f48b-2954-42c3-bf1d-1be45cb23477"
      },
      "cell_type": "code",
      "source": [
        "sns.distplot(df[\"price\"].dropna(), bins= 10)"
      ],
      "execution_count": 0,
      "outputs": [
        {
          "output_type": "stream",
          "text": [
            "/opt/conda/lib/python3.6/site-packages/matplotlib/axes/_axes.py:6462: UserWarning: The 'normed' kwarg is deprecated, and has been replaced by the 'density' kwarg.\n",
            "  warnings.warn(\"The 'normed' kwarg is deprecated, and has been \"\n"
          ],
          "name": "stderr"
        },
        {
          "output_type": "execute_result",
          "data": {
            "text/plain": [
              "<matplotlib.axes._subplots.AxesSubplot at 0x7fd0ac1e6550>"
            ]
          },
          "metadata": {
            "tags": []
          },
          "execution_count": 202
        },
        {
          "output_type": "display_data",
          "data": {
            "image/png": "[encoded data removed]",
            "text/plain": [
              "<Figure size 432x288 with 1 Axes>"
            ]
          },
          "metadata": {
            "tags": []
          }
        }
      ]
    },
    {
      "metadata": {
        "id": "nb1g5GhyXFER",
        "colab_type": "code",
        "colab": {}
      },
      "cell_type": "code",
      "source": [
        ""
      ],
      "execution_count": 0,
      "outputs": []
    }
  ]
}