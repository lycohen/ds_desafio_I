{
  "nbformat": 4,
  "nbformat_minor": 0,
  "metadata": {
    "colab": {
      "name": "Desafio 1- fills.ipynb",
      "version": "0.3.2",
      "provenance": [],
      "toc_visible": true,
      "include_colab_link": true
    },
    "kernelspec": {
      "display_name": "Python 3",
      "language": "python",
      "name": "python3"
    }
  },
  "cells": [
    {
      "cell_type": "markdown",
      "metadata": {
        "id": "view-in-github",
        "colab_type": "text"
      },
      "source": [
        "[View in Colaboratory](https://colab.research.google.com/github/lycohen/ds_desafio_I/blob/master/Desafio_1_fills.ipynb)"
      ]
    },
    {
      "metadata": {
        "id": "01a0feac-ab3d-4734-ab1e-ffaccc065b90",
        "colab_type": "text"
      },
      "cell_type": "markdown",
      "source": [
        "# LAB:   Desafío 1.\n",
        "\n",
        "## Objetivos\n",
        "\n",
        "* Efectuar una limpieza del dataset provisto. Particularmente, deberá diseñar estrategias para lidiar con los datos perdidos en ciertas variables.\n",
        "* Realizar un análisis descriptivo de las principales variables.\n",
        "* Crear nuevas columnas a partir de las características dadas que puedan tener valor predictivo.\n",
        "\n",
        "El dataset contiene información referida al primer semestre de 2017 de las propiedades comercializables por la empresa:\n",
        "\n",
        "* Fecha de creación (solo un mes en analisis)\n",
        "* Tipo de la propiedad (house, apartment, ph )\n",
        "* Operación del aviso (sell, rent)\n",
        "* Nombre del lugar\n",
        "* Nombre del lugar + nombre de sus ‘padres’\n",
        "* ID de geonames del lugar (si está disponible)\n",
        "* Latitud,Longitud\n",
        "* Precio original del aviso\n",
        "* Moneda original del aviso (ARS, USD)\n",
        "* Precio del aviso en moneda local (ARS)\n",
        "* Precio aproximado en USD\n",
        "* Superficie en m²\n",
        "* Superficie cubierta en m²\n",
        "* Precio en USD/m²\n",
        "* Precio por m²\n",
        "* N° de piso, si corresponde\n",
        "* Ambientes\n",
        "* URL en Properati\n",
        "* Descripción\n",
        "* Título\n",
        "* URL de un thumbnail de la primer foto\n",
        "\n",
        "## ¿Cómo empezar? Sugerencias\n",
        "Agreguen toda otra información construida a partir de los datos originales (o incluso\n",
        "información externa) que consideren relevante y útil para resolver los objetivos planteados.\n",
        "Aprovechen las herramientas de pandas: gropuby , summation, pivot_tables y otras\n",
        "aplicaciones y métodos de los DataFrames hacen mucho más simples los cálculos y otras\n",
        "agregaciones de los datos.\n",
        "En la presentación de los resultados tengan en cuenta que es altamente probable que la\n",
        "audiencia no tenga un nivel técnico así que mantengan el lenguaje en un nivel accesible.\n",
        "En términos generales, recuerden las siguientes sugerencias:\n",
        "* escribir un pseudocódigo antes de empezar a codear. Suele ser muy útil para darle un esquema y una lógica generales al análisis\n",
        "* leer la documentación de cualquier tecnología o herramienta de análisis que uses. A veces no hay tutoriales para todo y los documentos y las ayudas son fundamentales para entender el funcionamiento de las herramientas utilizadas\n",
        "* documentar todos los pasos, transformaciones, comandos y análisis que realices.\n",
        "\n",
        "## Recursos útiles\n",
        "* Documentación de la librería GeoPandas\n",
        "* Github\n",
        "\n",
        "##Tareas\n",
        "\n",
        "##1 - ver calidad\n",
        "* NaN\n",
        "* vacios\n",
        "* inconsistencias entre keywords columnas vs keywords url\n",
        "* monedad $/u$s\n",
        "* EDA / Media central y outliers\n",
        "* correlacion\n",
        "* MNAR/MNCAR etc\n",
        "* mejor opcion de fill"
      ]
    },
    {
      "metadata": {
        "id": "13018c95-3582-460f-ba8e-4910f7089e11",
        "colab_type": "code",
        "colab": {}
      },
      "cell_type": "code",
      "source": [
        "% matplotlib inline\n",
        "import matplotlib.pyplot as plt\n",
        "import datetime\n",
        "import numpy as np\n",
        "import pandas as pd\n",
        "import seaborn as sns\n",
        "#from sklearn.feature_extraction.text import CountVectorizer\n",
        "import unidecode\n",
        "import re\n",
        "#from unidecode import unidecode #QUITO TILDES\n"
      ],
      "execution_count": 0,
      "outputs": []
    },
    {
      "metadata": {
        "id": "80c8956f-2e08-49b5-90c6-f97c6a9676ad",
        "colab_type": "code",
        "colab": {}
      },
      "cell_type": "code",
      "source": [
        "# Cargar la data de properati\n",
        "df = pd.read_csv('properatti.csv')  # DATOS DE PROPIEDADES EN VENTA PROPERATI\n"
      ],
      "execution_count": 0,
      "outputs": []
    },
    {
      "metadata": {
        "id": "ABJ8_4UwCcpT",
        "colab_type": "text"
      },
      "cell_type": "markdown",
      "source": [
        "## <font color='red'>Armamos la matriz ampliada y vamos limpiando de a poco .</font> "
      ]
    },
    {
      "metadata": {
        "id": "F5tMKmKlCcpV",
        "colab_type": "code",
        "colab": {},
        "outputId": "ddf45ff2-ab7d-43a9-fc0c-e214b9f321ab"
      },
      "cell_type": "code",
      "source": [
        "\n",
        "###Obtengo 10000 para probar\n",
        "df2 = df\n",
        "df.columns\n"
      ],
      "execution_count": 0,
      "outputs": [
        {
          "output_type": "execute_result",
          "data": {
            "text/plain": [
              "Index(['Unnamed: 0', 'operation', 'property_type', 'place_name',\n",
              "       'place_with_parent_names', 'country_name', 'state_name', 'geonames_id',\n",
              "       'lat-lon', 'lat', 'lon', 'price', 'currency',\n",
              "       'price_aprox_local_currency', 'price_aprox_usd', 'surface_total_in_m2',\n",
              "       'surface_covered_in_m2', 'price_usd_per_m2', 'price_per_m2', 'floor',\n",
              "       'rooms', 'expenses', 'properati_url', 'description', 'title',\n",
              "       'image_thumbnail'],\n",
              "      dtype='object')"
            ]
          },
          "metadata": {
            "tags": []
          },
          "execution_count": 3
        }
      ]
    },
    {
      "metadata": {
        "id": "zRCXrGTvCcpa",
        "colab_type": "code",
        "colab": {}
      },
      "cell_type": "code",
      "source": [
        "\n",
        "\n",
        "def sacoAcentos(s):\n",
        "    return unidecode.unidecode(s)\n",
        "#cotizacion = getCotizacionUSD('2002-04-03 00:00:00')\n",
        "\n",
        "# Rastreamos las localidades que tengan 3 o m�s d�gitos seguidos y laa establecemos en None para luego corregirlas.\n",
        "# Por ejemplo place_name = 'coordenadas 34.255511'\n",
        "def corrigeCoordEnPlaceName(place_name):\n",
        "    if re.compile('\\d{3,}').findall(str(place_name)):\n",
        "        return None\n",
        "    else:\n",
        "        return place_name\n",
        "    \n",
        "\n",
        "def GetAmmenities(description):\n",
        "    #\"Extrae los ammenities del camp descripcin\"\n",
        "    #### Usamos la info extraida del analisis del notebook Desafio I - palabras predictoras\n",
        "    ###  Aun asi usamos algunas otras \"cisnes negros\" que no estaban en el top 50 de palabras mas usadas.\n",
        "    description = str(description).lower()\n",
        "    description = sacoAcentos(description)\n",
        "    ammenities_to_extract = ['lavadero', 'pileta_piscina', 'telefono','terraza','nuevo', 'refaccionado', 'AC', 'living_comedor', 'cocina_comedor', 'cocina_integrada', 'parrilla','balcon', 'subte', 'cochera_fija', 'baulera']\n",
        "\n",
        "    #0\n",
        "    lavadero = (0, 1)['lavadero' in description] # reemplaza el if else statement \n",
        "    #1\n",
        "    pileta_piscina = (0, 1)['pileta' in description or 'piscina' in description ]\n",
        "    #2\n",
        "    terraza = (0, 1)['terraza' in description]\n",
        "    #3\n",
        "    nuevo = (0, 1)['nuevo' in description]\n",
        "    #4\n",
        "    refaccionado = (0, 1)['refaccionado' in description]\n",
        "    #5\n",
        "    AC = (0, 1)['aire acondicionado' in description or 'AC' in description or 'AA' in description ]\n",
        "    #6\n",
        "    living_comedor = (0, 1)['living comedor' in description ]\n",
        "    #7\n",
        "    cocina_comedor = (0, 1)['cocina comedor' in description ]\n",
        "    #8\n",
        "    cocina_integrada = (0, 1)['cocina integrada' in description ]\n",
        "    #9\n",
        "    parrilla = (0, 1)['parrilla' in description ]\n",
        "    #10\n",
        "    balcon = (0, 1)['balcon' in description or 'balcon' in description ]\n",
        "    #11\n",
        "    subte =(0, 1)['subte' in description or 'metro' in description ]\n",
        "    #12\n",
        "    cochera_fija = (0, 1)['cochera fija' in description or 'cochera' in description ]\n",
        "    #13\n",
        "    baulera = (0, 1)['baulera' in description ]\n",
        "    telefono = (0, 1)['telefono' in description ]\n",
        "\n",
        "    extracted_ammenities = pd.Series([lavadero,pileta_piscina, terraza,nuevo, refaccionado, AC, living_comedor, cocina_comedor, cocina_integrada, parrilla,balcon, subte, cochera_fija, baulera,telefono])\n",
        "    #print(\"Extracted ammenities:\", list(zip(ammenities_to_extract, extracted_ammenities)))\n",
        "    return extracted_ammenities\n",
        "# Cargar la data de properati\n",
        "\n",
        "def getAmbientes(description):\n",
        "    ### Obtiene la cantidad de ambientes de la descripcion\n",
        "    description = str(description).lower()\n",
        "    numbers_as_strings = {\n",
        "        'un': 1,\n",
        "        'dos': 2,\n",
        "        'tres': 3,\n",
        "        'cuatro': 4,\n",
        "        'cinco': 5,\n",
        "        'seis': 6,\n",
        "        'seis': 7\n",
        "    }\n",
        " \n",
        "   \n",
        "    # Con esta regex extraemos los ambientes contemplando los casos de texto y de números.\n",
        "    result = pd.Series([description]).str.extract(\"(\\d|un|dos|tres|cuatro|cinco|seis)(\\s+)(amb)\",expand=False)\n",
        "    # Retorna un Dataframe con el resultado de la extracción, lo obtenemos con sus indices.\n",
        "    matched_value = result[0][0]\n",
        "    #print (matched_value)\n",
        "    \n",
        "    ambientes = 'SD'\n",
        "    try:\n",
        "        # No encontramos la cantidad de ambientes en la descripción\n",
        "        if np.isnan(result[0][0]):\n",
        "            ambientes = 'SD'\n",
        "    except TypeError:\n",
        "        try:\n",
        "            # Lo encontramos, intentamos parsearlo como entero.\n",
        "            ambientes = int(matched_value)\n",
        "        # Lo encontramos como string, lo mapeamos con un diccionario.\n",
        "        except ValueError:\n",
        "            ambientes = numbers_as_strings[matched_value]\n",
        "    return ambientes\n",
        "\n",
        "\n",
        "def splitPlaceWithParentNames(place_with_parent_names):\n",
        "    #### Obtengo placeName de place_with_parent_names para reemplazar el place_name. (hay datos faltantes en place_name)\n",
        "    ### faltan 24 valores\n",
        "    splittedLocation = place_with_parent_names.split('|')\n",
        "    stateName= splittedLocation[2]\n",
        "    placeName = splittedLocation[3]\n",
        "    return pd.Series([stateName, placeName])"
      ],
      "execution_count": 0,
      "outputs": []
    },
    {
      "metadata": {
        "id": "RsTwguQENEEr",
        "colab_type": "text"
      },
      "cell_type": "markdown",
      "source": [
        "## <font color='red'>Corrijo la coord 34 en place_name\n",
        "  .</font> **texto en negrita**"
      ]
    },
    {
      "metadata": {
        "id": "Kdt08yn6Ccpd",
        "colab_type": "code",
        "colab": {},
        "outputId": "f4d4b469-6d83-4bcb-a3a2-6ca7dad986dd"
      },
      "cell_type": "code",
      "source": [
        "####Remuevo los que tienen la palabra coordenadas en place_name\n",
        "df['place_name'] = df['place_name'].apply(corrigeCoordEnPlaceName)\n",
        "# Chequeo de la corrección.\n",
        "df[df['place_name'] == 'coordenadas 34.255511']"
      ],
      "execution_count": 0,
      "outputs": [
        {
          "output_type": "execute_result",
          "data": {
            "text/html": [
              "<div>\n",
              "<style scoped>\n",
              "    .dataframe tbody tr th:only-of-type {\n",
              "        vertical-align: middle;\n",
              "    }\n",
              "\n",
              "    .dataframe tbody tr th {\n",
              "        vertical-align: top;\n",
              "    }\n",
              "\n",
              "    .dataframe thead th {\n",
              "        text-align: right;\n",
              "    }\n",
              "</style>\n",
              "<table border=\"1\" class=\"dataframe\">\n",
              "  <thead>\n",
              "    <tr style=\"text-align: right;\">\n",
              "      <th></th>\n",
              "      <th>Unnamed: 0</th>\n",
              "      <th>operation</th>\n",
              "      <th>property_type</th>\n",
              "      <th>place_name</th>\n",
              "      <th>place_with_parent_names</th>\n",
              "      <th>country_name</th>\n",
              "      <th>state_name</th>\n",
              "      <th>geonames_id</th>\n",
              "      <th>lat-lon</th>\n",
              "      <th>lat</th>\n",
              "      <th>...</th>\n",
              "      <th>surface_covered_in_m2</th>\n",
              "      <th>price_usd_per_m2</th>\n",
              "      <th>price_per_m2</th>\n",
              "      <th>floor</th>\n",
              "      <th>rooms</th>\n",
              "      <th>expenses</th>\n",
              "      <th>properati_url</th>\n",
              "      <th>description</th>\n",
              "      <th>title</th>\n",
              "      <th>image_thumbnail</th>\n",
              "    </tr>\n",
              "  </thead>\n",
              "  <tbody>\n",
              "  </tbody>\n",
              "</table>\n",
              "<p>0 rows × 26 columns</p>\n",
              "</div>"
            ],
            "text/plain": [
              "Empty DataFrame\n",
              "Columns: [Unnamed: 0, operation, property_type, place_name, place_with_parent_names, country_name, state_name, geonames_id, lat-lon, lat, lon, price, currency, price_aprox_local_currency, price_aprox_usd, surface_total_in_m2, surface_covered_in_m2, price_usd_per_m2, price_per_m2, floor, rooms, expenses, properati_url, description, title, image_thumbnail]\n",
              "Index: []\n",
              "\n",
              "[0 rows x 26 columns]"
            ]
          },
          "metadata": {
            "tags": []
          },
          "execution_count": 5
        }
      ]
    },
    {
      "metadata": {
        "id": "LyEZcL7LOZhO",
        "colab_type": "text"
      },
      "cell_type": "markdown",
      "source": [
        "## <font color='red'>Obtengo AMMENITIES .</font> "
      ]
    },
    {
      "metadata": {
        "id": "fugUXyl_Ccph",
        "colab_type": "code",
        "colab": {}
      },
      "cell_type": "code",
      "source": [
        "####Obtengo   ammenities por item y creo un DF Ampliado con el original + ammenities.\n",
        "dfAmmenities= df2['description'].apply(GetAmmenities)\n",
        "#df3.rename(columns={'0':'lavadero', , ,'nuevo', '3':'refaccionado','4': 'AC','5':'living_comedor','6': 'cocina_comedor', '7':'cocina_integrada', '8':'parrilla','9':'balcon','10':'subte','11':'cochera_fija','12':'baulera'})\n",
        "dfAmpliada = df2.join(dfAmmenities)\n",
        "dfAmpliada = dfAmpliada.rename(columns={0:'lavadero',1:'pileta',2:'terraza',3:'nuevo',4:'refaccionado',5:'aire',6:'living',7:'cocina_comedor',8:'cocina_integrada',9:'parrilla',10:'balcon',11:'subte',12:'cochera_fija',13:'baulera',14:'telefono'})\n"
      ],
      "execution_count": 0,
      "outputs": []
    },
    {
      "metadata": {
        "id": "hBMXv8NlOLfP",
        "colab_type": "text"
      },
      "cell_type": "markdown",
      "source": [
        "## <font color='red'>Imputo ambientes faltantes del title.</font> "
      ]
    },
    {
      "metadata": {
        "id": "-0t3KLovCcpk",
        "colab_type": "code",
        "colab": {}
      },
      "cell_type": "code",
      "source": [
        "####Obtengo   ambientes por item y creo un DF Ampliado con el original + ambientes ¿Lo  usamos para pisar ambientes NAN?.\n",
        "dfAmbientes =  pd.DataFrame(  df2['description'].apply(getAmbientes))\n",
        "dfAmbientes = dfAmbientes.rename(columns={'description':'ambientes_title'})\n"
      ],
      "execution_count": 0,
      "outputs": []
    },
    {
      "metadata": {
        "id": "0R_CLMWZCcpm",
        "colab_type": "code",
        "colab": {}
      },
      "cell_type": "code",
      "source": [
        "dfAmpliada['ambientes_title']=dfAmbientes.ambientes_title"
      ],
      "execution_count": 0,
      "outputs": []
    },
    {
      "metadata": {
        "id": "zFIJFwmPCcpp",
        "colab_type": "code",
        "colab": {}
      },
      "cell_type": "code",
      "source": [
        "\n"
      ],
      "execution_count": 0,
      "outputs": []
    },
    {
      "metadata": {
        "id": "LKv1WDNDCcpr",
        "colab_type": "code",
        "colab": {},
        "outputId": "7e991aad-cf8a-481c-a342-c20aef9040b2"
      },
      "cell_type": "code",
      "source": [
        "##Tengo 21814 rooms para llenar.\n",
        "dfAmpliada[(dfAmpliada['rooms'].isna()) & (dfAmpliada['ambientes_title']!='SD')].shape[0]"
      ],
      "execution_count": 0,
      "outputs": [
        {
          "output_type": "execute_result",
          "data": {
            "text/plain": [
              "21814"
            ]
          },
          "metadata": {
            "tags": []
          },
          "execution_count": 9
        }
      ]
    },
    {
      "metadata": {
        "id": "NetR9tWuCcpw",
        "colab_type": "code",
        "colab": {}
      },
      "cell_type": "code",
      "source": [
        "##reemplazo los ambientes del titulo en los nan de rooms\n",
        "dfAmpliada['rooms'].fillna(dfAmpliada['ambientes_title'],inplace=True)"
      ],
      "execution_count": 0,
      "outputs": []
    },
    {
      "metadata": {
        "id": "N6IczuQ8Orco",
        "colab_type": "text"
      },
      "cell_type": "markdown",
      "source": [
        "## <font color='red'>REEMPLAZO PLACE_NAME FALTANTES CON LOS PLACE_NAME DE PLACE_WITH PARENT NAMES</font> "
      ]
    },
    {
      "metadata": {
        "id": "qZEWg9p-Ccpy",
        "colab_type": "code",
        "colab": {}
      },
      "cell_type": "code",
      "source": [
        "##Obtengo un DF Auxiliar con el place with parent names partido por cada uno de sus componentes.\n",
        "#me voy a quedar con place_name y lo voy a reemplazar en el DF Apmpliado\n",
        "dfUbicacion = pd.DataFrame(dfAmpliada['place_with_parent_names'].apply(splitPlaceWithParentNames))\n",
        "\n",
        "dfUbicacion =dfUbicacion.rename(columns={0:'filled_state_name',1:'filled_place_name'})\n",
        "dfAmpliada['filled_place_name'] = dfUbicacion['filled_place_name']\n",
        "# Completamos los faltantes en la variable place_name con los datos extra�dos.\n",
        "dfAmpliada['place_name'].fillna(value=dfAmpliada['filled_place_name'], inplace=True)\n",
        "\n"
      ],
      "execution_count": 0,
      "outputs": []
    },
    {
      "metadata": {
        "id": "W9M0gk0rCcpz",
        "colab_type": "code",
        "colab": {},
        "outputId": "3b57214e-7c0a-4007-ce51-1cc9f64bf98c"
      },
      "cell_type": "code",
      "source": [
        "###esta corregido?\n",
        "dfAmpliada['place_name'].isna().sum()"
      ],
      "execution_count": 0,
      "outputs": [
        {
          "output_type": "execute_result",
          "data": {
            "text/plain": [
              "0"
            ]
          },
          "metadata": {
            "tags": []
          },
          "execution_count": 12
        }
      ]
    },
    {
      "metadata": {
        "id": "Rk3f9NJ3O9WD",
        "colab_type": "text"
      },
      "cell_type": "markdown",
      "source": [
        "## <font color='red'>VAMOS CON LAT. Y LONG</font> "
      ]
    },
    {
      "metadata": {
        "id": "5kJklMvqCcp3",
        "colab_type": "code",
        "colab": {},
        "outputId": "f50ad445-9a3d-4ea8-8c41-632038688ca3"
      },
      "cell_type": "code",
      "source": [
        "print('cant nulos longitud')\n",
        "display(dfAmpliada['lon'].isna().sum())"
      ],
      "execution_count": 0,
      "outputs": [
        {
          "output_type": "stream",
          "text": [
            "cant nulos longitud\n"
          ],
          "name": "stdout"
        },
        {
          "output_type": "display_data",
          "data": {
            "text/plain": [
              "51550"
            ]
          },
          "metadata": {
            "tags": []
          }
        }
      ]
    },
    {
      "metadata": {
        "id": "HKoQqO4CCcp6",
        "colab_type": "code",
        "colab": {},
        "outputId": "58602979-da74-4dab-cd92-abd2595bda36"
      },
      "cell_type": "code",
      "source": [
        "print('cant nulos latitud')\n",
        "display(dfAmpliada['lat'].isna().sum())"
      ],
      "execution_count": 0,
      "outputs": [
        {
          "output_type": "stream",
          "text": [
            "cant nulos latitud\n"
          ],
          "name": "stdout"
        },
        {
          "output_type": "display_data",
          "data": {
            "text/plain": [
              "51550"
            ]
          },
          "metadata": {
            "tags": []
          }
        }
      ]
    },
    {
      "metadata": {
        "id": "eBNzJQoDCcp-",
        "colab_type": "code",
        "colab": {},
        "outputId": "6c612d62-1644-4db1-f488-f26624b2dcb2"
      },
      "cell_type": "code",
      "source": [
        "###### Busco completar latitud - Seteo la media de latitud para los de una misma zona.\n",
        "dflat = dfAmpliada.groupby(['place_with_parent_names'])[['lat']].median()\n",
        "dflon = dfAmpliada.groupby(['place_with_parent_names'])[['lon']].median()\n",
        "dflon['place_with_parent_names'] = dflon.index.values\n",
        "dflat['place_with_parent_names'] = dflat.index.values\n",
        "dfillLatLong = pd.merge(left= dflat, right=dflon, left_on='place_with_parent_names', right_on='place_with_parent_names' )\n",
        "dfAmpliada2 = pd.merge(left= dfAmpliada, right=dfillLatLong, left_on='place_with_parent_names', right_on='place_with_parent_names', suffixes='np' )\n"
      ],
      "execution_count": 0,
      "outputs": [
        {
          "output_type": "stream",
          "text": [
            "/opt/conda/lib/python3.6/site-packages/IPython/core/interactiveshell.py:2963: FutureWarning: 'place_with_parent_names' is both an index level and a column label.\n",
            "Defaulting to column, but this will raise an ambiguity error in a future version\n",
            "  exec(code_obj, self.user_global_ns, self.user_ns)\n"
          ],
          "name": "stderr"
        }
      ]
    },
    {
      "metadata": {
        "id": "eWQvug8UCcqB",
        "colab_type": "code",
        "colab": {}
      },
      "cell_type": "code",
      "source": [
        "dfAmpliada2.rename( columns={'latp':'lat','lonp':'lon'}, inplace=True) \n",
        "#dfAmpliadaV2[dfAmpliadaV2['lat_x'].isna()]\n"
      ],
      "execution_count": 0,
      "outputs": []
    },
    {
      "metadata": {
        "id": "otoWEeaICcqD",
        "colab_type": "code",
        "colab": {},
        "outputId": "e0c9566a-2d5e-4a3b-a6da-ca7344981461"
      },
      "cell_type": "code",
      "source": [
        " dfAmpliada2.columns\n",
        "\n",
        "\n"
      ],
      "execution_count": 0,
      "outputs": [
        {
          "output_type": "execute_result",
          "data": {
            "text/plain": [
              "Index(['Unnamed: 0', 'operation', 'property_type', 'place_name',\n",
              "       'place_with_parent_names', 'country_name', 'state_name', 'geonames_id',\n",
              "       'lat-lon', 'latn', 'lonn', 'price', 'currency',\n",
              "       'price_aprox_local_currency', 'price_aprox_usd', 'surface_total_in_m2',\n",
              "       'surface_covered_in_m2', 'price_usd_per_m2', 'price_per_m2', 'floor',\n",
              "       'rooms', 'expenses', 'properati_url', 'description', 'title',\n",
              "       'image_thumbnail', 'lavadero', 'pileta', 'terraza', 'nuevo',\n",
              "       'refaccionado', 'aire', 'living', 'cocina_comedor', 'cocina_integrada',\n",
              "       'parrilla', 'balcon', 'subte', 'cochera_fija', 'baulera', 'telefono',\n",
              "       'ambientes_title', 'filled_place_name', 'lat', 'lon'],\n",
              "      dtype='object')"
            ]
          },
          "metadata": {
            "tags": []
          },
          "execution_count": 17
        }
      ]
    },
    {
      "metadata": {
        "id": "9DHoWyBfCcqG",
        "colab_type": "code",
        "colab": {}
      },
      "cell_type": "code",
      "source": [
        "dfAmpliada2.drop(['lat-lon','latn','lonn'], axis=1,inplace=True)\n"
      ],
      "execution_count": 0,
      "outputs": []
    },
    {
      "metadata": {
        "id": "4FZ3cWD6CcqI",
        "colab_type": "code",
        "colab": {},
        "outputId": "7ea6c049-e7f5-425f-c1ba-c3d5d0aaf75c"
      },
      "cell_type": "code",
      "source": [
        "dfAmpliada2['lat'].isna().sum()"
      ],
      "execution_count": 0,
      "outputs": [
        {
          "output_type": "execute_result",
          "data": {
            "text/plain": [
              "838"
            ]
          },
          "metadata": {
            "tags": []
          },
          "execution_count": 19
        }
      ]
    },
    {
      "metadata": {
        "id": "Lz1S82lsCcqK",
        "colab_type": "code",
        "colab": {},
        "outputId": "15ef28b9-66b5-43b1-d1c9-0d2e2ac4d3a0"
      },
      "cell_type": "code",
      "source": [
        "dfAmpliada2['lon'].isna().sum()"
      ],
      "execution_count": 0,
      "outputs": [
        {
          "output_type": "execute_result",
          "data": {
            "text/plain": [
              "838"
            ]
          },
          "metadata": {
            "tags": []
          },
          "execution_count": 20
        }
      ]
    },
    {
      "metadata": {
        "id": "4Ebg2ATdPPaJ",
        "colab_type": "text"
      },
      "cell_type": "markdown",
      "source": [
        ""
      ]
    },
    {
      "metadata": {
        "id": "ibK46XK2PT8c",
        "colab_type": "code",
        "colab": {
          "base_uri": "https://localhost:8080/",
          "height": 201
        },
        "outputId": "bf67f64a-da46-4784-af53-3a51e334d146"
      },
      "cell_type": "code",
      "source": [
        "dfAmpliada2['lon'].describe()"
      ],
      "execution_count": 1,
      "outputs": [
        {
          "output_type": "error",
          "ename": "NameError",
          "evalue": "ignored",
          "traceback": [
            "\u001b[0;31m---------------------------------------------------------------------------\u001b[0m",
            "\u001b[0;31mNameError\u001b[0m                                 Traceback (most recent call last)",
            "\u001b[0;32m<ipython-input-1-ef4d0ccb69e7>\u001b[0m in \u001b[0;36m<module>\u001b[0;34m()\u001b[0m\n\u001b[0;32m----> 1\u001b[0;31m \u001b[0mdfAmpliada2\u001b[0m\u001b[0;34m[\u001b[0m\u001b[0;34m'lon'\u001b[0m\u001b[0;34m]\u001b[0m\u001b[0;34m.\u001b[0m\u001b[0mdescribe\u001b[0m\u001b[0;34m(\u001b[0m\u001b[0;34m)\u001b[0m\u001b[0;34m\u001b[0m\u001b[0m\n\u001b[0m",
            "\u001b[0;31mNameError\u001b[0m: name 'dfAmpliada2' is not defined"
          ]
        }
      ]
    },
    {
      "metadata": {
        "id": "tV7SSJeIPIMa",
        "colab_type": "text"
      },
      "cell_type": "markdown",
      "source": [
        "## <font color='red'>BORRO INNECESARIAS.</font> "
      ]
    },
    {
      "metadata": {
        "id": "hvGNQfEVCcqM",
        "colab_type": "code",
        "colab": {}
      },
      "cell_type": "code",
      "source": [
        "dfAmpliada2.drop(['Unnamed: 0','operation','country_name','filled_place_name','floor','expenses','properati_url','image_thumbnail'], axis=1,inplace=True)\n"
      ],
      "execution_count": 0,
      "outputs": []
    },
    {
      "metadata": {
        "id": "Z-7ev68OCcqO",
        "colab_type": "code",
        "colab": {}
      },
      "cell_type": "code",
      "source": [
        "\n",
        "# Creamos una pivot table para la media de surface_covered_in_m2 agrupada por place_name y property_type.\n",
        "flattened_pivot_surface = pd.DataFrame(dfAmpliada.pivot_table(values = 'surface_covered_in_m2', index = ['place_name','property_type'],\n",
        "                                aggfunc = 'mean').to_records())\n",
        "\n",
        "\n",
        " "
      ],
      "execution_count": 0,
      "outputs": []
    },
    {
      "metadata": {
        "id": "SJTm3sAkCcqQ",
        "colab_type": "code",
        "colab": {},
        "outputId": "bfca7eeb-29de-4596-8e7c-f36961464c44"
      },
      "cell_type": "code",
      "source": [
        "\n",
        "                                \n",
        "# Lo mergeamos con el dataframe original.\n",
        "cleaned_df = dfAmpliada2.merge(flattened_pivot_surface, how='left', on=['place_name','property_type'])\n",
        "\n",
        "# Imputamos las medias agrupadas y eliminamos las variables redundantes\n",
        "cleaned_df.surface_covered_in_m2_x.fillna(cleaned_df.surface_covered_in_m2_y, inplace=True)\n",
        "del cleaned_df['surface_covered_in_m2_y']\n",
        "cleaned_df['surface_covered_in_m2'] = cleaned_df['surface_covered_in_m2_x']\n",
        "del cleaned_df['surface_covered_in_m2_x']\n",
        "\n",
        "cleaned_df.surface_covered_in_m2.isna().sum()\n"
      ],
      "execution_count": 0,
      "outputs": [
        {
          "output_type": "execute_result",
          "data": {
            "text/plain": [
              "362"
            ]
          },
          "metadata": {
            "tags": []
          },
          "execution_count": 23
        }
      ]
    },
    {
      "metadata": {
        "id": "-I91zbHzCcqS",
        "colab_type": "code",
        "colab": {}
      },
      "cell_type": "code",
      "source": [
        "cleaned_df.to_csv('properatti.editado.csv', index = False, header = True)"
      ],
      "execution_count": 0,
      "outputs": []
    },
    {
      "metadata": {
        "id": "gOr8f0z9CcqU",
        "colab_type": "code",
        "colab": {}
      },
      "cell_type": "code",
      "source": [
        " # Lo mergeamos con el dataframe original.\n",
        "cleaned_df = dfAmpliada2.merge(flattened_pivot_surface, how='left', on=['place_name','property_type'])\n",
        "\n",
        "# Imputamos las medias agrupadas y eliminamos las variables redundantes\n",
        "cleaned_df.surface_covered_in_m2_x.fillna(cleaned_df.surface_covered_in_m2_y, inplace=True)\n",
        "del cleaned_df['surface_covered_in_m2_y']\n",
        "cleaned_df['surface_covered_in_m2'] = cleaned_df['surface_covered_in_m2_x']\n",
        "del cleaned_df['surface_covered_in_m2_x']\n",
        "\n",
        "cleaned_df.surface_covered_in_m2.isna().sum()\n",
        "\n"
      ],
      "execution_count": 0,
      "outputs": []
    },
    {
      "metadata": {
        "id": "KhUCxIj0CcqV",
        "colab_type": "code",
        "colab": {}
      },
      "cell_type": "code",
      "source": [
        ""
      ],
      "execution_count": 0,
      "outputs": []
    }
  ]
}