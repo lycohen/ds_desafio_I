{
  "nbformat": 4,
  "nbformat_minor": 0,
  "metadata": {
    "colab": {
      "name": "Desafio_III_con_pandas.v3.ipynb",
      "version": "0.3.2",
      "provenance": [],
      "collapsed_sections": [],
      "include_colab_link": true
    },
    "kernelspec": {
      "name": "python3",
      "display_name": "Python 3"
    },
    "accelerator": "GPU"
  },
  "cells": [
    {
      "cell_type": "markdown",
      "metadata": {
        "id": "view-in-github",
        "colab_type": "text"
      },
      "source": [
        "[View in Colaboratory](https://colab.research.google.com/github/lycohen/ds_desafio_I/blob/master/Desafio_III_con_pandas_v3.ipynb)"
      ]
    },
    {
      "metadata": {
        "id": "SzibsRaTIVhL",
        "colab_type": "code",
        "outputId": "d5a17ee2-cd35-43d1-bf88-43b1cf5740d3",
        "colab": {
          "base_uri": "https://localhost:8080/",
          "height": 237
        }
      },
      "cell_type": "code",
      "source": [
        "! pip install pydrive\n",
        "! pip install sklearn\n",
        "\n",
        "# these classes allow you to request the Google drive API\n",
        "from pydrive.auth import GoogleAuth\n",
        "from pydrive.drive import GoogleDrive \n",
        "from google.colab import auth \n",
        "from oauth2client.client import GoogleCredentials\n",
        "\n",
        "# 1. Authenticate and create the PyDrive client.\n",
        "auth.authenticate_user()\n",
        "gauth = GoogleAuth()\n",
        "gauth.credentials = GoogleCredentials.get_application_default()\n",
        "drive = GoogleDrive(gauth)\n",
        "file_id_15 = '1Oden9as5wDneEm--EvypPFzQ0l1LK2xW'\n",
        "\n",
        "file_id_16 = '1gCDKeVRyFNTb8DK1_Rxov0j-FniBo5nK'\n",
        "file_id_17 = '1Kfgnl1E53pXRvw24O2c2Vj9GYIbqE5wZ'\n",
        "file_id_18= '15tAV6dotJY2nSaxp_x3CCTmpWkZmzS2G'\n",
        "file_id_19= '16qqIgdVFwgdTIsQcRorMt4X-8fKupqb7'\n",
        "file_id_20= '15cM8zF7rrVisxtKXlD94EfLuVamkXf_k'\n",
        "file_id_21= '17HOAScPpOg92-zepqA_p0sJ8iPfU_yru'\n",
        "file_id_Test =  '1NMI7QW7l63Uq42yd3ytBaNG224auwi23'\n",
        "\n",
        "\n",
        "downloadedF15  = drive.CreateFile({'id': file_id_15})\n",
        "downloadedF16  = drive.CreateFile({'id': file_id_16})\n",
        "downloadedF17  = drive.CreateFile({'id': file_id_17})\n",
        "downloadedF18  = drive.CreateFile({'id': file_id_18})\n",
        "downloadedF19  = drive.CreateFile({'id': file_id_19})\n",
        "downloadedF20  = drive.CreateFile({'id': file_id_20})\n",
        "downloadedF21  = drive.CreateFile({'id': file_id_21})\n",
        "downloadedFTest  = drive.CreateFile({'id': file_id_Test})\n",
        "\n",
        "# allows you to temporarily load your file in the notebook VM\n",
        "\n",
        "# assume the file is called file.csv and it's located at the root of your drive\n",
        "downloadedF15.GetContentFile('ctr_15.zip')\n",
        "downloadedF16.GetContentFile('ctr_16.zip')\n",
        "downloadedF17.GetContentFile('ctr_17.zip')\n",
        "downloadedF18.GetContentFile('ctr_18.zip')\n",
        "downloadedF19.GetContentFile('ctr_19.zip')\n",
        "downloadedF20.GetContentFile('ctr_20.zip')\n",
        "downloadedF21.GetContentFile('ctr_21.zip')\n",
        "downloadedFTest.GetContentFile('ctr_test_labeled.zip')\n",
        "#print (file)"
      ],
      "execution_count": 2,
      "outputs": [
        {
          "output_type": "stream",
          "text": [
            "Requirement already satisfied: pydrive in /usr/local/lib/python3.6/dist-packages (1.3.1)\n",
            "Requirement already satisfied: google-api-python-client>=1.2 in /usr/local/lib/python3.6/dist-packages (from pydrive) (1.6.7)\n",
            "Requirement already satisfied: PyYAML>=3.0 in /usr/local/lib/python3.6/dist-packages (from pydrive) (3.13)\n",
            "Requirement already satisfied: oauth2client>=4.0.0 in /usr/local/lib/python3.6/dist-packages (from pydrive) (4.1.3)\n",
            "Requirement already satisfied: httplib2<1dev,>=0.9.2 in /usr/local/lib/python3.6/dist-packages (from google-api-python-client>=1.2->pydrive) (0.11.3)\n",
            "Requirement already satisfied: uritemplate<4dev,>=3.0.0 in /usr/local/lib/python3.6/dist-packages (from google-api-python-client>=1.2->pydrive) (3.0.0)\n",
            "Requirement already satisfied: six<2dev,>=1.6.1 in /usr/local/lib/python3.6/dist-packages (from google-api-python-client>=1.2->pydrive) (1.11.0)\n",
            "Requirement already satisfied: pyasn1>=0.1.7 in /usr/local/lib/python3.6/dist-packages (from oauth2client>=4.0.0->pydrive) (0.4.4)\n",
            "Requirement already satisfied: rsa>=3.1.4 in /usr/local/lib/python3.6/dist-packages (from oauth2client>=4.0.0->pydrive) (4.0)\n",
            "Requirement already satisfied: pyasn1-modules>=0.0.5 in /usr/local/lib/python3.6/dist-packages (from oauth2client>=4.0.0->pydrive) (0.2.2)\n",
            "Requirement already satisfied: sklearn in /usr/local/lib/python3.6/dist-packages (0.0)\n",
            "Requirement already satisfied: scikit-learn in /usr/local/lib/python3.6/dist-packages (from sklearn) (0.19.2)\n"
          ],
          "name": "stdout"
        }
      ]
    },
    {
      "metadata": {
        "id": "dbtHaNy5Mkty",
        "colab_type": "code",
        "colab": {}
      },
      "cell_type": "code",
      "source": [
        "import pandas as pd\n",
        "import zipfile\n",
        "import sklearn\n",
        "from sklearn.model_selection import train_test_split\n",
        "from sklearn.metrics import log_loss, r2_score\n",
        "\n",
        "from sklearn.feature_extraction.text import FeatureHasher\n",
        "from scipy.sparse import coo_matrix, vstack\n",
        "import numpy as np\n",
        "from sklearn import linear_model as lm\n",
        "from sklearn.preprocessing import  StandardScaler\n",
        "import random\n",
        "from sklearn.naive_bayes import BernoulliNB\n",
        "\n",
        "FASE_EDA=True\n"
      ],
      "execution_count": 0,
      "outputs": []
    },
    {
      "metadata": {
        "id": "yWmSbccWOlzM",
        "colab_type": "code",
        "colab": {}
      },
      "cell_type": "code",
      "source": [
        "#train.iloc[:,1:].info()\n",
        "\n",
        "#.select_dtypes(include=['object'])\n",
        "def monitorCalidad(X):\n",
        "  monitor =[]\n",
        "  for i in X.columns:\n",
        "    monitor.append([i,X[i].isna().sum(),(100*X[i].isna().sum()/X.shape[0])])\n",
        "    dfMonitor = pd.DataFrame(monitor,columns=['col','nan','porc'])\n",
        "  return dfMonitor[dfMonitor.porc > 30]"
      ],
      "execution_count": 0,
      "outputs": []
    },
    {
      "metadata": {
        "id": "WPcz06Z0dQPW",
        "colab_type": "code",
        "colab": {}
      },
      "cell_type": "code",
      "source": [
        "def estandarizo(X):\n",
        "  #columnas que tienen mas del 30% de NAN\n",
        "  colsBorrar=['auction_age', 'auction_categorical_12', 'creative_categorical_12',\n",
        "       'creative_categorical_2', 'creative_categorical_3',\n",
        "       'creative_categorical_5', 'creative_categorical_6',\n",
        "       'creative_categorical_7', 'gender']\n",
        "  num_cols = ['auction_bidfloor','creative_height','creative_width','timezone_offset','dia','hora','mes','diasemana']\n",
        "\n",
        "\n",
        "  X.drop (colsBorrar,axis=1,inplace=True)\n",
        "  X['date'] = pd.to_datetime(X['auction_time'],unit='s')\n",
        "  X['dia']=X.date.apply(lambda x:x.day)\n",
        "  X['hora']=X.date.apply(lambda x:x.hour)\n",
        "  X['mes']=X.date.apply(lambda x:x.month)\n",
        "  X['diasemana']=X.date.apply(lambda x:x.weekday())\n",
        "  X.drop(['date','auction_time'],axis=1,inplace=True)\n",
        "  for i in X.columns:\n",
        "    if (X[i].isna().sum()>0):\n",
        "      X[i+'_nan']=X[i].isna()\n",
        "      X[i]=X[i].fillna(-1)\n",
        "  \n",
        "  scaler = StandardScaler()\n",
        "  X[num_cols] = scaler.fit_transform(X[num_cols])\n",
        "  return X\n"
      ],
      "execution_count": 0,
      "outputs": []
    },
    {
      "metadata": {
        "id": "_8Lw8NPswhjt",
        "colab_type": "code",
        "colab": {}
      },
      "cell_type": "code",
      "source": [
        "def getDf(arch):\n",
        "  return pd.read_csv(zipfile.ZipFile(arch+'.zip').open(arch+'.csv'))\n",
        "\n",
        "def getDfTest():\n",
        "  return pd.read_csv(zipfile.ZipFile('ctr_test_labeled.zip').open('ctr_test.csv'))\n",
        "\n",
        "def getDfFeatures(df):\n",
        "  return df.iloc[:,1:]\n",
        "\n",
        "def getDfLabels(df):\n",
        "  return df.iloc[:,0:1].values"
      ],
      "execution_count": 0,
      "outputs": []
    },
    {
      "metadata": {
        "id": "oYi7zdZVrDo-",
        "colab_type": "code",
        "colab": {}
      },
      "cell_type": "code",
      "source": [
        "#FASE_EDA=True\n",
        "if (FASE_EDA):\n",
        "  X = getDf('ctr_15').iloc[:,1:]\n",
        "  display(monitorCalidad(X))\n",
        "\n",
        "\n",
        "  X =estandarizo(X)\n",
        "\n",
        "  display(monitorCalidad(X))\n",
        "\n",
        "\n",
        "\n",
        "\n",
        "\n"
      ],
      "execution_count": 0,
      "outputs": []
    },
    {
      "metadata": {
        "id": "iTAh2Guz0qgP",
        "colab_type": "code",
        "colab": {}
      },
      "cell_type": "code",
      "source": [
        "vec = FeatureHasher(n_features=500,input_type='dict',dtype =np.float64, non_negative=False)\n",
        "\n"
      ],
      "execution_count": 0,
      "outputs": []
    },
    {
      "metadata": {
        "id": "mPx_uNxjPcEX",
        "colab_type": "code",
        "colab": {}
      },
      "cell_type": "code",
      "source": [
        "\n",
        "\n",
        "\n",
        "train=estandarizo(pd.concat([getDf('ctr_15').head(20500),getDf('ctr_16').sample(20500)],axis=0))\n",
        "test= estandarizo(getDfTest().sample(5000))\n",
        "\n",
        "\n",
        "Ytrain = train['Label'].values\n",
        "Ytest = test['Label'].values\n",
        "\n",
        "\n",
        "Xttest = vec.fit_transform(test.iloc[:,1:].to_dict(orient='records'))\n",
        "Xtrain = vec.fit_transform(train.iloc[:,1:].to_dict(orient='records'))\n",
        "\n"
      ],
      "execution_count": 0,
      "outputs": []
    },
    {
      "metadata": {
        "id": "UE5yvQSLzzTD",
        "colab_type": "code",
        "colab": {
          "base_uri": "https://localhost:8080/",
          "height": 82
        },
        "outputId": "42bdb15a-f8ae-46f3-f892-365f7ae01847"
      },
      "cell_type": "code",
      "source": [
        "display(Xttest.shape,len(Ytest))\n",
        "display(Xtrain.shape,len(Ytrain))\n",
        "\n"
      ],
      "execution_count": 41,
      "outputs": [
        {
          "output_type": "display_data",
          "data": {
            "text/plain": [
              "(5000, 500)"
            ]
          },
          "metadata": {
            "tags": []
          }
        },
        {
          "output_type": "display_data",
          "data": {
            "text/plain": [
              "5000"
            ]
          },
          "metadata": {
            "tags": []
          }
        },
        {
          "output_type": "display_data",
          "data": {
            "text/plain": [
              "(41000, 500)"
            ]
          },
          "metadata": {
            "tags": []
          }
        },
        {
          "output_type": "display_data",
          "data": {
            "text/plain": [
              "41000"
            ]
          },
          "metadata": {
            "tags": []
          }
        }
      ]
    },
    {
      "metadata": {
        "id": "INI1xQIiy2Ht",
        "colab_type": "code",
        "colab": {
          "base_uri": "https://localhost:8080/",
          "height": 223
        },
        "outputId": "216ca665-071a-4eeb-8765-82a27c252693"
      },
      "cell_type": "code",
      "source": [
        "!pip install parfit \n",
        "import parfit.parfit as pf\n",
        "from sklearn.model_selection import ParameterGrid\n",
        "from sklearn.linear_model import SGDClassifier\n",
        "\n",
        "from sklearn.metrics import roc_auc_score\n",
        "import parfit.parfit as pf\n",
        "\n"
      ],
      "execution_count": 34,
      "outputs": [
        {
          "output_type": "stream",
          "text": [
            "Requirement already satisfied: parfit in /usr/local/lib/python3.6/dist-packages (0.220)\n",
            "Requirement already satisfied: sklearn in /usr/local/lib/python3.6/dist-packages (from parfit) (0.0)\n",
            "Requirement already satisfied: joblib in /usr/local/lib/python3.6/dist-packages (from parfit) (0.12.5)\n",
            "Requirement already satisfied: matplotlib in /usr/local/lib/python3.6/dist-packages (from parfit) (2.1.2)\n",
            "Requirement already satisfied: numpy in /usr/local/lib/python3.6/dist-packages (from parfit) (1.14.6)\n",
            "Requirement already satisfied: scikit-learn in /usr/local/lib/python3.6/dist-packages (from sklearn->parfit) (0.19.2)\n",
            "Requirement already satisfied: pytz in /usr/local/lib/python3.6/dist-packages (from matplotlib->parfit) (2018.5)\n",
            "Requirement already satisfied: cycler>=0.10 in /usr/local/lib/python3.6/dist-packages (from matplotlib->parfit) (0.10.0)\n",
            "Requirement already satisfied: python-dateutil>=2.1 in /usr/local/lib/python3.6/dist-packages (from matplotlib->parfit) (2.5.3)\n",
            "Requirement already satisfied: six>=1.10 in /usr/local/lib/python3.6/dist-packages (from matplotlib->parfit) (1.11.0)\n",
            "Requirement already satisfied: pyparsing!=2.0.4,!=2.1.2,!=2.1.6,>=2.0.1 in /usr/local/lib/python3.6/dist-packages (from matplotlib->parfit) (2.2.2)\n"
          ],
          "name": "stdout"
        }
      ]
    },
    {
      "metadata": {
        "id": "Duk--EPWzbNn",
        "colab_type": "code",
        "colab": {
          "base_uri": "https://localhost:8080/",
          "height": 634
        },
        "outputId": "6c311515-7a1b-4c2c-f583-fda217121271"
      },
      "cell_type": "code",
      "source": [
        "grid = {\n",
        "    'alpha': [1e-4, 1e-3, 1e-2, 1e-1, 1e0, 1e1, 1e2, 1e3], # learning rate\n",
        "    'n_iter': [1000], # number of epochs\n",
        "    'loss': ['log'], # logistic regression,\n",
        "    'penalty': ['l2'],\n",
        "    'n_jobs': [-1]\n",
        "}\n",
        "paramGrid = ParameterGrid(grid)\n",
        "\n",
        "bestModel, bestScore, allModels, allScores = pf.bestFit(SGDClassifier, paramGrid,Xtrain, Ytrain, Xttest, Ytest, metric = roc_auc_score, scoreLabel='AUC')\n",
        "\n",
        "print(bestModel)"
      ],
      "execution_count": 42,
      "outputs": [
        {
          "output_type": "stream",
          "text": [
            "-------------FITTING MODELS-------------\n"
          ],
          "name": "stdout"
        },
        {
          "output_type": "stream",
          "text": [
            "[Parallel(n_jobs=-1)]: Using backend LokyBackend with 2 concurrent workers.\n",
            "[Parallel(n_jobs=-1)]: Done   1 tasks      | elapsed:   28.3s\n",
            "[Parallel(n_jobs=-1)]: Done   4 tasks      | elapsed:  1.0min\n",
            "[Parallel(n_jobs=-1)]: Done   6 out of   8 | elapsed:  1.5min remaining:   30.9s\n"
          ],
          "name": "stderr"
        },
        {
          "output_type": "stream",
          "text": [
            "-------------SCORING MODELS-------------\n"
          ],
          "name": "stdout"
        },
        {
          "output_type": "stream",
          "text": [
            "[Parallel(n_jobs=-1)]: Done   8 out of   8 | elapsed:  2.0min remaining:    0.0s\n",
            "[Parallel(n_jobs=-1)]: Done   8 out of   8 | elapsed:  2.0min finished\n",
            "[Parallel(n_jobs=-1)]: Using backend LokyBackend with 2 concurrent workers.\n",
            "[Parallel(n_jobs=-1)]: Done   8 out of   8 | elapsed:    0.0s finished\n"
          ],
          "name": "stderr"
        },
        {
          "output_type": "display_data",
          "data": {
            "image/png": "[encoded data removed]",
            "text/plain": [
              "<matplotlib.figure.Figure at 0x7fc67e96c080>"
            ]
          },
          "metadata": {
            "tags": []
          }
        },
        {
          "output_type": "stream",
          "text": [
            "SGDClassifier(alpha=0.01, average=False, class_weight=None, epsilon=0.1,\n",
            "       eta0=0.0, fit_intercept=True, l1_ratio=0.15,\n",
            "       learning_rate='optimal', loss='log', max_iter=None, n_iter=1000,\n",
            "       n_jobs=-1, penalty='l2', power_t=0.5, random_state=None,\n",
            "       shuffle=True, tol=None, verbose=0, warm_start=False)\n"
          ],
          "name": "stdout"
        }
      ]
    },
    {
      "metadata": {
        "id": "uvjSB8Ow_Hnv",
        "colab_type": "code",
        "colab": {
          "base_uri": "https://localhost:8080/",
          "height": 568
        },
        "outputId": "1d660989-e8a0-48ad-b797-0b27e5d3b3a0"
      },
      "cell_type": "code",
      "source": [
        "\n",
        "train=estandarizo(pd.concat([getDf('ctr_15').head(20500),getDf('ctr_16').sample(20500)],axis=0))\n",
        "test= estandarizo(getDfTest().sample(5000))\n",
        "\n",
        "\n",
        "Ytrain = train['Label'].values\n",
        "Ytest = test['Label'].values\n",
        "\n",
        "\n",
        "Xttest = vec.fit_transform(test.iloc[:,1:].to_dict(orient='records'))\n",
        "Xtrain = vec.fit_transform(train.iloc[:,1:].to_dict(orient='records'))\n",
        "\n",
        "\n",
        "\n",
        "\n",
        "grid = {\n",
        "    'alpha': [1e-4, 1e-3, 1e-2, 1e-1, 1e0, 1e1, 1e2, 1e3]\n",
        "}\n",
        "paramGrid = ParameterGrid(grid)\n",
        "\n",
        "bestModel, bestScore, allModels, allScores = pf.bestFit(BernoulliNB, paramGrid,Xtrain, Ytrain, Xttest, Ytest, metric = roc_auc_score, scoreLabel='AUC')\n",
        "\n",
        "print(bestModel)\n"
      ],
      "execution_count": 52,
      "outputs": [
        {
          "output_type": "stream",
          "text": [
            "-------------FITTING MODELS-------------\n"
          ],
          "name": "stdout"
        },
        {
          "output_type": "stream",
          "text": [
            "[Parallel(n_jobs=-1)]: Using backend LokyBackend with 2 concurrent workers.\n",
            "[Parallel(n_jobs=-1)]: Done   1 tasks      | elapsed:    3.1s\n",
            "[Parallel(n_jobs=-1)]: Done   4 tasks      | elapsed:    3.4s\n",
            "[Parallel(n_jobs=-1)]: Done   6 out of   8 | elapsed:    3.5s remaining:    1.2s\n",
            "[Parallel(n_jobs=-1)]: Done   8 out of   8 | elapsed:    3.6s remaining:    0.0s\n",
            "[Parallel(n_jobs=-1)]: Done   8 out of   8 | elapsed:    3.6s finished\n",
            "[Parallel(n_jobs=-1)]: Using backend LokyBackend with 2 concurrent workers.\n",
            "[Parallel(n_jobs=-1)]: Done   8 out of   8 | elapsed:    0.1s finished\n"
          ],
          "name": "stderr"
        },
        {
          "output_type": "stream",
          "text": [
            "-------------SCORING MODELS-------------\n"
          ],
          "name": "stdout"
        },
        {
          "output_type": "display_data",
          "data": {
            "image/png": "[encoded data removed]",
            "text/plain": [
              "<matplotlib.figure.Figure at 0x7fc6315eeba8>"
            ]
          },
          "metadata": {
            "tags": []
          }
        },
        {
          "output_type": "stream",
          "text": [
            "BernoulliNB(alpha=1.0, binarize=0.0, class_prior=None, fit_prior=True)\n"
          ],
          "name": "stdout"
        }
      ]
    },
    {
      "metadata": {
        "id": "poi0YS3GE86k",
        "colab_type": "code",
        "colab": {}
      },
      "cell_type": "code",
      "source": [
        "\n",
        "train=estandarizo(pd.concat([getDf('ctr_15').head(20500),getDf('ctr_16').sample(20500)],axis=0))\n",
        "test= estandarizo(getDfTest().sample(5000))\n",
        "\n",
        "\n",
        "Ytrain = train['Label'].values\n",
        "Ytest = test['Label'].values\n",
        "\n",
        "\n",
        "Xttest = vec.fit_transform(test.iloc[:,1:].to_dict(orient='records'))\n",
        "Xtrain = vec.fit_transform(train.iloc[:,1:].to_dict(orient='records'))\n",
        "\n",
        "\n",
        "\n",
        "\n",
        "\n"
      ],
      "execution_count": 0,
      "outputs": []
    },
    {
      "metadata": {
        "id": "cQzeqYWIGbla",
        "colab_type": "code",
        "colab": {
          "base_uri": "https://localhost:8080/",
          "height": 634
        },
        "outputId": "73e11c6e-124f-418b-df43-cc3d78f0caa3"
      },
      "cell_type": "code",
      "source": [
        "\n",
        "lr_grid = {\n",
        "    'C': [1e-10, 1e-9, 1e-8, 1e-7, 1e-6, 1e-5,\n",
        "             1e-4, 1e-3, 1e-2, 1e-1, 1e0,\n",
        "             1e1, 1e2, 1e3, 1e4, 1e5,\n",
        "             1e6, 1e7, 1e8, 1e9, 1e10],\n",
        "    'penalty': ['l2'],\n",
        "    'n_jobs': [-1]\n",
        "}\n",
        "lr_paramGrid = ParameterGrid(lr_grid)\n",
        "bestModel, bestScore, allModels, allScores = pf.bestFit(LogisticRegression, lr_paramGrid,Xtrain, Ytrain, Xttest, Ytest, metric = roc_auc_score, scoreLabel='AUC')\n",
        "\n",
        "print(bestModel)"
      ],
      "execution_count": 69,
      "outputs": [
        {
          "output_type": "stream",
          "text": [
            "-------------FITTING MODELS-------------\n"
          ],
          "name": "stdout"
        },
        {
          "output_type": "stream",
          "text": [
            "[Parallel(n_jobs=-1)]: Using backend LokyBackend with 2 concurrent workers.\n",
            "[Parallel(n_jobs=-1)]: Done   1 tasks      | elapsed:    1.5s\n",
            "[Parallel(n_jobs=-1)]: Done   4 tasks      | elapsed:    1.7s\n",
            "[Parallel(n_jobs=-1)]: Done   9 tasks      | elapsed:    2.7s\n",
            "[Parallel(n_jobs=-1)]: Done  14 tasks      | elapsed:    9.4s\n",
            "[Parallel(n_jobs=-1)]: Done  21 out of  21 | elapsed:   19.2s remaining:    0.0s\n",
            "[Parallel(n_jobs=-1)]: Done  21 out of  21 | elapsed:   19.2s finished\n",
            "[Parallel(n_jobs=-1)]: Using backend LokyBackend with 2 concurrent workers.\n",
            "[Parallel(n_jobs=-1)]: Done  21 out of  21 | elapsed:    0.1s finished\n"
          ],
          "name": "stderr"
        },
        {
          "output_type": "stream",
          "text": [
            "-------------SCORING MODELS-------------\n"
          ],
          "name": "stdout"
        },
        {
          "output_type": "display_data",
          "data": {
            "image/png": "[encoded data removed]",
            "text/plain": [
              "<matplotlib.figure.Figure at 0x7fc5fae74208>"
            ]
          },
          "metadata": {
            "tags": []
          }
        },
        {
          "output_type": "stream",
          "text": [
            "LogisticRegression(C=0.001, class_weight=None, dual=False, fit_intercept=True,\n",
            "          intercept_scaling=1, max_iter=100, multi_class='ovr', n_jobs=-1,\n",
            "          penalty='l2', random_state=None, solver='liblinear', tol=0.0001,\n",
            "          verbose=0, warm_start=False)\n"
          ],
          "name": "stdout"
        }
      ]
    },
    {
      "metadata": {
        "id": "h6HoV0Y3oRBc",
        "colab_type": "code",
        "colab": {}
      },
      "cell_type": "code",
      "source": [
        "####Con el feature hasher de sklearn\n",
        "#clf2 = lm.SGDClassifier(loss='log',penalty = 'l2',fit_intercept=True,n_jobs=64,warm_start=True,shuffle=True,verbose=0,tol=1e-3,l1_ratio=0.15,alpha=0.1) # shuffle=True is useless here\n",
        "###Hiperparametros sugeridos por PARFIT\n",
        "clf2 = lm.SGDClassifier(alpha=0.01, average=False, class_weight=None, epsilon=0.1,eta0=0.0, fit_intercept=True, l1_ratio=0.15,learning_rate='optimal', loss='log', max_iter=None, n_iter=1000,n_jobs=-1, penalty='l2', power_t=0.5, random_state=None,shuffle=True, tol=None, verbose=0, warm_start=False)"
      ],
      "execution_count": 0,
      "outputs": []
    },
    {
      "metadata": {
        "id": "y3GZn7g9JBKE",
        "colab_type": "code",
        "colab": {}
      },
      "cell_type": "code",
      "source": [
        "\n",
        "\n",
        "train=estandarizo(pd.concat([getDf('ctr_15'),getDf('ctr_16')],axis=0))\n",
        "test= estandarizo(getDfTest())\n",
        "\n",
        "\n",
        "Ytrain = train['Label'].values\n",
        "Ytest = test['Label'].values\n",
        "\n",
        "\n",
        "Xttest = vec.fit_transform(test.iloc[:,1:].to_dict(orient='records'))\n",
        "\n"
      ],
      "execution_count": 0,
      "outputs": []
    },
    {
      "metadata": {
        "id": "l2tjVIQPMp9k",
        "colab_type": "code",
        "colab": {}
      },
      "cell_type": "code",
      "source": [
        ""
      ],
      "execution_count": 0,
      "outputs": []
    },
    {
      "metadata": {
        "id": "oFwVmfYtofrl",
        "colab_type": "code",
        "colab": {}
      },
      "cell_type": "code",
      "source": [
        ""
      ],
      "execution_count": 0,
      "outputs": []
    },
    {
      "metadata": {
        "id": "U4BqpbrLrJIc",
        "colab_type": "code",
        "outputId": "20dcd6a8-a966-49cf-8102-23d41acb5e28",
        "colab": {
          "base_uri": "https://localhost:8080/",
          "height": 65
        }
      },
      "cell_type": "code",
      "source": [
        "display(Xttest,len(Ytest))"
      ],
      "execution_count": 45,
      "outputs": [
        {
          "output_type": "display_data",
          "data": {
            "text/plain": [
              "<1139639x500 sparse matrix of type '<class 'numpy.float64'>'\n",
              "\twith 50928193 stored elements in Compressed Sparse Row format>"
            ]
          },
          "metadata": {
            "tags": []
          }
        },
        {
          "output_type": "display_data",
          "data": {
            "text/plain": [
              "1139639"
            ]
          },
          "metadata": {
            "tags": []
          }
        }
      ]
    },
    {
      "metadata": {
        "id": "wMIArAa_59E_",
        "colab_type": "code",
        "colab": {}
      },
      "cell_type": "code",
      "source": [
        ""
      ],
      "execution_count": 0,
      "outputs": []
    },
    {
      "metadata": {
        "id": "Oi5VxCNm2Mq_",
        "colab_type": "code",
        "colab": {}
      },
      "cell_type": "code",
      "source": [
        "\n",
        "df = train\n",
        "nicial=-1\n",
        "paso=2000\n",
        "scores=[]\n",
        "\n",
        "for n in range(1,df.shape[0]-1,paso):\n",
        "  nicial=nicial+paso\n",
        "  #print(n-1,nicial)\n",
        "  X=train.iloc[n-1:nicial,1:]\n",
        "  Yt=train.iloc[n-1:nicial,:].Label\n",
        "  dictX = X[X.columns].to_dict(orient='records')\n",
        "  try:\n",
        "    Xt = vec.fit_transform(dictX)\n",
        "   \n",
        "    clf2.partial_fit(Xt,Yt,classes=np.unique(Yt));\n",
        "    ypred = clf2.predict_proba(Xttest)\n",
        "    #print(clf2.score(Xttest,Ytest))\n",
        "    scores.append([clf2.score(Xttest,Ytest),r2_score(Ytest, ypred[:, 1]),log_loss(Ytest, ypred[:, 1])] )\n",
        "  except Exception as e :\n",
        "    #pass\n",
        "    print (str(e))#print(dictX)#Y=df.iloc[n-1:nicial,:].Label\n",
        "  #clf2.partial_fit(Xt, Y, classes=np.unique(Y))\n",
        " \n",
        "  \n",
        "\n",
        "  #print (clf2.score(Xt, Y))\n",
        "\n",
        "\n",
        "\n"
      ],
      "execution_count": 0,
      "outputs": []
    },
    {
      "metadata": {
        "id": "hYV-A7wQq9nF",
        "colab_type": "code",
        "colab": {}
      },
      "cell_type": "code",
      "source": [
        "scores=pd.DataFrame(scores,columns=['accuracy','r2','logloss'])\n"
      ],
      "execution_count": 0,
      "outputs": []
    },
    {
      "metadata": {
        "id": "EeWrWWW_Zwjb",
        "colab_type": "code",
        "colab": {
          "base_uri": "https://localhost:8080/",
          "height": 291
        },
        "outputId": "594d1a13-ae62-4819-e7fb-47544e83d01b"
      },
      "cell_type": "code",
      "source": [
        "scores['indice']=scores.index\n",
        "scores.describe()"
      ],
      "execution_count": 48,
      "outputs": [
        {
          "output_type": "execute_result",
          "data": {
            "text/html": [
              "<div>\n",
              "<style scoped>\n",
              "    .dataframe tbody tr th:only-of-type {\n",
              "        vertical-align: middle;\n",
              "    }\n",
              "\n",
              "    .dataframe tbody tr th {\n",
              "        vertical-align: top;\n",
              "    }\n",
              "\n",
              "    .dataframe thead th {\n",
              "        text-align: right;\n",
              "    }\n",
              "</style>\n",
              "<table border=\"1\" class=\"dataframe\">\n",
              "  <thead>\n",
              "    <tr style=\"text-align: right;\">\n",
              "      <th></th>\n",
              "      <th>accuracy</th>\n",
              "      <th>r2</th>\n",
              "      <th>logloss</th>\n",
              "      <th>indice</th>\n",
              "    </tr>\n",
              "  </thead>\n",
              "  <tbody>\n",
              "    <tr>\n",
              "      <th>count</th>\n",
              "      <td>865.000000</td>\n",
              "      <td>865.000000</td>\n",
              "      <td>865.000000</td>\n",
              "      <td>865.000000</td>\n",
              "    </tr>\n",
              "    <tr>\n",
              "      <th>mean</th>\n",
              "      <td>0.925219</td>\n",
              "      <td>-3.773324</td>\n",
              "      <td>2.515375</td>\n",
              "      <td>432.000000</td>\n",
              "    </tr>\n",
              "    <tr>\n",
              "      <th>std</th>\n",
              "      <td>0.230628</td>\n",
              "      <td>14.715869</td>\n",
              "      <td>7.724999</td>\n",
              "      <td>249.848287</td>\n",
              "    </tr>\n",
              "    <tr>\n",
              "      <th>min</th>\n",
              "      <td>0.017662</td>\n",
              "      <td>-61.765988</td>\n",
              "      <td>0.221633</td>\n",
              "      <td>0.000000</td>\n",
              "    </tr>\n",
              "    <tr>\n",
              "      <th>25%</th>\n",
              "      <td>0.984104</td>\n",
              "      <td>-0.016147</td>\n",
              "      <td>0.544997</td>\n",
              "      <td>216.000000</td>\n",
              "    </tr>\n",
              "    <tr>\n",
              "      <th>50%</th>\n",
              "      <td>0.984104</td>\n",
              "      <td>-0.016140</td>\n",
              "      <td>0.545906</td>\n",
              "      <td>432.000000</td>\n",
              "    </tr>\n",
              "    <tr>\n",
              "      <th>75%</th>\n",
              "      <td>0.984104</td>\n",
              "      <td>-0.016134</td>\n",
              "      <td>0.547275</td>\n",
              "      <td>648.000000</td>\n",
              "    </tr>\n",
              "    <tr>\n",
              "      <th>max</th>\n",
              "      <td>0.984104</td>\n",
              "      <td>-0.014331</td>\n",
              "      <td>33.662089</td>\n",
              "      <td>864.000000</td>\n",
              "    </tr>\n",
              "  </tbody>\n",
              "</table>\n",
              "</div>"
            ],
            "text/plain": [
              "         accuracy          r2     logloss      indice\n",
              "count  865.000000  865.000000  865.000000  865.000000\n",
              "mean     0.925219   -3.773324    2.515375  432.000000\n",
              "std      0.230628   14.715869    7.724999  249.848287\n",
              "min      0.017662  -61.765988    0.221633    0.000000\n",
              "25%      0.984104   -0.016147    0.544997  216.000000\n",
              "50%      0.984104   -0.016140    0.545906  432.000000\n",
              "75%      0.984104   -0.016134    0.547275  648.000000\n",
              "max      0.984104   -0.014331   33.662089  864.000000"
            ]
          },
          "metadata": {
            "tags": []
          },
          "execution_count": 48
        }
      ]
    },
    {
      "metadata": {
        "id": "IOF3aRMdy0SI",
        "colab_type": "code",
        "colab": {
          "base_uri": "https://localhost:8080/",
          "height": 361
        },
        "outputId": "65fe3206-c8a3-4506-ca15-6f7e39abc6c9"
      },
      "cell_type": "code",
      "source": [
        "ax1 = scores.plot.scatter(y='logloss',x='indice',c='DarkBlue')"
      ],
      "execution_count": 49,
      "outputs": [
        {
          "output_type": "display_data",
          "data": {
            "image/png": "[encoded data removed]",
            "text/plain": [
              "<matplotlib.figure.Figure at 0x7fc624b2d588>"
            ]
          },
          "metadata": {
            "tags": []
          }
        }
      ]
    },
    {
      "metadata": {
        "id": "MP9Hs2VfG92J",
        "colab_type": "code",
        "colab": {
          "base_uri": "https://localhost:8080/",
          "height": 359
        },
        "outputId": "27f9cc11-5048-4cfa-8dc7-16f3b7624d07"
      },
      "cell_type": "code",
      "source": [
        "ax1 = scores.plot.scatter(y='r2',x='indice',c='green')"
      ],
      "execution_count": 50,
      "outputs": [
        {
          "output_type": "display_data",
          "data": {
            "image/png": "[encoded data removed]",
            "text/plain": [
              "<matplotlib.figure.Figure at 0x7fc6468a75c0>"
            ]
          },
          "metadata": {
            "tags": []
          }
        }
      ]
    },
    {
      "metadata": {
        "id": "WYWdlXMZy0Uv",
        "colab_type": "code",
        "colab": {
          "base_uri": "https://localhost:8080/",
          "height": 359
        },
        "outputId": "9d5504e0-4c4f-4975-f1ae-ba722ee88239"
      },
      "cell_type": "code",
      "source": [
        "ax1 = scores.plot.scatter(y='accuracy',x='indice',c='green')"
      ],
      "execution_count": 51,
      "outputs": [
        {
          "output_type": "display_data",
          "data": {
            "image/png": "[encoded data removed]",
            "text/plain": [
              "<matplotlib.figure.Figure at 0x7fc6501e6128>"
            ]
          },
          "metadata": {
            "tags": []
          }
        }
      ]
    },
    {
      "metadata": {
        "id": "epvO7RE1y0ab",
        "colab_type": "code",
        "colab": {}
      },
      "cell_type": "code",
      "source": [
        ""
      ],
      "execution_count": 0,
      "outputs": []
    },
    {
      "metadata": {
        "id": "LwdB83-Yy0dR",
        "colab_type": "code",
        "colab": {}
      },
      "cell_type": "code",
      "source": [
        ""
      ],
      "execution_count": 0,
      "outputs": []
    },
    {
      "metadata": {
        "id": "9220mwGGy0h_",
        "colab_type": "code",
        "colab": {}
      },
      "cell_type": "code",
      "source": [
        "clf=BernoulliNB(alpha=1.0, binarize=0.0, class_prior=None, fit_prior=True)"
      ],
      "execution_count": 0,
      "outputs": []
    },
    {
      "metadata": {
        "id": "5W-kJ8KTAfhD",
        "colab_type": "code",
        "colab": {}
      },
      "cell_type": "code",
      "source": [
        "train=estandarizo(pd.concat([getDf('ctr_15'),getDf('ctr_16')],axis=0))\n",
        "test= estandarizo(getDfTest())\n",
        "\n",
        "\n",
        "Ytrain = train['Label'].values\n",
        "Ytest = test['Label'].values\n",
        "\n",
        "\n",
        "Xttest = vec.fit_transform(test.iloc[:,1:].to_dict(orient='records'))\n",
        "\n",
        "\n"
      ],
      "execution_count": 0,
      "outputs": []
    },
    {
      "metadata": {
        "id": "sKPozd7my0kr",
        "colab_type": "code",
        "colab": {}
      },
      "cell_type": "code",
      "source": [
        "\n",
        "df = train\n",
        "nicial=-1\n",
        "paso=1000\n",
        "scores=[]\n",
        "\n",
        "for n in range(1,df.shape[0]-1,paso):\n",
        "  nicial=nicial+paso\n",
        "  #print(n-1,nicial)\n",
        "  X=train.iloc[n-1:nicial,1:]\n",
        "  Yt=train.iloc[n-1:nicial,:].Label\n",
        "  dictX = X[X.columns].to_dict(orient='records')\n",
        "  try:\n",
        "    Xt = vec.fit_transform(dictX)\n",
        "   \n",
        "    clf.partial_fit(Xt,Yt,classes=np.unique(Yt));\n",
        "    ypred = clf.predict_proba(Xttest)\n",
        "    #print(clf2.score(Xttest,Ytest))\n",
        "    scores.append([clf.score(Xttest,Ytest),r2_score(Ytest, ypred[:, 1]),log_loss(Ytest, ypred[:, 1])] )\n",
        "  except Exception as e :\n",
        "    #pass\n",
        "    print (str(e))#print(dictX)#Y=df.iloc[n-1:nicial,:].Label\n",
        "  #clf2.partial_fit(Xt, Y, classes=np.unique(Y))\n",
        "\n",
        "  \n",
        "  \n",
        "  \n",
        "  "
      ],
      "execution_count": 0,
      "outputs": []
    },
    {
      "metadata": {
        "id": "qcF6eRfVy0pZ",
        "colab_type": "code",
        "colab": {}
      },
      "cell_type": "code",
      "source": [
        "scoresNB=pd.DataFrame(scores,columns=['accuracy','r2','logloss'])\n",
        "scoresNB['indices']=scoresNB.index\n"
      ],
      "execution_count": 0,
      "outputs": []
    },
    {
      "metadata": {
        "id": "VyjQUHYXy0sD",
        "colab_type": "code",
        "colab": {
          "base_uri": "https://localhost:8080/",
          "height": 291
        },
        "outputId": "ad4daf53-a5ff-41f4-d528-fa98c3c28369"
      },
      "cell_type": "code",
      "source": [
        "scoresNB.describe()"
      ],
      "execution_count": 64,
      "outputs": [
        {
          "output_type": "execute_result",
          "data": {
            "text/html": [
              "<div>\n",
              "<style scoped>\n",
              "    .dataframe tbody tr th:only-of-type {\n",
              "        vertical-align: middle;\n",
              "    }\n",
              "\n",
              "    .dataframe tbody tr th {\n",
              "        vertical-align: top;\n",
              "    }\n",
              "\n",
              "    .dataframe thead th {\n",
              "        text-align: right;\n",
              "    }\n",
              "</style>\n",
              "<table border=\"1\" class=\"dataframe\">\n",
              "  <thead>\n",
              "    <tr style=\"text-align: right;\">\n",
              "      <th></th>\n",
              "      <th>accuracy</th>\n",
              "      <th>r2</th>\n",
              "      <th>logloss</th>\n",
              "      <th>indices</th>\n",
              "    </tr>\n",
              "  </thead>\n",
              "  <tbody>\n",
              "    <tr>\n",
              "      <th>count</th>\n",
              "      <td>108.000000</td>\n",
              "      <td>108.000000</td>\n",
              "      <td>108.000000</td>\n",
              "      <td>108.00000</td>\n",
              "    </tr>\n",
              "    <tr>\n",
              "      <th>mean</th>\n",
              "      <td>0.815464</td>\n",
              "      <td>-7.976226</td>\n",
              "      <td>0.482833</td>\n",
              "      <td>53.50000</td>\n",
              "    </tr>\n",
              "    <tr>\n",
              "      <th>std</th>\n",
              "      <td>0.013966</td>\n",
              "      <td>0.700042</td>\n",
              "      <td>0.038526</td>\n",
              "      <td>31.32092</td>\n",
              "    </tr>\n",
              "    <tr>\n",
              "      <th>min</th>\n",
              "      <td>0.787481</td>\n",
              "      <td>-9.356322</td>\n",
              "      <td>0.410358</td>\n",
              "      <td>0.00000</td>\n",
              "    </tr>\n",
              "    <tr>\n",
              "      <th>25%</th>\n",
              "      <td>0.804074</td>\n",
              "      <td>-8.533484</td>\n",
              "      <td>0.454928</td>\n",
              "      <td>26.75000</td>\n",
              "    </tr>\n",
              "    <tr>\n",
              "      <th>50%</th>\n",
              "      <td>0.814775</td>\n",
              "      <td>-8.075433</td>\n",
              "      <td>0.487253</td>\n",
              "      <td>53.50000</td>\n",
              "    </tr>\n",
              "    <tr>\n",
              "      <th>75%</th>\n",
              "      <td>0.826764</td>\n",
              "      <td>-7.446112</td>\n",
              "      <td>0.516523</td>\n",
              "      <td>80.25000</td>\n",
              "    </tr>\n",
              "    <tr>\n",
              "      <th>max</th>\n",
              "      <td>0.840700</td>\n",
              "      <td>-6.650600</td>\n",
              "      <td>0.563580</td>\n",
              "      <td>107.00000</td>\n",
              "    </tr>\n",
              "  </tbody>\n",
              "</table>\n",
              "</div>"
            ],
            "text/plain": [
              "         accuracy          r2     logloss    indices\n",
              "count  108.000000  108.000000  108.000000  108.00000\n",
              "mean     0.815464   -7.976226    0.482833   53.50000\n",
              "std      0.013966    0.700042    0.038526   31.32092\n",
              "min      0.787481   -9.356322    0.410358    0.00000\n",
              "25%      0.804074   -8.533484    0.454928   26.75000\n",
              "50%      0.814775   -8.075433    0.487253   53.50000\n",
              "75%      0.826764   -7.446112    0.516523   80.25000\n",
              "max      0.840700   -6.650600    0.563580  107.00000"
            ]
          },
          "metadata": {
            "tags": []
          },
          "execution_count": 64
        }
      ]
    },
    {
      "metadata": {
        "id": "0u74K0muy0w1",
        "colab_type": "code",
        "colab": {
          "base_uri": "https://localhost:8080/",
          "height": 359
        },
        "outputId": "280a3230-5229-4e11-bd87-83a026a327fb"
      },
      "cell_type": "code",
      "source": [
        "ax1 = scoresNB.plot.scatter(y='accuracy',x='indices',c='green')"
      ],
      "execution_count": 65,
      "outputs": [
        {
          "output_type": "display_data",
          "data": {
            "image/png": "[encoded data removed]",
            "text/plain": [
              "<matplotlib.figure.Figure at 0x7fc61c479f98>"
            ]
          },
          "metadata": {
            "tags": []
          }
        }
      ]
    },
    {
      "metadata": {
        "id": "kaMhCkeLy0zd",
        "colab_type": "code",
        "colab": {
          "base_uri": "https://localhost:8080/",
          "height": 359
        },
        "outputId": "a69eb453-5cfc-47e2-cb8f-8e3f77284f57"
      },
      "cell_type": "code",
      "source": [
        "ax1 = scoresNB.plot.scatter(y='r2',x='indices',c='green')"
      ],
      "execution_count": 66,
      "outputs": [
        {
          "output_type": "display_data",
          "data": {
            "image/png": "[encoded data removed]",
            "text/plain": [
              "<matplotlib.figure.Figure at 0x7fc64861add8>"
            ]
          },
          "metadata": {
            "tags": []
          }
        }
      ]
    },
    {
      "metadata": {
        "id": "Aoincqniy065",
        "colab_type": "code",
        "colab": {
          "base_uri": "https://localhost:8080/",
          "height": 359
        },
        "outputId": "efbac644-bfcf-4c00-ef13-256a17464e66"
      },
      "cell_type": "code",
      "source": [
        "ax1 = scoresNB.plot.scatter(y='logloss',x='indices',c='green')"
      ],
      "execution_count": 67,
      "outputs": [
        {
          "output_type": "display_data",
          "data": {
            "image/png": "[encoded data removed]",
            "text/plain": [
              "<matplotlib.figure.Figure at 0x7fc633eed0f0>"
            ]
          },
          "metadata": {
            "tags": []
          }
        }
      ]
    },
    {
      "metadata": {
        "id": "P1uUWoWfy04q",
        "colab_type": "code",
        "colab": {}
      },
      "cell_type": "code",
      "source": [
        ""
      ],
      "execution_count": 0,
      "outputs": []
    },
    {
      "metadata": {
        "id": "UnkjPvHTHD88",
        "colab_type": "code",
        "colab": {}
      },
      "cell_type": "code",
      "source": [
        "train=estandarizo(pd.concat([getDf('ctr_15'),getDf('ctr_16')],axis=0))\n",
        "test= estandarizo(getDfTest())\n",
        "\n",
        "\n",
        "Ytrain = train['Label'].values\n",
        "Ytest = test['Label'].values\n",
        "\n",
        "\n",
        "Xttest = vec.fit_transform(test.iloc[:,1:].to_dict(orient='records'))\n",
        "Xtrain = vec.fit_transform(train.iloc[:,1:].to_dict(orient='records'))\n",
        "\n",
        "\n",
        "\n"
      ],
      "execution_count": 0,
      "outputs": []
    },
    {
      "metadata": {
        "id": "1JW4b8MRHEHj",
        "colab_type": "code",
        "colab": {}
      },
      "cell_type": "code",
      "source": [
        "lr = LogisticRegression(C=0.001, class_weight=None, dual=False, fit_intercept=True,\n",
        "          intercept_scaling=1, max_iter=100, multi_class='ovr', n_jobs=-1,\n",
        "          penalty='l2', random_state=None, solver='liblinear', tol=0.0001,\n",
        "          verbose=0, warm_start=False).fit(Xtrain, Ytrain)\n",
        "yPred = lr.predict(Xttest)"
      ],
      "execution_count": 0,
      "outputs": []
    },
    {
      "metadata": {
        "id": "NnrI1cgwHEUI",
        "colab_type": "code",
        "colab": {
          "base_uri": "https://localhost:8080/",
          "height": 32
        },
        "outputId": "3a3c0806-7c86-4c69-e033-369f7d4be821"
      },
      "cell_type": "code",
      "source": [
        "clf.score(Xttest, Ytest)"
      ],
      "execution_count": 77,
      "outputs": [
        {
          "output_type": "execute_result",
          "data": {
            "text/plain": [
              "0.8008869475333855"
            ]
          },
          "metadata": {
            "tags": []
          },
          "execution_count": 77
        }
      ]
    },
    {
      "metadata": {
        "id": "M5Zib-1jHEQh",
        "colab_type": "code",
        "colab": {
          "base_uri": "https://localhost:8080/",
          "height": 32
        },
        "outputId": "73307a86-096a-4e6e-c1ea-483ba072ac55"
      },
      "cell_type": "code",
      "source": [
        "from sklearn.metrics import confusion_matrix\n",
        "confusion_matrix(Ytest, yPred)"
      ],
      "execution_count": 79,
      "outputs": [
        {
          "output_type": "execute_result",
          "data": {
            "text/plain": [
              "2"
            ]
          },
          "metadata": {
            "tags": []
          },
          "execution_count": 79
        }
      ]
    },
    {
      "metadata": {
        "id": "w5Un2QIlHEMv",
        "colab_type": "code",
        "colab": {
          "base_uri": "https://localhost:8080/",
          "height": 164
        },
        "outputId": "cdcea064-021a-4b69-e21e-f6789da0b531"
      },
      "cell_type": "code",
      "source": [
        "lr.predict_proba(Xttest)"
      ],
      "execution_count": 86,
      "outputs": [
        {
          "output_type": "stream",
          "text": [
            "/usr/local/lib/python3.6/dist-packages/sklearn/linear_model/base.py:340: RuntimeWarning: overflow encountered in exp\n",
            "  np.exp(prob, prob)\n"
          ],
          "name": "stderr"
        },
        {
          "output_type": "execute_result",
          "data": {
            "text/plain": [
              "array([[0.97649413, 0.02350587],\n",
              "       [0.97630454, 0.02369546],\n",
              "       [0.98578341, 0.01421659],\n",
              "       ...,\n",
              "       [1.        , 0.        ],\n",
              "       [1.        , 0.        ],\n",
              "       [1.        , 0.        ]])"
            ]
          },
          "metadata": {
            "tags": []
          },
          "execution_count": 86
        }
      ]
    },
    {
      "metadata": {
        "id": "824cxF96y02U",
        "colab_type": "code",
        "colab": {}
      },
      "cell_type": "code",
      "source": [
        "###Grabo Modelo entrenado con 16 y 17."
      ],
      "execution_count": 0,
      "outputs": []
    },
    {
      "metadata": {
        "id": "E0YDKDE6y0u0",
        "colab_type": "code",
        "colab": {}
      },
      "cell_type": "code",
      "source": [
        "# Upload the file to Drive. See:\n",
        "#\n",
        "# https://developers.google.com/drive/v3/reference/files/create\n",
        "# https://developers.google.com/drive/v3/web/manage-uploads\n",
        "from googleapiclient.http import MediaFileUpload\n",
        "from sklearn.externals import joblib\n",
        "joblib.dump(clf, '/tmp/BernoulliNB.joblib') \n",
        "\n",
        "\n",
        "media = MediaFileUpload('/tmp/BernoulliNB.joblib', \n",
        "                        #mimetype='text/plain',\n",
        "                        resumable=True)\n",
        "created = drive_service.files().create(body=file_metadata,\n",
        "                                       media_body=media,\n",
        "                                       fields='id').execute()\n"
      ],
      "execution_count": 0,
      "outputs": []
    },
    {
      "metadata": {
        "id": "We2naWCUy0n0",
        "colab_type": "code",
        "colab": {
          "base_uri": "https://localhost:8080/",
          "height": 33
        },
        "outputId": "2edb824d-e57d-4a31-f69f-c9f126723e63"
      },
      "cell_type": "code",
      "source": [
        "from sklearn.externals import joblib\n",
        "joblib.dump(clf2, 'SGD.joblib') \n",
        "\n",
        "\n",
        "\n",
        "\n",
        "\n",
        "# Create a local file to upload.\n",
        "with open('/tmp/to_upload.txt', 'w') as f:\n",
        "  f.write('my sample file')\n",
        "\n",
        "print('/tmp/to_upload.txt contains:')\n",
        "!cat /tmp/to_upload.txt\n"
      ],
      "execution_count": 26,
      "outputs": [
        {
          "output_type": "execute_result",
          "data": {
            "text/plain": [
              "['SGD.joblib']"
            ]
          },
          "metadata": {
            "tags": []
          },
          "execution_count": 26
        }
      ]
    },
    {
      "metadata": {
        "id": "P62dXvd8y0f9",
        "colab_type": "code",
        "colab": {}
      },
      "cell_type": "code",
      "source": [
        ""
      ],
      "execution_count": 0,
      "outputs": []
    },
    {
      "metadata": {
        "id": "g9jCHbcKacyg",
        "colab_type": "code",
        "colab": {}
      },
      "cell_type": "code",
      "source": [
        ""
      ],
      "execution_count": 0,
      "outputs": []
    },
    {
      "metadata": {
        "id": "PJtfaypOac8h",
        "colab_type": "code",
        "colab": {}
      },
      "cell_type": "code",
      "source": [
        ""
      ],
      "execution_count": 0,
      "outputs": []
    },
    {
      "metadata": {
        "id": "R_uIrDPKadGi",
        "colab_type": "code",
        "colab": {}
      },
      "cell_type": "code",
      "source": [
        ""
      ],
      "execution_count": 0,
      "outputs": []
    },
    {
      "metadata": {
        "id": "W5YNYpFZadJe",
        "colab_type": "code",
        "colab": {}
      },
      "cell_type": "code",
      "source": [
        ""
      ],
      "execution_count": 0,
      "outputs": []
    },
    {
      "metadata": {
        "id": "-eg95z3kadPj",
        "colab_type": "code",
        "colab": {}
      },
      "cell_type": "code",
      "source": [
        ""
      ],
      "execution_count": 0,
      "outputs": []
    },
    {
      "metadata": {
        "id": "iSFGiitWadSn",
        "colab_type": "code",
        "colab": {}
      },
      "cell_type": "code",
      "source": [
        ""
      ],
      "execution_count": 0,
      "outputs": []
    },
    {
      "metadata": {
        "id": "31odx8b4adEf",
        "colab_type": "code",
        "colab": {}
      },
      "cell_type": "code",
      "source": [
        ""
      ],
      "execution_count": 0,
      "outputs": []
    },
    {
      "metadata": {
        "id": "0x3lq3oSadCC",
        "colab_type": "code",
        "colab": {}
      },
      "cell_type": "code",
      "source": [
        ""
      ],
      "execution_count": 0,
      "outputs": []
    },
    {
      "metadata": {
        "id": "aHM1RB3eac_i",
        "colab_type": "code",
        "colab": {}
      },
      "cell_type": "code",
      "source": [
        ""
      ],
      "execution_count": 0,
      "outputs": []
    },
    {
      "metadata": {
        "id": "3dQD5-z7fKMU",
        "colab_type": "code",
        "colab": {}
      },
      "cell_type": "code",
      "source": [
        ""
      ],
      "execution_count": 0,
      "outputs": []
    },
    {
      "metadata": {
        "id": "BzadvJYZaI9K",
        "colab_type": "code",
        "colab": {}
      },
      "cell_type": "code",
      "source": [
        "y_train=getDfFeatures(train)\n",
        "x_train=getDfLabels(train)"
      ],
      "execution_count": 0,
      "outputs": []
    },
    {
      "metadata": {
        "id": "9a7MO0R2QbX-",
        "colab_type": "code",
        "colab": {}
      },
      "cell_type": "code",
      "source": [
        "##Listamos las columnas por tipo\n",
        "#g = df.columns.to_series().groupby(df.dtypes).groups\n",
        "\n",
        "    "
      ],
      "execution_count": 0,
      "outputs": []
    },
    {
      "metadata": {
        "id": "g2tZ1mvzMzA8",
        "colab_type": "code",
        "colab": {}
      },
      "cell_type": "code",
      "source": [
        "from sklearn.base import BaseEstimator, TransformerMixin\n",
        "from sklearn.preprocessing import MinMaxScaler,StandardScaler\n",
        "\n",
        "class MyScaler(BaseEstimator, TransformerMixin):\n",
        "  def __init__(self, cols):\n",
        "    self.cols = cols\n",
        "\n",
        "  def fit(self, X, y=None):\n",
        "    #self.scaler = MinMaxScaler()\n",
        "    self.scaler = StandardScaler()\n",
        "    self.scaler.fit(X[self.cols])\n",
        "    return self\n",
        "\n",
        "  def transform(self, X):\n",
        "    return self.scaler.transform(X[self.cols])"
      ],
      "execution_count": 0,
      "outputs": []
    },
    {
      "metadata": {
        "id": "BDWw8S43SgAW",
        "colab_type": "code",
        "colab": {}
      },
      "cell_type": "code",
      "source": [
        ""
      ],
      "execution_count": 0,
      "outputs": []
    },
    {
      "metadata": {
        "id": "niJSKUksNRr7",
        "colab_type": "code",
        "colab": {}
      },
      "cell_type": "code",
      "source": [
        "from sklearn.feature_extraction import FeatureHasher\n",
        "from sklearn.feature_extraction.text import HashingVectorizer\n",
        "\n",
        "class MyVectorizer(BaseEstimator, TransformerMixin):\n",
        "  \n",
        "  def __init__(self, cols, hashing=None):\n",
        "    \"\"\"\n",
        "    args:\n",
        "    cols: a list of column names of the categorical variables\n",
        "    hashing: \n",
        "    If None, then vectorization is a simple one-hot-encoding.\n",
        "    If an integer, then hashing is the number of features in the output.\n",
        "        \"\"\"\n",
        "    self.cols = cols\n",
        "    self.hashing = hashing\n",
        "\n",
        "  def fit(self, X, y=None):\n",
        "\n",
        "    data = X[self.cols]\n",
        "\n",
        "    # Choose a vectorizer\n",
        "    if self.hashing is None:\n",
        "        self.myvec = HashingVectorizer()\n",
        "    else:\n",
        "        #self.myvec = FeatureHasher(n_features = self.hashing)\n",
        "        self.myvec = FeatureHasher(n_features = self.hashing, non_negative=True)\n",
        "\n",
        "    self.myvec.fit(X[self.cols].to_dict(orient='records'))\n",
        "    return self\n",
        "\n",
        "  def transform(self, X):\n",
        "\n",
        "    # Vectorize Input\n",
        "    if self.hashing is None:\n",
        "        return pd.DataFrame(\n",
        "            self.myvec.transform(X[self.cols].to_dict(orient='records')),\n",
        "            columns = self.myvec.feature_names_\n",
        "        )\n",
        "    else:\n",
        "        return pd.DataFrame(\n",
        "            self.myvec.transform(X[self.cols].to_dict(orient='records')).toarray()\n",
        "        )"
      ],
      "execution_count": 0,
      "outputs": []
    },
    {
      "metadata": {
        "id": "kH7Mz_0aOg8Z",
        "colab_type": "code",
        "colab": {}
      },
      "cell_type": "code",
      "source": [
        "search_params = {\n",
        "    'preprocess__vectorize__hashing': [20, 40, 80],\n",
        "    'predict__alpha': [.01, .1, 1, 2, 10]\n",
        "}"
      ],
      "execution_count": 0,
      "outputs": []
    },
    {
      "metadata": {
        "id": "XlvdQf6bX3AE",
        "colab_type": "code",
        "colab": {}
      },
      "cell_type": "code",
      "source": [
        "numeric_predictors=['auction_age', 'auction_bidfloor']"
      ],
      "execution_count": 0,
      "outputs": []
    },
    {
      "metadata": {
        "id": "kTv4e8FaYBDQ",
        "colab_type": "code",
        "colab": {}
      },
      "cell_type": "code",
      "source": [
        "categorical_predictors=['action_categorical_0', 'action_categorical_1', 'action_categorical_2',\n",
        "        'action_categorical_3', 'action_categorical_4', 'action_categorical_5',\n",
        "        'action_categorical_6', 'action_categorical_7', 'action_list_0',\n",
        "        'action_list_1', 'action_list_2', 'auction_boolean_0',\n",
        "        'auction_boolean_1', 'auction_boolean_2', 'auction_categorical_0',\n",
        "        'auction_categorical_1', 'auction_categorical_10',\n",
        "        'auction_categorical_11', 'auction_categorical_12',\n",
        "        'auction_categorical_2', 'auction_categorical_3',\n",
        "        'auction_categorical_4', 'auction_categorical_5',\n",
        "        'auction_categorical_6', 'auction_categorical_7',\n",
        "        'auction_categorical_8', 'auction_categorical_9', 'auction_list_0',\n",
        "        'creative_categorical_0', 'creative_categorical_1',\n",
        "        'creative_categorical_10', 'creative_categorical_11',\n",
        "        'creative_categorical_12', 'creative_categorical_2',\n",
        "        'creative_categorical_3', 'creative_categorical_4',\n",
        "        'creative_categorical_5', 'creative_categorical_6',\n",
        "        'creative_categorical_7', 'creative_categorical_8',\n",
        "        'creative_categorical_9', 'device_id_type', 'gender','creative_height']"
      ],
      "execution_count": 0,
      "outputs": []
    },
    {
      "metadata": {
        "id": "8WvHwHwidMh_",
        "colab_type": "code",
        "colab": {}
      },
      "cell_type": "code",
      "source": [
        "otros = ['auction_time','creative_height','timezone_offset', 'creative_width']"
      ],
      "execution_count": 0,
      "outputs": []
    },
    {
      "metadata": {
        "id": "hunx8O1ic7d4",
        "colab_type": "code",
        "colab": {}
      },
      "cell_type": "code",
      "source": [
        "#!pip install scikit-learn==0.20.0\n",
        "!pip install utils\n",
        " "
      ],
      "execution_count": 0,
      "outputs": []
    },
    {
      "metadata": {
        "id": "bBdFbbsvPZcG",
        "colab_type": "code",
        "colab": {}
      },
      "cell_type": "code",
      "source": [
        "import operator\n",
        "from functools import reduce\n",
        "from itertools import product as iproduct\n",
        "from collections import Counter\n",
        "from sklearn.feature_extraction import DictVectorizer\n",
        "from sklearn.linear_model import LogisticRegression\n",
        "from sklearn.linear_model import SGDClassifier\n",
        "\n",
        "\n",
        "def product(iterable, start=1):\n",
        "    return reduce(operator.mul, iterable, start)\n",
        "\n",
        "\n",
        "class PolyDictVectorizer(DictVectorizer):\n",
        "\n",
        "    def __init__(self, degree=2, sparse=True, num_types=[float]):\n",
        "        self.degree = degree\n",
        "        self.num_types = num_types\n",
        "        super().__init__(sparse=sparse)\n",
        "\n",
        "    def fit(self, X, y=None):\n",
        "        ###agregado por mi para transformar el df a diccionario.\n",
        "        X = X.to_dict(orient='records')\n",
        "        return super().fit(map(self._encode, X), y)\n",
        "\n",
        "    def _transform(self, X, fitting):\n",
        "        return super()._transform(map(self._encode, X), fitting)\n",
        "\n",
        "    def _encode(self, dic):\n",
        "        dic = {k if type(v) in self.num_types else f'{k}={v}':\n",
        "               float(v) if type(v) in self.num_types else 1\n",
        "               for k, v in dic.items()}\n",
        "        dic_keys = list(dic.keys())\n",
        "        for deg in range(2, self.degree + 1):\n",
        "            for term_keys in iproduct(dic_keys, repeat=deg):\n",
        "                term_names, term_facts = [], []\n",
        "                for k, n in Counter(term_keys).items():\n",
        "                    v = dic[k]\n",
        "                    if type(v) is int and n > 1:\n",
        "                        break\n",
        "                    term_names.append(k if n == 1 else f'{k}^{n}')\n",
        "                    term_facts.append(v**n)\n",
        "                else:  # No dummy feature was included more than once\n",
        "                    dic['*'.join(sorted(term_names))] = product(term_facts)\n",
        "        return dic\n",
        "\n"
      ],
      "execution_count": 0,
      "outputs": []
    },
    {
      "metadata": {
        "id": "_LWCPIgnOhfA",
        "colab_type": "code",
        "colab": {}
      },
      "cell_type": "code",
      "source": [
        "from sklearn.pipeline import Pipeline\n",
        "from sklearn.pipeline import FeatureUnion\n",
        "from sklearn.linear_model import SGDClassifier\n",
        "from sklearn.preprocessing import Imputer\n",
        "\n",
        "pipeline = Pipeline([\n",
        "    ('preprocess', FeatureUnion([\n",
        "        #('imp', Imputer(strategy='most_frequent', axis=0)),\n",
        "        #('scale', MyScaler(cols=numeric_predictors)),\n",
        "        #('vectorize', MyVectorizer(cols=categorical_predictors, hashing=5))\n",
        "        ('poly',PolyDictVectorizer())\n",
        "    ])),\n",
        "    ('predict', SGDClassifier())\n",
        "])"
      ],
      "execution_count": 0,
      "outputs": []
    },
    {
      "metadata": {
        "id": "mMcGNSBcacym",
        "colab_type": "code",
        "colab": {}
      },
      "cell_type": "code",
      "source": [
        ""
      ],
      "execution_count": 0,
      "outputs": []
    },
    {
      "metadata": {
        "id": "fefzgaGAasIz",
        "colab_type": "code",
        "colab": {}
      },
      "cell_type": "code",
      "source": [
        "x = pipeline.fit(y_train)"
      ],
      "execution_count": 0,
      "outputs": []
    },
    {
      "metadata": {
        "id": "73ZRQu4xOml6",
        "colab_type": "code",
        "colab": {}
      },
      "cell_type": "code",
      "source": [
        "from sklearn.model_selection import GridSearchCV\n",
        "grid_search = GridSearchCV(pipeline, search_params)\n",
        "grid_search.fit(x_train,y_train)"
      ],
      "execution_count": 0,
      "outputs": []
    },
    {
      "metadata": {
        "id": "rbonoQylt-hN",
        "colab_type": "code",
        "colab": {}
      },
      "cell_type": "code",
      "source": [
        ""
      ],
      "execution_count": 0,
      "outputs": []
    },
    {
      "metadata": {
        "id": "yAsNh_0UMxly",
        "colab_type": "text"
      },
      "cell_type": "markdown",
      "source": [
        ""
      ]
    },
    {
      "metadata": {
        "id": "HyuJDnwQMrmb",
        "colab_type": "code",
        "colab": {}
      },
      "cell_type": "code",
      "source": [
        ""
      ],
      "execution_count": 0,
      "outputs": []
    },
    {
      "metadata": {
        "id": "pqlZ4A_QNJ9B",
        "colab_type": "code",
        "colab": {}
      },
      "cell_type": "code",
      "source": [
        "SGDClassifier()\n",
        "import numpy as np\n",
        "# SGD mini-batch\n",
        "# Get num training samples\n",
        "df_train=df\n",
        "N_train = len(df_train)\n",
        "num_passes = 50\n",
        "output='Label'\n",
        "batch_size = N_train\n",
        "model = sklearn.linear_model.SGDClassifier(loss= 'log', alpha = 1, tol = 0.00001, shuffle = False, random_state = 0)\n",
        "# Set 80% of data to belong to training set; reserve the rest for validation set\n",
        "train_indices = list(range(int(0.8*N_train)))\n",
        "valid_indices = list(range(int(0.8*N_train), N_train))\n",
        "\n",
        "sgd_minibatch_scores = []\n",
        "for i in range(num_passes):\n",
        "    np.random.shuffle(train_indices)\n",
        "    for j in range(int(len(train_indices)/batch_size + 1)):\n",
        "\n",
        "        if j == int(len(train_indices)/batch_size+1):\n",
        "            batch_train_indices = train_indices[j*batch_size:]\n",
        "        else:\n",
        "            batch_train_indices = train_indices[j*batch_size:(j+1)*batch_size]\n",
        "\n",
        "        model.partial_fit(df_train.iloc[batch_train_indices], df_train[output].iloc[batch_train_indices], classes = [0,1],)\n",
        "\n",
        "    sgd_minibatch_scores.append(model.score(df_train.iloc[valid_indices], df_train[output].iloc[valid_indices]))\n"
      ],
      "execution_count": 0,
      "outputs": []
    },
    {
      "metadata": {
        "id": "h_CoVwUujNJd",
        "colab_type": "code",
        "colab": {}
      },
      "cell_type": "code",
      "source": [
        "vec = PolyDictVectorizer()\n",
        "\n",
        "for i in range(0,len(df),1000):\n",
        "  limiteSup = i + 1000\n",
        "  dfChunk = df.iloc[i:limiteSup]\n",
        "  features =getDfFeatures(dfChunk)\n",
        "  labels = getDfLabels(dfChunk)\n",
        "  dictFeat=features.to_dict(orient='records')\n",
        "   vec.fit(dictFeat)\n",
        "  "
      ],
      "execution_count": 0,
      "outputs": []
    },
    {
      "metadata": {
        "id": "hpXGibxcOLOr",
        "colab_type": "code",
        "colab": {}
      },
      "cell_type": "code",
      "source": [
        ""
      ],
      "execution_count": 0,
      "outputs": []
    },
    {
      "metadata": {
        "id": "t8xN0Qv0PIeh",
        "colab_type": "code",
        "colab": {}
      },
      "cell_type": "code",
      "source": [
        ""
      ],
      "execution_count": 0,
      "outputs": []
    },
    {
      "metadata": {
        "id": "VMjf5WAaP4EY",
        "colab_type": "code",
        "colab": {}
      },
      "cell_type": "code",
      "source": [
        "###NO FUNCIONA.\n"
      ],
      "execution_count": 0,
      "outputs": []
    },
    {
      "metadata": {
        "id": "cRalBexpRtDr",
        "colab_type": "code",
        "colab": {}
      },
      "cell_type": "code",
      "source": [
        "vec"
      ],
      "execution_count": 0,
      "outputs": []
    },
    {
      "metadata": {
        "id": "MIC38NHFQR6j",
        "colab_type": "code",
        "colab": {}
      },
      "cell_type": "code",
      "source": [
        ""
      ],
      "execution_count": 0,
      "outputs": []
    },
    {
      "metadata": {
        "id": "6TnfqDsIIWjz",
        "colab_type": "code",
        "colab": {}
      },
      "cell_type": "code",
      "source": [
        "dfFull  =  pd.concat([pd.read_csv(zipfile.ZipFile('ctr_15.zip').open('ctr_15.csv')), pd.read_csv(zipfile.ZipFile('ctr_16.zip').open('ctr_16.csv')),pd.read_csv(zipfile.ZipFile('ctr_17.zip').open('ctr_17.csv')),pd.read_csv(zipfile.ZipFile('ctr_18.zip').open('ctr_18.csv')),pd.read_csv(zipfile.ZipFile('ctr_19.zip').open('ctr_19.csv')),pd.read_csv(zipfile.ZipFile('ctr_20.zip').open('ctr_20.csv')), pd.read_csv(zipfile.ZipFile('ctr_21.zip').open('ctr_21.csv'))],axis=0)\n"
      ],
      "execution_count": 0,
      "outputs": []
    },
    {
      "metadata": {
        "id": "PiRail7cN9Xn",
        "colab_type": "code",
        "colab": {}
      },
      "cell_type": "code",
      "source": [
        "##tamaño del df en GB\n",
        "import sys\n",
        "dfFull.memory_usage(index=True).sum()/1000000000 #giga\n",
        "#float(sys.getsizeof(dfFull)) \n"
      ],
      "execution_count": 0,
      "outputs": []
    },
    {
      "metadata": {
        "id": "jRLrFkz1Iozb",
        "colab_type": "code",
        "colab": {}
      },
      "cell_type": "code",
      "source": [
        "%reset dfFull"
      ],
      "execution_count": 0,
      "outputs": []
    },
    {
      "metadata": {
        "id": "MgAa5gJfI5mo",
        "colab_type": "code",
        "colab": {}
      },
      "cell_type": "code",
      "source": [
        "dict=dfFull.to_dict()\n"
      ],
      "execution_count": 0,
      "outputs": []
    },
    {
      "metadata": {
        "id": "vFr2SIgXSQbR",
        "colab_type": "code",
        "colab": {}
      },
      "cell_type": "code",
      "source": [
        "\n"
      ],
      "execution_count": 0,
      "outputs": []
    },
    {
      "metadata": {
        "id": "ZQ1Oxm9vK0N1",
        "colab_type": "code",
        "colab": {}
      },
      "cell_type": "code",
      "source": [
        "dfFull.sample(10)"
      ],
      "execution_count": 0,
      "outputs": []
    },
    {
      "metadata": {
        "id": "-B_gOO5DP8_r",
        "colab_type": "code",
        "colab": {}
      },
      "cell_type": "code",
      "source": [
        "dfFull.shape"
      ],
      "execution_count": 0,
      "outputs": []
    },
    {
      "metadata": {
        "id": "R9ddXkWvQB25",
        "colab_type": "code",
        "colab": {}
      },
      "cell_type": "code",
      "source": [
        ""
      ],
      "execution_count": 0,
      "outputs": []
    }
  ]
}